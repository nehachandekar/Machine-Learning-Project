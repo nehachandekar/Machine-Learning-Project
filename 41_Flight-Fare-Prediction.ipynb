{
 "cells": [
  {
   "cell_type": "code",
   "execution_count": 1,
   "id": "463627b3",
   "metadata": {
    "execution": {
     "iopub.execute_input": "2024-02-27T06:21:36.866787Z",
     "iopub.status.busy": "2024-02-27T06:21:36.865862Z",
     "iopub.status.idle": "2024-02-27T06:21:40.169387Z",
     "shell.execute_reply": "2024-02-27T06:21:40.167955Z"
    },
    "papermill": {
     "duration": 3.339472,
     "end_time": "2024-02-27T06:21:40.172615",
     "exception": false,
     "start_time": "2024-02-27T06:21:36.833143",
     "status": "completed"
    },
    "tags": []
   },
   "outputs": [],
   "source": [
    "#importing libraries\n",
    "import pandas as pd \n",
    "import numpy as np \n",
    "import seaborn as sns \n",
    "import matplotlib.pyplot as plt\n",
    "from sklearn.preprocessing import StandardScaler\n",
    "from sklearn.model_selection import train_test_split,GridSearchCV\n",
    "from sklearn.metrics import accuracy_score,confusion_matrix\n",
    "\n",
    "import warnings\n",
    "warnings.filterwarnings('ignore')\n"
   ]
  },
  {
   "cell_type": "code",
   "execution_count": 2,
   "id": "08a7a288",
   "metadata": {
    "execution": {
     "iopub.execute_input": "2024-02-27T06:21:40.385363Z",
     "iopub.status.busy": "2024-02-27T06:21:40.384157Z",
     "iopub.status.idle": "2024-02-27T06:21:57.908382Z",
     "shell.execute_reply": "2024-02-27T06:21:57.906811Z"
    },
    "papermill": {
     "duration": 17.564175,
     "end_time": "2024-02-27T06:21:57.911413",
     "exception": false,
     "start_time": "2024-02-27T06:21:40.347238",
     "status": "completed"
    },
    "tags": []
   },
   "outputs": [
    {
     "name": "stdout",
     "output_type": "stream",
     "text": [
      "Defaulting to user installation because normal site-packages is not writeable\n",
      "Requirement already satisfied: openpyxl in c:\\programdata\\anaconda3\\lib\\site-packages (3.0.10)\n",
      "Requirement already satisfied: et_xmlfile in c:\\programdata\\anaconda3\\lib\\site-packages (from openpyxl) (1.1.0)\n"
     ]
    }
   ],
   "source": [
    "# Installing to openpyxl to read excel files of all versions:\n",
    "!pip install openpyxl"
   ]
  },
  {
   "cell_type": "code",
   "execution_count": 3,
   "id": "35ef8779",
   "metadata": {
    "execution": {
     "iopub.execute_input": "2024-02-27T06:21:57.976045Z",
     "iopub.status.busy": "2024-02-27T06:21:57.975622Z",
     "iopub.status.idle": "2024-02-27T06:22:01.196115Z",
     "shell.execute_reply": "2024-02-27T06:22:01.194723Z"
    },
    "papermill": {
     "duration": 3.25803,
     "end_time": "2024-02-27T06:22:01.198993",
     "exception": false,
     "start_time": "2024-02-27T06:21:57.940963",
     "status": "completed"
    },
    "tags": []
   },
   "outputs": [
    {
     "data": {
      "text/html": [
       "<div>\n",
       "<style scoped>\n",
       "    .dataframe tbody tr th:only-of-type {\n",
       "        vertical-align: middle;\n",
       "    }\n",
       "\n",
       "    .dataframe tbody tr th {\n",
       "        vertical-align: top;\n",
       "    }\n",
       "\n",
       "    .dataframe thead th {\n",
       "        text-align: right;\n",
       "    }\n",
       "</style>\n",
       "<table border=\"1\" class=\"dataframe\">\n",
       "  <thead>\n",
       "    <tr style=\"text-align: right;\">\n",
       "      <th></th>\n",
       "      <th>Airline</th>\n",
       "      <th>Date_of_Journey</th>\n",
       "      <th>Source</th>\n",
       "      <th>Destination</th>\n",
       "      <th>Route</th>\n",
       "      <th>Dep_Time</th>\n",
       "      <th>Arrival_Time</th>\n",
       "      <th>Duration</th>\n",
       "      <th>Total_Stops</th>\n",
       "      <th>Additional_Info</th>\n",
       "      <th>Price</th>\n",
       "    </tr>\n",
       "  </thead>\n",
       "  <tbody>\n",
       "    <tr>\n",
       "      <th>0</th>\n",
       "      <td>IndiGo</td>\n",
       "      <td>24/03/2019</td>\n",
       "      <td>Banglore</td>\n",
       "      <td>New Delhi</td>\n",
       "      <td>BLR → DEL</td>\n",
       "      <td>22:20</td>\n",
       "      <td>01:10 22 Mar</td>\n",
       "      <td>2h 50m</td>\n",
       "      <td>non-stop</td>\n",
       "      <td>No info</td>\n",
       "      <td>3897</td>\n",
       "    </tr>\n",
       "    <tr>\n",
       "      <th>1</th>\n",
       "      <td>Air India</td>\n",
       "      <td>1/05/2019</td>\n",
       "      <td>Kolkata</td>\n",
       "      <td>Banglore</td>\n",
       "      <td>CCU → IXR → BBI → BLR</td>\n",
       "      <td>05:50</td>\n",
       "      <td>13:15</td>\n",
       "      <td>7h 25m</td>\n",
       "      <td>2 stops</td>\n",
       "      <td>No info</td>\n",
       "      <td>7662</td>\n",
       "    </tr>\n",
       "    <tr>\n",
       "      <th>2</th>\n",
       "      <td>Jet Airways</td>\n",
       "      <td>9/06/2019</td>\n",
       "      <td>Delhi</td>\n",
       "      <td>Cochin</td>\n",
       "      <td>DEL → LKO → BOM → COK</td>\n",
       "      <td>09:25</td>\n",
       "      <td>04:25 10 Jun</td>\n",
       "      <td>19h</td>\n",
       "      <td>2 stops</td>\n",
       "      <td>No info</td>\n",
       "      <td>13882</td>\n",
       "    </tr>\n",
       "    <tr>\n",
       "      <th>3</th>\n",
       "      <td>IndiGo</td>\n",
       "      <td>12/05/2019</td>\n",
       "      <td>Kolkata</td>\n",
       "      <td>Banglore</td>\n",
       "      <td>CCU → NAG → BLR</td>\n",
       "      <td>18:05</td>\n",
       "      <td>23:30</td>\n",
       "      <td>5h 25m</td>\n",
       "      <td>1 stop</td>\n",
       "      <td>No info</td>\n",
       "      <td>6218</td>\n",
       "    </tr>\n",
       "    <tr>\n",
       "      <th>4</th>\n",
       "      <td>IndiGo</td>\n",
       "      <td>01/03/2019</td>\n",
       "      <td>Banglore</td>\n",
       "      <td>New Delhi</td>\n",
       "      <td>BLR → NAG → DEL</td>\n",
       "      <td>16:50</td>\n",
       "      <td>21:35</td>\n",
       "      <td>4h 45m</td>\n",
       "      <td>1 stop</td>\n",
       "      <td>No info</td>\n",
       "      <td>13302</td>\n",
       "    </tr>\n",
       "  </tbody>\n",
       "</table>\n",
       "</div>"
      ],
      "text/plain": [
       "       Airline Date_of_Journey    Source Destination                  Route  \\\n",
       "0       IndiGo      24/03/2019  Banglore   New Delhi              BLR → DEL   \n",
       "1    Air India       1/05/2019   Kolkata    Banglore  CCU → IXR → BBI → BLR   \n",
       "2  Jet Airways       9/06/2019     Delhi      Cochin  DEL → LKO → BOM → COK   \n",
       "3       IndiGo      12/05/2019   Kolkata    Banglore        CCU → NAG → BLR   \n",
       "4       IndiGo      01/03/2019  Banglore   New Delhi        BLR → NAG → DEL   \n",
       "\n",
       "  Dep_Time  Arrival_Time Duration Total_Stops Additional_Info  Price  \n",
       "0    22:20  01:10 22 Mar   2h 50m    non-stop         No info   3897  \n",
       "1    05:50         13:15   7h 25m     2 stops         No info   7662  \n",
       "2    09:25  04:25 10 Jun      19h     2 stops         No info  13882  \n",
       "3    18:05         23:30   5h 25m      1 stop         No info   6218  \n",
       "4    16:50         21:35   4h 45m      1 stop         No info  13302  "
      ]
     },
     "execution_count": 3,
     "metadata": {},
     "output_type": "execute_result"
    }
   ],
   "source": [
    "#importing data\n",
    "df=pd.read_excel('Data_Train.xlsx')\n",
    "df.head()"
   ]
  },
  {
   "cell_type": "code",
   "execution_count": 4,
   "id": "5b5d528a",
   "metadata": {
    "execution": {
     "iopub.execute_input": "2024-02-27T06:22:01.394876Z",
     "iopub.status.busy": "2024-02-27T06:22:01.394297Z",
     "iopub.status.idle": "2024-02-27T06:22:01.437816Z",
     "shell.execute_reply": "2024-02-27T06:22:01.436372Z"
    },
    "papermill": {
     "duration": 0.147759,
     "end_time": "2024-02-27T06:22:01.440518",
     "exception": false,
     "start_time": "2024-02-27T06:22:01.292759",
     "status": "completed"
    },
    "tags": []
   },
   "outputs": [
    {
     "name": "stdout",
     "output_type": "stream",
     "text": [
      "<class 'pandas.core.frame.DataFrame'>\n",
      "RangeIndex: 10683 entries, 0 to 10682\n",
      "Data columns (total 11 columns):\n",
      " #   Column           Non-Null Count  Dtype \n",
      "---  ------           --------------  ----- \n",
      " 0   Airline          10683 non-null  object\n",
      " 1   Date_of_Journey  10683 non-null  object\n",
      " 2   Source           10683 non-null  object\n",
      " 3   Destination      10683 non-null  object\n",
      " 4   Route            10682 non-null  object\n",
      " 5   Dep_Time         10683 non-null  object\n",
      " 6   Arrival_Time     10683 non-null  object\n",
      " 7   Duration         10683 non-null  object\n",
      " 8   Total_Stops      10682 non-null  object\n",
      " 9   Additional_Info  10683 non-null  object\n",
      " 10  Price            10683 non-null  int64 \n",
      "dtypes: int64(1), object(10)\n",
      "memory usage: 918.2+ KB\n"
     ]
    }
   ],
   "source": [
    "#information about the data\n",
    "df.info()   "
   ]
  },
  {
   "cell_type": "code",
   "execution_count": 5,
   "id": "ccfed5a6",
   "metadata": {
    "execution": {
     "iopub.execute_input": "2024-02-27T06:22:01.503840Z",
     "iopub.status.busy": "2024-02-27T06:22:01.503355Z",
     "iopub.status.idle": "2024-02-27T06:22:01.520668Z",
     "shell.execute_reply": "2024-02-27T06:22:01.519516Z"
    },
    "papermill": {
     "duration": 0.052279,
     "end_time": "2024-02-27T06:22:01.523439",
     "exception": false,
     "start_time": "2024-02-27T06:22:01.471160",
     "status": "completed"
    },
    "tags": []
   },
   "outputs": [
    {
     "data": {
      "text/html": [
       "<div>\n",
       "<style scoped>\n",
       "    .dataframe tbody tr th:only-of-type {\n",
       "        vertical-align: middle;\n",
       "    }\n",
       "\n",
       "    .dataframe tbody tr th {\n",
       "        vertical-align: top;\n",
       "    }\n",
       "\n",
       "    .dataframe thead th {\n",
       "        text-align: right;\n",
       "    }\n",
       "</style>\n",
       "<table border=\"1\" class=\"dataframe\">\n",
       "  <thead>\n",
       "    <tr style=\"text-align: right;\">\n",
       "      <th></th>\n",
       "      <th>Price</th>\n",
       "    </tr>\n",
       "  </thead>\n",
       "  <tbody>\n",
       "    <tr>\n",
       "      <th>count</th>\n",
       "      <td>10683.000000</td>\n",
       "    </tr>\n",
       "    <tr>\n",
       "      <th>mean</th>\n",
       "      <td>9087.064121</td>\n",
       "    </tr>\n",
       "    <tr>\n",
       "      <th>std</th>\n",
       "      <td>4611.359167</td>\n",
       "    </tr>\n",
       "    <tr>\n",
       "      <th>min</th>\n",
       "      <td>1759.000000</td>\n",
       "    </tr>\n",
       "    <tr>\n",
       "      <th>25%</th>\n",
       "      <td>5277.000000</td>\n",
       "    </tr>\n",
       "    <tr>\n",
       "      <th>50%</th>\n",
       "      <td>8372.000000</td>\n",
       "    </tr>\n",
       "    <tr>\n",
       "      <th>75%</th>\n",
       "      <td>12373.000000</td>\n",
       "    </tr>\n",
       "    <tr>\n",
       "      <th>max</th>\n",
       "      <td>79512.000000</td>\n",
       "    </tr>\n",
       "  </tbody>\n",
       "</table>\n",
       "</div>"
      ],
      "text/plain": [
       "              Price\n",
       "count  10683.000000\n",
       "mean    9087.064121\n",
       "std     4611.359167\n",
       "min     1759.000000\n",
       "25%     5277.000000\n",
       "50%     8372.000000\n",
       "75%    12373.000000\n",
       "max    79512.000000"
      ]
     },
     "execution_count": 5,
     "metadata": {},
     "output_type": "execute_result"
    }
   ],
   "source": [
    "#describe about the data\n",
    "df.describe()"
   ]
  },
  {
   "cell_type": "code",
   "execution_count": 6,
   "id": "09589207",
   "metadata": {
    "execution": {
     "iopub.execute_input": "2024-02-27T06:22:01.587826Z",
     "iopub.status.busy": "2024-02-27T06:22:01.587373Z",
     "iopub.status.idle": "2024-02-27T06:22:01.594523Z",
     "shell.execute_reply": "2024-02-27T06:22:01.593358Z"
    },
    "papermill": {
     "duration": 0.042371,
     "end_time": "2024-02-27T06:22:01.597041",
     "exception": false,
     "start_time": "2024-02-27T06:22:01.554670",
     "status": "completed"
    },
    "tags": []
   },
   "outputs": [
    {
     "data": {
      "text/plain": [
       "(10683, 11)"
      ]
     },
     "execution_count": 6,
     "metadata": {},
     "output_type": "execute_result"
    }
   ],
   "source": [
    "df.shape"
   ]
  },
  {
   "cell_type": "markdown",
   "id": "318f2d39",
   "metadata": {},
   "source": [
    "Handling Missing Values"
   ]
  },
  {
   "cell_type": "code",
   "execution_count": 7,
   "id": "995f5c36",
   "metadata": {
    "execution": {
     "iopub.execute_input": "2024-02-27T06:22:01.725229Z",
     "iopub.status.busy": "2024-02-27T06:22:01.724800Z",
     "iopub.status.idle": "2024-02-27T06:22:01.746799Z",
     "shell.execute_reply": "2024-02-27T06:22:01.745572Z"
    },
    "papermill": {
     "duration": 0.057793,
     "end_time": "2024-02-27T06:22:01.749727",
     "exception": false,
     "start_time": "2024-02-27T06:22:01.691934",
     "status": "completed"
    },
    "tags": []
   },
   "outputs": [
    {
     "data": {
      "text/plain": [
       "Airline            0\n",
       "Date_of_Journey    0\n",
       "Source             0\n",
       "Destination        0\n",
       "Route              1\n",
       "Dep_Time           0\n",
       "Arrival_Time       0\n",
       "Duration           0\n",
       "Total_Stops        1\n",
       "Additional_Info    0\n",
       "Price              0\n",
       "dtype: int64"
      ]
     },
     "execution_count": 7,
     "metadata": {},
     "output_type": "execute_result"
    }
   ],
   "source": [
    "#finding the null values\n",
    "df.isnull().sum()"
   ]
  },
  {
   "cell_type": "code",
   "execution_count": 8,
   "id": "0dff4ce9",
   "metadata": {},
   "outputs": [
    {
     "name": "stdout",
     "output_type": "stream",
     "text": [
      "Defaulting to user installation because normal site-packages is not writeable\n",
      "Requirement already satisfied: missingno in c:\\users\\nehac\\appdata\\roaming\\python\\python39\\site-packages (0.5.2)\n",
      "Requirement already satisfied: numpy in c:\\users\\nehac\\appdata\\roaming\\python\\python39\\site-packages (from missingno) (1.24.4)\n",
      "Requirement already satisfied: matplotlib in c:\\users\\nehac\\appdata\\roaming\\python\\python39\\site-packages (from missingno) (3.7.2)\n",
      "Requirement already satisfied: scipy in c:\\programdata\\anaconda3\\lib\\site-packages (from missingno) (1.9.1)\n",
      "Requirement already satisfied: seaborn in c:\\programdata\\anaconda3\\lib\\site-packages (from missingno) (0.11.2)\n",
      "Requirement already satisfied: contourpy>=1.0.1 in c:\\users\\nehac\\appdata\\roaming\\python\\python39\\site-packages (from matplotlib->missingno) (1.1.0)\n",
      "Requirement already satisfied: cycler>=0.10 in c:\\users\\nehac\\appdata\\roaming\\python\\python39\\site-packages (from matplotlib->missingno) (0.10.0)\n",
      "Requirement already satisfied: fonttools>=4.22.0 in c:\\programdata\\anaconda3\\lib\\site-packages (from matplotlib->missingno) (4.25.0)\n",
      "Requirement already satisfied: kiwisolver>=1.0.1 in c:\\programdata\\anaconda3\\lib\\site-packages (from matplotlib->missingno) (1.4.2)\n",
      "Requirement already satisfied: packaging>=20.0 in c:\\programdata\\anaconda3\\lib\\site-packages (from matplotlib->missingno) (21.3)\n",
      "Requirement already satisfied: pillow>=6.2.0 in c:\\users\\nehac\\appdata\\roaming\\python\\python39\\site-packages (from matplotlib->missingno) (8.4.0)\n",
      "Requirement already satisfied: pyparsing<3.1,>=2.3.1 in c:\\users\\nehac\\appdata\\roaming\\python\\python39\\site-packages (from matplotlib->missingno) (3.0.9)\n",
      "Requirement already satisfied: python-dateutil>=2.7 in c:\\programdata\\anaconda3\\lib\\site-packages (from matplotlib->missingno) (2.8.2)\n",
      "Requirement already satisfied: importlib-resources>=3.2.0 in c:\\users\\nehac\\appdata\\roaming\\python\\python39\\site-packages (from matplotlib->missingno) (6.0.1)\n",
      "Requirement already satisfied: pandas>=0.23 in c:\\programdata\\anaconda3\\lib\\site-packages (from seaborn->missingno) (1.4.4)\n",
      "Requirement already satisfied: six in c:\\programdata\\anaconda3\\lib\\site-packages (from cycler>=0.10->matplotlib->missingno) (1.16.0)\n",
      "Requirement already satisfied: zipp>=3.1.0 in c:\\programdata\\anaconda3\\lib\\site-packages (from importlib-resources>=3.2.0->matplotlib->missingno) (3.8.0)\n",
      "Requirement already satisfied: pytz>=2020.1 in c:\\programdata\\anaconda3\\lib\\site-packages (from pandas>=0.23->seaborn->missingno) (2022.1)\n"
     ]
    }
   ],
   "source": [
    "!pip install missingno"
   ]
  },
  {
   "cell_type": "code",
   "execution_count": 9,
   "id": "bdb9af09",
   "metadata": {
    "execution": {
     "iopub.execute_input": "2024-02-27T06:22:01.813825Z",
     "iopub.status.busy": "2024-02-27T06:22:01.813394Z",
     "iopub.status.idle": "2024-02-27T06:22:03.155256Z",
     "shell.execute_reply": "2024-02-27T06:22:03.154080Z"
    },
    "papermill": {
     "duration": 1.377767,
     "end_time": "2024-02-27T06:22:03.158756",
     "exception": false,
     "start_time": "2024-02-27T06:22:01.780989",
     "status": "completed"
    },
    "tags": []
   },
   "outputs": [
    {
     "data": {
      "text/plain": [
       "<function matplotlib.pyplot.show(close=None, block=None)>"
      ]
     },
     "execution_count": 9,
     "metadata": {},
     "output_type": "execute_result"
    },
    {
     "data": {
      "image/png": "[encoded data removed]",
      "text/plain": [
       "<Figure size 2500x1000 with 3 Axes>"
      ]
     },
     "metadata": {},
     "output_type": "display_data"
    }
   ],
   "source": [
    "#Visual representation of NULL values:\n",
    "import missingno as msno\n",
    "msno.bar(df)\n",
    "plt.show"
   ]
  },
  {
   "cell_type": "markdown",
   "id": "4eae188b",
   "metadata": {
    "papermill": {
     "duration": 0.033599,
     "end_time": "2024-02-27T06:22:03.224899",
     "exception": false,
     "start_time": "2024-02-27T06:22:03.191300",
     "status": "completed"
    },
    "tags": []
   },
   "source": [
    "<a id = '5.5'></a>\n",
    "<p style = \"font-size : 20px; color : #000000 ; font-family : 'Arial MT'; border-radius: 5px 5px;\">There are Missing Values in TWO of the columns - Route, Total_Stops.</p>\n",
    "\n",
    "* <a id = '5.5'></a>\n",
    "<p style = \"font-size : 20px; color : #000000 ; font-family : 'Arial MT'; border-radius: 5px 5px;\">As there are very few NULL values in the dataset, their direct deletion would have negligible impact on our subsequent processing steps.</p>"
   ]
  },
  {
   "cell_type": "code",
   "execution_count": 10,
   "id": "44bdfbe9",
   "metadata": {
    "execution": {
     "iopub.execute_input": "2024-02-27T06:22:03.292061Z",
     "iopub.status.busy": "2024-02-27T06:22:03.291661Z",
     "iopub.status.idle": "2024-02-27T06:22:03.313062Z",
     "shell.execute_reply": "2024-02-27T06:22:03.312153Z"
    },
    "papermill": {
     "duration": 0.058585,
     "end_time": "2024-02-27T06:22:03.315563",
     "exception": false,
     "start_time": "2024-02-27T06:22:03.256978",
     "status": "completed"
    },
    "tags": []
   },
   "outputs": [],
   "source": [
    "#drop the nullvalues\n",
    "df.dropna(inplace=True)"
   ]
  },
  {
   "cell_type": "code",
   "execution_count": 11,
   "id": "9ba00e72",
   "metadata": {
    "execution": {
     "iopub.execute_input": "2024-02-27T06:22:03.384725Z",
     "iopub.status.busy": "2024-02-27T06:22:03.383785Z",
     "iopub.status.idle": "2024-02-27T06:22:03.403781Z",
     "shell.execute_reply": "2024-02-27T06:22:03.402832Z"
    },
    "papermill": {
     "duration": 0.058038,
     "end_time": "2024-02-27T06:22:03.406291",
     "exception": false,
     "start_time": "2024-02-27T06:22:03.348253",
     "status": "completed"
    },
    "tags": []
   },
   "outputs": [
    {
     "data": {
      "text/plain": [
       "Airline            0\n",
       "Date_of_Journey    0\n",
       "Source             0\n",
       "Destination        0\n",
       "Route              0\n",
       "Dep_Time           0\n",
       "Arrival_Time       0\n",
       "Duration           0\n",
       "Total_Stops        0\n",
       "Additional_Info    0\n",
       "Price              0\n",
       "dtype: int64"
      ]
     },
     "execution_count": 11,
     "metadata": {},
     "output_type": "execute_result"
    }
   ],
   "source": [
    "#Check again - to confirm whether deleted or not:\n",
    "df.isnull().sum()"
   ]
  },
  {
   "cell_type": "markdown",
   "id": "c6069a01",
   "metadata": {
    "papermill": {
     "duration": 0.032441,
     "end_time": "2024-02-27T06:22:03.471504",
     "exception": false,
     "start_time": "2024-02-27T06:22:03.439063",
     "status": "completed"
    },
    "tags": []
   },
   "source": [
    "* <a id = '5.5'></a>\n",
    "<p style = \"font-size : 20px; color : #000000 ; font-family : 'Arial MT'; border-radius: 5px 5px;\">The NULL values are deleted/handlled.</p>"
   ]
  },
  {
   "cell_type": "markdown",
   "id": "614b6ce3",
   "metadata": {},
   "source": [
    "Data Preprocessing"
   ]
  },
  {
   "cell_type": "code",
   "execution_count": 12,
   "id": "110f83c0",
   "metadata": {
    "execution": {
     "iopub.execute_input": "2024-02-27T06:22:03.606304Z",
     "iopub.status.busy": "2024-02-27T06:22:03.605861Z",
     "iopub.status.idle": "2024-02-27T06:22:03.613837Z",
     "shell.execute_reply": "2024-02-27T06:22:03.612724Z"
    },
    "papermill": {
     "duration": 0.045151,
     "end_time": "2024-02-27T06:22:03.616666",
     "exception": false,
     "start_time": "2024-02-27T06:22:03.571515",
     "status": "completed"
    },
    "tags": []
   },
   "outputs": [
    {
     "data": {
      "text/plain": [
       "Airline            object\n",
       "Date_of_Journey    object\n",
       "Source             object\n",
       "Destination        object\n",
       "Route              object\n",
       "Dep_Time           object\n",
       "Arrival_Time       object\n",
       "Duration           object\n",
       "Total_Stops        object\n",
       "Additional_Info    object\n",
       "Price               int64\n",
       "dtype: object"
      ]
     },
     "execution_count": 12,
     "metadata": {},
     "output_type": "execute_result"
    }
   ],
   "source": [
    "#Check for datatypes of Columns - Make changes if required.\n",
    "df.dtypes"
   ]
  },
  {
   "cell_type": "markdown",
   "id": "344921eb",
   "metadata": {
    "papermill": {
     "duration": 0.032336,
     "end_time": "2024-02-27T06:22:03.682343",
     "exception": false,
     "start_time": "2024-02-27T06:22:03.650007",
     "status": "completed"
    },
    "tags": []
   },
   "source": [
    "<a id = '5.5'></a>\n",
    "<p style = \"font-size : 20px; color : #000000 ; font-family : 'Arial MT'; border-radius: 5px 5px;\">There are COLUMNS whose datatypes are not appropriate according its values. To ensure accurate predictions, we'll convert the data types of 'Date_of_journey', 'Arrival_Time', and 'Dep_Time' from object to date and time formats. This conversion will enable us to extract specific components such as day and month effectively:</p>\n",
    "\n",
    "* <a id = '5.5'></a>\n",
    "<p style = \"font-size : 20px; color : #000000 ; font-family : 'Arial MT'; border-radius: 5px 5px;\">Using dt.day allows us to extract the day component from the date.</p>\n",
    "* <a id = '5.5'></a>\n",
    "<p style = \"font-size : 20px; color : #000000 ; font-family : 'Arial MT'; border-radius: 5px 5px;\">Similarly, dt.month enables us to extract the month component from the date.</p>"
   ]
  },
  {
   "cell_type": "code",
   "execution_count": 13,
   "id": "a42b1451",
   "metadata": {
    "execution": {
     "iopub.execute_input": "2024-02-27T06:22:03.751130Z",
     "iopub.status.busy": "2024-02-27T06:22:03.750002Z",
     "iopub.status.idle": "2024-02-27T06:22:03.756065Z",
     "shell.execute_reply": "2024-02-27T06:22:03.754933Z"
    },
    "papermill": {
     "duration": 0.042797,
     "end_time": "2024-02-27T06:22:03.758539",
     "exception": false,
     "start_time": "2024-02-27T06:22:03.715742",
     "status": "completed"
    },
    "tags": []
   },
   "outputs": [],
   "source": [
    "#Create a function to change the datatype to its appropriate type:\n",
    "def change_into_datetime(col):\n",
    "    df[col]=pd.to_datetime(df[col])"
   ]
  },
  {
   "cell_type": "code",
   "execution_count": 14,
   "id": "cd1e4af1",
   "metadata": {
    "execution": {
     "iopub.execute_input": "2024-02-27T06:22:03.826381Z",
     "iopub.status.busy": "2024-02-27T06:22:03.825806Z",
     "iopub.status.idle": "2024-02-27T06:22:03.833176Z",
     "shell.execute_reply": "2024-02-27T06:22:03.832144Z"
    },
    "papermill": {
     "duration": 0.044245,
     "end_time": "2024-02-27T06:22:03.835636",
     "exception": false,
     "start_time": "2024-02-27T06:22:03.791391",
     "status": "completed"
    },
    "tags": []
   },
   "outputs": [
    {
     "data": {
      "text/plain": [
       "Index(['Airline', 'Date_of_Journey', 'Source', 'Destination', 'Route',\n",
       "       'Dep_Time', 'Arrival_Time', 'Duration', 'Total_Stops',\n",
       "       'Additional_Info', 'Price'],\n",
       "      dtype='object')"
      ]
     },
     "execution_count": 14,
     "metadata": {},
     "output_type": "execute_result"
    }
   ],
   "source": [
    "#List of Columns:\n",
    "df.columns"
   ]
  },
  {
   "cell_type": "code",
   "execution_count": 15,
   "id": "aa1ab23b",
   "metadata": {
    "execution": {
     "iopub.execute_input": "2024-02-27T06:22:03.903947Z",
     "iopub.status.busy": "2024-02-27T06:22:03.903439Z",
     "iopub.status.idle": "2024-02-27T06:22:04.040244Z",
     "shell.execute_reply": "2024-02-27T06:22:04.039136Z"
    },
    "papermill": {
     "duration": 0.174276,
     "end_time": "2024-02-27T06:22:04.043348",
     "exception": false,
     "start_time": "2024-02-27T06:22:03.869072",
     "status": "completed"
    },
    "tags": []
   },
   "outputs": [],
   "source": [
    "#Iterate through all the columns for changing thier dataypes using the above function:\n",
    "for i in ['Date_of_Journey','Dep_Time', 'Arrival_Time']:\n",
    "    change_into_datetime(i)"
   ]
  },
  {
   "cell_type": "code",
   "execution_count": 16,
   "id": "e3b00c67",
   "metadata": {
    "execution": {
     "iopub.execute_input": "2024-02-27T06:22:04.112828Z",
     "iopub.status.busy": "2024-02-27T06:22:04.112184Z",
     "iopub.status.idle": "2024-02-27T06:22:04.121972Z",
     "shell.execute_reply": "2024-02-27T06:22:04.120832Z"
    },
    "papermill": {
     "duration": 0.047704,
     "end_time": "2024-02-27T06:22:04.124330",
     "exception": false,
     "start_time": "2024-02-27T06:22:04.076626",
     "status": "completed"
    },
    "tags": []
   },
   "outputs": [
    {
     "data": {
      "text/plain": [
       "Airline                    object\n",
       "Date_of_Journey    datetime64[ns]\n",
       "Source                     object\n",
       "Destination                object\n",
       "Route                      object\n",
       "Dep_Time           datetime64[ns]\n",
       "Arrival_Time       datetime64[ns]\n",
       "Duration                   object\n",
       "Total_Stops                object\n",
       "Additional_Info            object\n",
       "Price                       int64\n",
       "dtype: object"
      ]
     },
     "execution_count": 16,
     "metadata": {},
     "output_type": "execute_result"
    }
   ],
   "source": [
    "#Check for datatypes of columns again:\n",
    "df.dtypes"
   ]
  },
  {
   "cell_type": "markdown",
   "id": "6baf226d",
   "metadata": {
    "papermill": {
     "duration": 0.032344,
     "end_time": "2024-02-27T06:22:04.189749",
     "exception": false,
     "start_time": "2024-02-27T06:22:04.157405",
     "status": "completed"
    },
    "tags": []
   },
   "source": [
    "* <p style = \"font-size : 20px; color : #000000 ; font-family : 'Arial MT'; border-radius: 5px 5px;\">After extracting the day and month from the 'Date_of_Journey' column and storing them in two separate columns, the original 'Date_of_Journey' column becomes redundant and can be dropped.</p>\n",
    " "
   ]
  },
  {
   "cell_type": "code",
   "execution_count": 17,
   "id": "32991d7b",
   "metadata": {
    "execution": {
     "iopub.execute_input": "2024-02-27T06:22:04.257738Z",
     "iopub.status.busy": "2024-02-27T06:22:04.257254Z",
     "iopub.status.idle": "2024-02-27T06:22:04.266592Z",
     "shell.execute_reply": "2024-02-27T06:22:04.265331Z"
    },
    "papermill": {
     "duration": 0.046634,
     "end_time": "2024-02-27T06:22:04.269376",
     "exception": false,
     "start_time": "2024-02-27T06:22:04.222742",
     "status": "completed"
    },
    "tags": []
   },
   "outputs": [],
   "source": [
    "df['journey_day']=df['Date_of_Journey'].dt.day\n",
    "df['journey_month']=df['Date_of_Journey'].dt.month"
   ]
  },
  {
   "cell_type": "code",
   "execution_count": 18,
   "id": "c0bffee0",
   "metadata": {
    "execution": {
     "iopub.execute_input": "2024-02-27T06:22:04.337632Z",
     "iopub.status.busy": "2024-02-27T06:22:04.337148Z",
     "iopub.status.idle": "2024-02-27T06:22:04.356971Z",
     "shell.execute_reply": "2024-02-27T06:22:04.355980Z"
    },
    "papermill": {
     "duration": 0.057086,
     "end_time": "2024-02-27T06:22:04.359606",
     "exception": false,
     "start_time": "2024-02-27T06:22:04.302520",
     "status": "completed"
    },
    "tags": []
   },
   "outputs": [
    {
     "data": {
      "text/html": [
       "<div>\n",
       "<style scoped>\n",
       "    .dataframe tbody tr th:only-of-type {\n",
       "        vertical-align: middle;\n",
       "    }\n",
       "\n",
       "    .dataframe tbody tr th {\n",
       "        vertical-align: top;\n",
       "    }\n",
       "\n",
       "    .dataframe thead th {\n",
       "        text-align: right;\n",
       "    }\n",
       "</style>\n",
       "<table border=\"1\" class=\"dataframe\">\n",
       "  <thead>\n",
       "    <tr style=\"text-align: right;\">\n",
       "      <th></th>\n",
       "      <th>Airline</th>\n",
       "      <th>Date_of_Journey</th>\n",
       "      <th>Source</th>\n",
       "      <th>Destination</th>\n",
       "      <th>Route</th>\n",
       "      <th>Dep_Time</th>\n",
       "      <th>Arrival_Time</th>\n",
       "      <th>Duration</th>\n",
       "      <th>Total_Stops</th>\n",
       "      <th>Additional_Info</th>\n",
       "      <th>Price</th>\n",
       "      <th>journey_day</th>\n",
       "      <th>journey_month</th>\n",
       "    </tr>\n",
       "  </thead>\n",
       "  <tbody>\n",
       "    <tr>\n",
       "      <th>0</th>\n",
       "      <td>IndiGo</td>\n",
       "      <td>2019-03-24</td>\n",
       "      <td>Banglore</td>\n",
       "      <td>New Delhi</td>\n",
       "      <td>BLR → DEL</td>\n",
       "      <td>2024-02-27 22:20:00</td>\n",
       "      <td>2024-03-22 01:10:00</td>\n",
       "      <td>2h 50m</td>\n",
       "      <td>non-stop</td>\n",
       "      <td>No info</td>\n",
       "      <td>3897</td>\n",
       "      <td>24</td>\n",
       "      <td>3</td>\n",
       "    </tr>\n",
       "    <tr>\n",
       "      <th>1</th>\n",
       "      <td>Air India</td>\n",
       "      <td>2019-01-05</td>\n",
       "      <td>Kolkata</td>\n",
       "      <td>Banglore</td>\n",
       "      <td>CCU → IXR → BBI → BLR</td>\n",
       "      <td>2024-02-27 05:50:00</td>\n",
       "      <td>2024-02-27 13:15:00</td>\n",
       "      <td>7h 25m</td>\n",
       "      <td>2 stops</td>\n",
       "      <td>No info</td>\n",
       "      <td>7662</td>\n",
       "      <td>5</td>\n",
       "      <td>1</td>\n",
       "    </tr>\n",
       "    <tr>\n",
       "      <th>2</th>\n",
       "      <td>Jet Airways</td>\n",
       "      <td>2019-09-06</td>\n",
       "      <td>Delhi</td>\n",
       "      <td>Cochin</td>\n",
       "      <td>DEL → LKO → BOM → COK</td>\n",
       "      <td>2024-02-27 09:25:00</td>\n",
       "      <td>2024-06-10 04:25:00</td>\n",
       "      <td>19h</td>\n",
       "      <td>2 stops</td>\n",
       "      <td>No info</td>\n",
       "      <td>13882</td>\n",
       "      <td>6</td>\n",
       "      <td>9</td>\n",
       "    </tr>\n",
       "    <tr>\n",
       "      <th>3</th>\n",
       "      <td>IndiGo</td>\n",
       "      <td>2019-12-05</td>\n",
       "      <td>Kolkata</td>\n",
       "      <td>Banglore</td>\n",
       "      <td>CCU → NAG → BLR</td>\n",
       "      <td>2024-02-27 18:05:00</td>\n",
       "      <td>2024-02-27 23:30:00</td>\n",
       "      <td>5h 25m</td>\n",
       "      <td>1 stop</td>\n",
       "      <td>No info</td>\n",
       "      <td>6218</td>\n",
       "      <td>5</td>\n",
       "      <td>12</td>\n",
       "    </tr>\n",
       "    <tr>\n",
       "      <th>4</th>\n",
       "      <td>IndiGo</td>\n",
       "      <td>2019-01-03</td>\n",
       "      <td>Banglore</td>\n",
       "      <td>New Delhi</td>\n",
       "      <td>BLR → NAG → DEL</td>\n",
       "      <td>2024-02-27 16:50:00</td>\n",
       "      <td>2024-02-27 21:35:00</td>\n",
       "      <td>4h 45m</td>\n",
       "      <td>1 stop</td>\n",
       "      <td>No info</td>\n",
       "      <td>13302</td>\n",
       "      <td>3</td>\n",
       "      <td>1</td>\n",
       "    </tr>\n",
       "  </tbody>\n",
       "</table>\n",
       "</div>"
      ],
      "text/plain": [
       "       Airline Date_of_Journey    Source Destination                  Route  \\\n",
       "0       IndiGo      2019-03-24  Banglore   New Delhi              BLR → DEL   \n",
       "1    Air India      2019-01-05   Kolkata    Banglore  CCU → IXR → BBI → BLR   \n",
       "2  Jet Airways      2019-09-06     Delhi      Cochin  DEL → LKO → BOM → COK   \n",
       "3       IndiGo      2019-12-05   Kolkata    Banglore        CCU → NAG → BLR   \n",
       "4       IndiGo      2019-01-03  Banglore   New Delhi        BLR → NAG → DEL   \n",
       "\n",
       "             Dep_Time        Arrival_Time Duration Total_Stops  \\\n",
       "0 2024-02-27 22:20:00 2024-03-22 01:10:00   2h 50m    non-stop   \n",
       "1 2024-02-27 05:50:00 2024-02-27 13:15:00   7h 25m     2 stops   \n",
       "2 2024-02-27 09:25:00 2024-06-10 04:25:00      19h     2 stops   \n",
       "3 2024-02-27 18:05:00 2024-02-27 23:30:00   5h 25m      1 stop   \n",
       "4 2024-02-27 16:50:00 2024-02-27 21:35:00   4h 45m      1 stop   \n",
       "\n",
       "  Additional_Info  Price  journey_day  journey_month  \n",
       "0         No info   3897           24              3  \n",
       "1         No info   7662            5              1  \n",
       "2         No info  13882            6              9  \n",
       "3         No info   6218            5             12  \n",
       "4         No info  13302            3              1  "
      ]
     },
     "execution_count": 18,
     "metadata": {},
     "output_type": "execute_result"
    }
   ],
   "source": [
    "df.head(5)"
   ]
  },
  {
   "cell_type": "code",
   "execution_count": 19,
   "id": "331e77a6",
   "metadata": {
    "execution": {
     "iopub.execute_input": "2024-02-27T06:22:04.431230Z",
     "iopub.status.busy": "2024-02-27T06:22:04.430828Z",
     "iopub.status.idle": "2024-02-27T06:22:04.440300Z",
     "shell.execute_reply": "2024-02-27T06:22:04.439144Z"
    },
    "papermill": {
     "duration": 0.048908,
     "end_time": "2024-02-27T06:22:04.442951",
     "exception": false,
     "start_time": "2024-02-27T06:22:04.394043",
     "status": "completed"
    },
    "tags": []
   },
   "outputs": [],
   "source": [
    "#Drop the Date_of_Journey column:\n",
    "df.drop('Date_of_Journey', axis=1, inplace=True)"
   ]
  },
  {
   "cell_type": "markdown",
   "id": "aad5c342",
   "metadata": {
    "papermill": {
     "duration": 0.033506,
     "end_time": "2024-02-27T06:22:04.510197",
     "exception": false,
     "start_time": "2024-02-27T06:22:04.476691",
     "status": "completed"
    },
    "tags": []
   },
   "source": [
    "* <p style = \"font-size : 20px; color : #000000 ; font-family : 'Arial MT'; border-radius: 5px 5px;\">We'll extract the hour and minute information from both the 'Arrival_Time' and 'Dep_Time' features and create new columns for each. Once this information is extracted, the original 'Arrival_Time' and 'Dep_Time' columns can be dropped to maintain data clarity and reduce redundancy.</p>\n",
    " \n",
    "\n"
   ]
  },
  {
   "cell_type": "code",
   "execution_count": 20,
   "id": "bb92cbce",
   "metadata": {
    "execution": {
     "iopub.execute_input": "2024-02-27T06:22:04.579813Z",
     "iopub.status.busy": "2024-02-27T06:22:04.579371Z",
     "iopub.status.idle": "2024-02-27T06:22:04.586356Z",
     "shell.execute_reply": "2024-02-27T06:22:04.585045Z"
    },
    "papermill": {
     "duration": 0.044516,
     "end_time": "2024-02-27T06:22:04.588794",
     "exception": false,
     "start_time": "2024-02-27T06:22:04.544278",
     "status": "completed"
    },
    "tags": []
   },
   "outputs": [],
   "source": [
    "# function for extracting hour and minutes\n",
    "def extract_hour(data,col):\n",
    "    data[col+'_hour']=data[col].dt.hour\n",
    "    \n",
    "def extract_min(data,col):\n",
    "    data[col+'_min']=data[col].dt.minute\n",
    "\n",
    "def drop_col(data,col):\n",
    "    data.drop(col,axis=1,inplace=True)"
   ]
  },
  {
   "cell_type": "code",
   "execution_count": 21,
   "id": "d18f5fad",
   "metadata": {
    "execution": {
     "iopub.execute_input": "2024-02-27T06:22:04.658753Z",
     "iopub.status.busy": "2024-02-27T06:22:04.657370Z",
     "iopub.status.idle": "2024-02-27T06:22:04.669300Z",
     "shell.execute_reply": "2024-02-27T06:22:04.667919Z"
    },
    "papermill": {
     "duration": 0.049766,
     "end_time": "2024-02-27T06:22:04.672237",
     "exception": false,
     "start_time": "2024-02-27T06:22:04.622471",
     "status": "completed"
    },
    "tags": []
   },
   "outputs": [],
   "source": [
    "# call the function\n",
    "# Departure time is when a plane leaves the gate. \n",
    "# Similar to Date_of_Journey we can extract values from Dep_Time\n",
    "extract_hour(df,'Dep_Time')\n",
    "\n",
    "#extracting minutes\n",
    "extract_min(df,'Dep_Time')\n",
    "\n",
    "#drop the column\n",
    "drop_col(df,'Dep_Time')"
   ]
  },
  {
   "cell_type": "code",
   "execution_count": 22,
   "id": "69f84c6f",
   "metadata": {
    "execution": {
     "iopub.execute_input": "2024-02-27T06:22:04.742286Z",
     "iopub.status.busy": "2024-02-27T06:22:04.741755Z",
     "iopub.status.idle": "2024-02-27T06:22:04.752073Z",
     "shell.execute_reply": "2024-02-27T06:22:04.751216Z"
    },
    "papermill": {
     "duration": 0.048001,
     "end_time": "2024-02-27T06:22:04.754520",
     "exception": false,
     "start_time": "2024-02-27T06:22:04.706519",
     "status": "completed"
    },
    "tags": []
   },
   "outputs": [],
   "source": [
    "#extracting hour\n",
    "extract_hour(df,'Arrival_Time')\n",
    "\n",
    "#extracting min\n",
    "extract_min(df,'Arrival_Time')\n",
    "\n",
    "#drop the column\n",
    "drop_col(df,'Arrival_Time')"
   ]
  },
  {
   "cell_type": "code",
   "execution_count": 23,
   "id": "8768c2d7",
   "metadata": {
    "execution": {
     "iopub.execute_input": "2024-02-27T06:22:04.824017Z",
     "iopub.status.busy": "2024-02-27T06:22:04.823558Z",
     "iopub.status.idle": "2024-02-27T06:22:04.841391Z",
     "shell.execute_reply": "2024-02-27T06:22:04.840544Z"
    },
    "papermill": {
     "duration": 0.055238,
     "end_time": "2024-02-27T06:22:04.843658",
     "exception": false,
     "start_time": "2024-02-27T06:22:04.788420",
     "status": "completed"
    },
    "tags": []
   },
   "outputs": [
    {
     "data": {
      "text/html": [
       "<div>\n",
       "<style scoped>\n",
       "    .dataframe tbody tr th:only-of-type {\n",
       "        vertical-align: middle;\n",
       "    }\n",
       "\n",
       "    .dataframe tbody tr th {\n",
       "        vertical-align: top;\n",
       "    }\n",
       "\n",
       "    .dataframe thead th {\n",
       "        text-align: right;\n",
       "    }\n",
       "</style>\n",
       "<table border=\"1\" class=\"dataframe\">\n",
       "  <thead>\n",
       "    <tr style=\"text-align: right;\">\n",
       "      <th></th>\n",
       "      <th>Airline</th>\n",
       "      <th>Source</th>\n",
       "      <th>Destination</th>\n",
       "      <th>Route</th>\n",
       "      <th>Duration</th>\n",
       "      <th>Total_Stops</th>\n",
       "      <th>Additional_Info</th>\n",
       "      <th>Price</th>\n",
       "      <th>journey_day</th>\n",
       "      <th>journey_month</th>\n",
       "      <th>Dep_Time_hour</th>\n",
       "      <th>Dep_Time_min</th>\n",
       "      <th>Arrival_Time_hour</th>\n",
       "      <th>Arrival_Time_min</th>\n",
       "    </tr>\n",
       "  </thead>\n",
       "  <tbody>\n",
       "    <tr>\n",
       "      <th>0</th>\n",
       "      <td>IndiGo</td>\n",
       "      <td>Banglore</td>\n",
       "      <td>New Delhi</td>\n",
       "      <td>BLR → DEL</td>\n",
       "      <td>2h 50m</td>\n",
       "      <td>non-stop</td>\n",
       "      <td>No info</td>\n",
       "      <td>3897</td>\n",
       "      <td>24</td>\n",
       "      <td>3</td>\n",
       "      <td>22</td>\n",
       "      <td>20</td>\n",
       "      <td>1</td>\n",
       "      <td>10</td>\n",
       "    </tr>\n",
       "    <tr>\n",
       "      <th>1</th>\n",
       "      <td>Air India</td>\n",
       "      <td>Kolkata</td>\n",
       "      <td>Banglore</td>\n",
       "      <td>CCU → IXR → BBI → BLR</td>\n",
       "      <td>7h 25m</td>\n",
       "      <td>2 stops</td>\n",
       "      <td>No info</td>\n",
       "      <td>7662</td>\n",
       "      <td>5</td>\n",
       "      <td>1</td>\n",
       "      <td>5</td>\n",
       "      <td>50</td>\n",
       "      <td>13</td>\n",
       "      <td>15</td>\n",
       "    </tr>\n",
       "    <tr>\n",
       "      <th>2</th>\n",
       "      <td>Jet Airways</td>\n",
       "      <td>Delhi</td>\n",
       "      <td>Cochin</td>\n",
       "      <td>DEL → LKO → BOM → COK</td>\n",
       "      <td>19h</td>\n",
       "      <td>2 stops</td>\n",
       "      <td>No info</td>\n",
       "      <td>13882</td>\n",
       "      <td>6</td>\n",
       "      <td>9</td>\n",
       "      <td>9</td>\n",
       "      <td>25</td>\n",
       "      <td>4</td>\n",
       "      <td>25</td>\n",
       "    </tr>\n",
       "    <tr>\n",
       "      <th>3</th>\n",
       "      <td>IndiGo</td>\n",
       "      <td>Kolkata</td>\n",
       "      <td>Banglore</td>\n",
       "      <td>CCU → NAG → BLR</td>\n",
       "      <td>5h 25m</td>\n",
       "      <td>1 stop</td>\n",
       "      <td>No info</td>\n",
       "      <td>6218</td>\n",
       "      <td>5</td>\n",
       "      <td>12</td>\n",
       "      <td>18</td>\n",
       "      <td>5</td>\n",
       "      <td>23</td>\n",
       "      <td>30</td>\n",
       "    </tr>\n",
       "    <tr>\n",
       "      <th>4</th>\n",
       "      <td>IndiGo</td>\n",
       "      <td>Banglore</td>\n",
       "      <td>New Delhi</td>\n",
       "      <td>BLR → NAG → DEL</td>\n",
       "      <td>4h 45m</td>\n",
       "      <td>1 stop</td>\n",
       "      <td>No info</td>\n",
       "      <td>13302</td>\n",
       "      <td>3</td>\n",
       "      <td>1</td>\n",
       "      <td>16</td>\n",
       "      <td>50</td>\n",
       "      <td>21</td>\n",
       "      <td>35</td>\n",
       "    </tr>\n",
       "  </tbody>\n",
       "</table>\n",
       "</div>"
      ],
      "text/plain": [
       "       Airline    Source Destination                  Route Duration  \\\n",
       "0       IndiGo  Banglore   New Delhi              BLR → DEL   2h 50m   \n",
       "1    Air India   Kolkata    Banglore  CCU → IXR → BBI → BLR   7h 25m   \n",
       "2  Jet Airways     Delhi      Cochin  DEL → LKO → BOM → COK      19h   \n",
       "3       IndiGo   Kolkata    Banglore        CCU → NAG → BLR   5h 25m   \n",
       "4       IndiGo  Banglore   New Delhi        BLR → NAG → DEL   4h 45m   \n",
       "\n",
       "  Total_Stops Additional_Info  Price  journey_day  journey_month  \\\n",
       "0    non-stop         No info   3897           24              3   \n",
       "1     2 stops         No info   7662            5              1   \n",
       "2     2 stops         No info  13882            6              9   \n",
       "3      1 stop         No info   6218            5             12   \n",
       "4      1 stop         No info  13302            3              1   \n",
       "\n",
       "   Dep_Time_hour  Dep_Time_min  Arrival_Time_hour  Arrival_Time_min  \n",
       "0             22            20                  1                10  \n",
       "1              5            50                 13                15  \n",
       "2              9            25                  4                25  \n",
       "3             18             5                 23                30  \n",
       "4             16            50                 21                35  "
      ]
     },
     "execution_count": 23,
     "metadata": {},
     "output_type": "execute_result"
    }
   ],
   "source": [
    "df.head()"
   ]
  },
  {
   "cell_type": "markdown",
   "id": "f6c31688",
   "metadata": {
    "papermill": {
     "duration": 0.033656,
     "end_time": "2024-02-27T06:22:04.911947",
     "exception": false,
     "start_time": "2024-02-27T06:22:04.878291",
     "status": "completed"
    },
    "tags": []
   },
   "source": [
    "* <p style = \"font-size : 20px; color : #000000 ; font-family : 'Arial MT'; border-radius: 5px 5px;\">We'll perform preprocessing on the 'Duration' column by separating the duration into hours and minutes. This involves extracting the hour and minute components from the duration and storing them in new columns.</p>"
   ]
  },
  {
   "cell_type": "code",
   "execution_count": 24,
   "id": "7e0278a5",
   "metadata": {
    "execution": {
     "iopub.execute_input": "2024-02-27T06:22:04.984360Z",
     "iopub.status.busy": "2024-02-27T06:22:04.983857Z",
     "iopub.status.idle": "2024-02-27T06:22:04.998184Z",
     "shell.execute_reply": "2024-02-27T06:22:04.996847Z"
    },
    "papermill": {
     "duration": 0.05271,
     "end_time": "2024-02-27T06:22:05.000971",
     "exception": false,
     "start_time": "2024-02-27T06:22:04.948261",
     "status": "completed"
    },
    "tags": []
   },
   "outputs": [],
   "source": [
    "duration=list(df['Duration'])\n",
    "for i in range(len(duration)):\n",
    "    if len(duration[i].split(' '))==2:\n",
    "        pass\n",
    "    else:\n",
    "        if 'h' in duration[i]: # Check if duration contains only hour\n",
    "             duration[i]=duration[i] + ' 0m' # Adds 0 minute\n",
    "        else:\n",
    "             duration[i]='0h '+ duration[i] # Adsds 0 hours"
   ]
  },
  {
   "cell_type": "code",
   "execution_count": 25,
   "id": "194e628c",
   "metadata": {
    "execution": {
     "iopub.execute_input": "2024-02-27T06:22:05.074090Z",
     "iopub.status.busy": "2024-02-27T06:22:05.073663Z",
     "iopub.status.idle": "2024-02-27T06:22:05.079287Z",
     "shell.execute_reply": "2024-02-27T06:22:05.078389Z"
    },
    "papermill": {
     "duration": 0.045763,
     "end_time": "2024-02-27T06:22:05.081796",
     "exception": false,
     "start_time": "2024-02-27T06:22:05.036033",
     "status": "completed"
    },
    "tags": []
   },
   "outputs": [],
   "source": [
    "#Store list values it into the original column:\n",
    "df['Duration']=duration"
   ]
  },
  {
   "cell_type": "code",
   "execution_count": 26,
   "id": "e9694f8b",
   "metadata": {
    "execution": {
     "iopub.execute_input": "2024-02-27T06:22:05.152379Z",
     "iopub.status.busy": "2024-02-27T06:22:05.151937Z",
     "iopub.status.idle": "2024-02-27T06:22:05.171231Z",
     "shell.execute_reply": "2024-02-27T06:22:05.169864Z"
    },
    "papermill": {
     "duration": 0.057522,
     "end_time": "2024-02-27T06:22:05.173806",
     "exception": false,
     "start_time": "2024-02-27T06:22:05.116284",
     "status": "completed"
    },
    "tags": []
   },
   "outputs": [
    {
     "data": {
      "text/html": [
       "<div>\n",
       "<style scoped>\n",
       "    .dataframe tbody tr th:only-of-type {\n",
       "        vertical-align: middle;\n",
       "    }\n",
       "\n",
       "    .dataframe tbody tr th {\n",
       "        vertical-align: top;\n",
       "    }\n",
       "\n",
       "    .dataframe thead th {\n",
       "        text-align: right;\n",
       "    }\n",
       "</style>\n",
       "<table border=\"1\" class=\"dataframe\">\n",
       "  <thead>\n",
       "    <tr style=\"text-align: right;\">\n",
       "      <th></th>\n",
       "      <th>Airline</th>\n",
       "      <th>Source</th>\n",
       "      <th>Destination</th>\n",
       "      <th>Route</th>\n",
       "      <th>Duration</th>\n",
       "      <th>Total_Stops</th>\n",
       "      <th>Additional_Info</th>\n",
       "      <th>Price</th>\n",
       "      <th>journey_day</th>\n",
       "      <th>journey_month</th>\n",
       "      <th>Dep_Time_hour</th>\n",
       "      <th>Dep_Time_min</th>\n",
       "      <th>Arrival_Time_hour</th>\n",
       "      <th>Arrival_Time_min</th>\n",
       "    </tr>\n",
       "  </thead>\n",
       "  <tbody>\n",
       "    <tr>\n",
       "      <th>0</th>\n",
       "      <td>IndiGo</td>\n",
       "      <td>Banglore</td>\n",
       "      <td>New Delhi</td>\n",
       "      <td>BLR → DEL</td>\n",
       "      <td>2h 50m</td>\n",
       "      <td>non-stop</td>\n",
       "      <td>No info</td>\n",
       "      <td>3897</td>\n",
       "      <td>24</td>\n",
       "      <td>3</td>\n",
       "      <td>22</td>\n",
       "      <td>20</td>\n",
       "      <td>1</td>\n",
       "      <td>10</td>\n",
       "    </tr>\n",
       "    <tr>\n",
       "      <th>1</th>\n",
       "      <td>Air India</td>\n",
       "      <td>Kolkata</td>\n",
       "      <td>Banglore</td>\n",
       "      <td>CCU → IXR → BBI → BLR</td>\n",
       "      <td>7h 25m</td>\n",
       "      <td>2 stops</td>\n",
       "      <td>No info</td>\n",
       "      <td>7662</td>\n",
       "      <td>5</td>\n",
       "      <td>1</td>\n",
       "      <td>5</td>\n",
       "      <td>50</td>\n",
       "      <td>13</td>\n",
       "      <td>15</td>\n",
       "    </tr>\n",
       "    <tr>\n",
       "      <th>2</th>\n",
       "      <td>Jet Airways</td>\n",
       "      <td>Delhi</td>\n",
       "      <td>Cochin</td>\n",
       "      <td>DEL → LKO → BOM → COK</td>\n",
       "      <td>19h 0m</td>\n",
       "      <td>2 stops</td>\n",
       "      <td>No info</td>\n",
       "      <td>13882</td>\n",
       "      <td>6</td>\n",
       "      <td>9</td>\n",
       "      <td>9</td>\n",
       "      <td>25</td>\n",
       "      <td>4</td>\n",
       "      <td>25</td>\n",
       "    </tr>\n",
       "    <tr>\n",
       "      <th>3</th>\n",
       "      <td>IndiGo</td>\n",
       "      <td>Kolkata</td>\n",
       "      <td>Banglore</td>\n",
       "      <td>CCU → NAG → BLR</td>\n",
       "      <td>5h 25m</td>\n",
       "      <td>1 stop</td>\n",
       "      <td>No info</td>\n",
       "      <td>6218</td>\n",
       "      <td>5</td>\n",
       "      <td>12</td>\n",
       "      <td>18</td>\n",
       "      <td>5</td>\n",
       "      <td>23</td>\n",
       "      <td>30</td>\n",
       "    </tr>\n",
       "    <tr>\n",
       "      <th>4</th>\n",
       "      <td>IndiGo</td>\n",
       "      <td>Banglore</td>\n",
       "      <td>New Delhi</td>\n",
       "      <td>BLR → NAG → DEL</td>\n",
       "      <td>4h 45m</td>\n",
       "      <td>1 stop</td>\n",
       "      <td>No info</td>\n",
       "      <td>13302</td>\n",
       "      <td>3</td>\n",
       "      <td>1</td>\n",
       "      <td>16</td>\n",
       "      <td>50</td>\n",
       "      <td>21</td>\n",
       "      <td>35</td>\n",
       "    </tr>\n",
       "  </tbody>\n",
       "</table>\n",
       "</div>"
      ],
      "text/plain": [
       "       Airline    Source Destination                  Route Duration  \\\n",
       "0       IndiGo  Banglore   New Delhi              BLR → DEL   2h 50m   \n",
       "1    Air India   Kolkata    Banglore  CCU → IXR → BBI → BLR   7h 25m   \n",
       "2  Jet Airways     Delhi      Cochin  DEL → LKO → BOM → COK   19h 0m   \n",
       "3       IndiGo   Kolkata    Banglore        CCU → NAG → BLR   5h 25m   \n",
       "4       IndiGo  Banglore   New Delhi        BLR → NAG → DEL   4h 45m   \n",
       "\n",
       "  Total_Stops Additional_Info  Price  journey_day  journey_month  \\\n",
       "0    non-stop         No info   3897           24              3   \n",
       "1     2 stops         No info   7662            5              1   \n",
       "2     2 stops         No info  13882            6              9   \n",
       "3      1 stop         No info   6218            5             12   \n",
       "4      1 stop         No info  13302            3              1   \n",
       "\n",
       "   Dep_Time_hour  Dep_Time_min  Arrival_Time_hour  Arrival_Time_min  \n",
       "0             22            20                  1                10  \n",
       "1              5            50                 13                15  \n",
       "2              9            25                  4                25  \n",
       "3             18             5                 23                30  \n",
       "4             16            50                 21                35  "
      ]
     },
     "execution_count": 26,
     "metadata": {},
     "output_type": "execute_result"
    }
   ],
   "source": [
    "df.head()"
   ]
  },
  {
   "cell_type": "code",
   "execution_count": 27,
   "id": "04b35c42",
   "metadata": {
    "execution": {
     "iopub.execute_input": "2024-02-27T06:22:05.248948Z",
     "iopub.status.busy": "2024-02-27T06:22:05.248511Z",
     "iopub.status.idle": "2024-02-27T06:22:05.255364Z",
     "shell.execute_reply": "2024-02-27T06:22:05.254074Z"
    },
    "papermill": {
     "duration": 0.045301,
     "end_time": "2024-02-27T06:22:05.257977",
     "exception": false,
     "start_time": "2024-02-27T06:22:05.212676",
     "status": "completed"
    },
    "tags": []
   },
   "outputs": [],
   "source": [
    "#Extract Hour and Minutes from the Duration Column:\n",
    "def hour(x):\n",
    "    return x.split(' ')[0][0:-1]\n",
    "\n",
    "def minutes(x):\n",
    "    return x.split(' ')[1][0:-1]"
   ]
  },
  {
   "cell_type": "code",
   "execution_count": 28,
   "id": "8b129637",
   "metadata": {
    "execution": {
     "iopub.execute_input": "2024-02-27T06:22:05.329714Z",
     "iopub.status.busy": "2024-02-27T06:22:05.329251Z",
     "iopub.status.idle": "2024-02-27T06:22:05.344470Z",
     "shell.execute_reply": "2024-02-27T06:22:05.343289Z"
    },
    "papermill": {
     "duration": 0.053972,
     "end_time": "2024-02-27T06:22:05.346996",
     "exception": false,
     "start_time": "2024-02-27T06:22:05.293024",
     "status": "completed"
    },
    "tags": []
   },
   "outputs": [],
   "source": [
    "#Apply those Functions on the Duration Column:\n",
    "df['dur_hour']=df['Duration'].apply(hour)"
   ]
  },
  {
   "cell_type": "code",
   "execution_count": 29,
   "id": "a52e9566",
   "metadata": {
    "execution": {
     "iopub.execute_input": "2024-02-27T06:22:05.420429Z",
     "iopub.status.busy": "2024-02-27T06:22:05.419948Z",
     "iopub.status.idle": "2024-02-27T06:22:05.435700Z",
     "shell.execute_reply": "2024-02-27T06:22:05.434435Z"
    },
    "papermill": {
     "duration": 0.054999,
     "end_time": "2024-02-27T06:22:05.438321",
     "exception": false,
     "start_time": "2024-02-27T06:22:05.383322",
     "status": "completed"
    },
    "tags": []
   },
   "outputs": [],
   "source": [
    "df['dur_min']=df['Duration'].apply(minutes)"
   ]
  },
  {
   "cell_type": "code",
   "execution_count": 30,
   "id": "2224714b",
   "metadata": {
    "execution": {
     "iopub.execute_input": "2024-02-27T06:22:05.510759Z",
     "iopub.status.busy": "2024-02-27T06:22:05.510299Z",
     "iopub.status.idle": "2024-02-27T06:22:05.530715Z",
     "shell.execute_reply": "2024-02-27T06:22:05.529466Z"
    },
    "papermill": {
     "duration": 0.060039,
     "end_time": "2024-02-27T06:22:05.533269",
     "exception": false,
     "start_time": "2024-02-27T06:22:05.473230",
     "status": "completed"
    },
    "tags": []
   },
   "outputs": [
    {
     "data": {
      "text/html": [
       "<div>\n",
       "<style scoped>\n",
       "    .dataframe tbody tr th:only-of-type {\n",
       "        vertical-align: middle;\n",
       "    }\n",
       "\n",
       "    .dataframe tbody tr th {\n",
       "        vertical-align: top;\n",
       "    }\n",
       "\n",
       "    .dataframe thead th {\n",
       "        text-align: right;\n",
       "    }\n",
       "</style>\n",
       "<table border=\"1\" class=\"dataframe\">\n",
       "  <thead>\n",
       "    <tr style=\"text-align: right;\">\n",
       "      <th></th>\n",
       "      <th>Airline</th>\n",
       "      <th>Source</th>\n",
       "      <th>Destination</th>\n",
       "      <th>Route</th>\n",
       "      <th>Duration</th>\n",
       "      <th>Total_Stops</th>\n",
       "      <th>Additional_Info</th>\n",
       "      <th>Price</th>\n",
       "      <th>journey_day</th>\n",
       "      <th>journey_month</th>\n",
       "      <th>Dep_Time_hour</th>\n",
       "      <th>Dep_Time_min</th>\n",
       "      <th>Arrival_Time_hour</th>\n",
       "      <th>Arrival_Time_min</th>\n",
       "      <th>dur_hour</th>\n",
       "      <th>dur_min</th>\n",
       "    </tr>\n",
       "  </thead>\n",
       "  <tbody>\n",
       "    <tr>\n",
       "      <th>0</th>\n",
       "      <td>IndiGo</td>\n",
       "      <td>Banglore</td>\n",
       "      <td>New Delhi</td>\n",
       "      <td>BLR → DEL</td>\n",
       "      <td>2h 50m</td>\n",
       "      <td>non-stop</td>\n",
       "      <td>No info</td>\n",
       "      <td>3897</td>\n",
       "      <td>24</td>\n",
       "      <td>3</td>\n",
       "      <td>22</td>\n",
       "      <td>20</td>\n",
       "      <td>1</td>\n",
       "      <td>10</td>\n",
       "      <td>2</td>\n",
       "      <td>50</td>\n",
       "    </tr>\n",
       "    <tr>\n",
       "      <th>1</th>\n",
       "      <td>Air India</td>\n",
       "      <td>Kolkata</td>\n",
       "      <td>Banglore</td>\n",
       "      <td>CCU → IXR → BBI → BLR</td>\n",
       "      <td>7h 25m</td>\n",
       "      <td>2 stops</td>\n",
       "      <td>No info</td>\n",
       "      <td>7662</td>\n",
       "      <td>5</td>\n",
       "      <td>1</td>\n",
       "      <td>5</td>\n",
       "      <td>50</td>\n",
       "      <td>13</td>\n",
       "      <td>15</td>\n",
       "      <td>7</td>\n",
       "      <td>25</td>\n",
       "    </tr>\n",
       "    <tr>\n",
       "      <th>2</th>\n",
       "      <td>Jet Airways</td>\n",
       "      <td>Delhi</td>\n",
       "      <td>Cochin</td>\n",
       "      <td>DEL → LKO → BOM → COK</td>\n",
       "      <td>19h 0m</td>\n",
       "      <td>2 stops</td>\n",
       "      <td>No info</td>\n",
       "      <td>13882</td>\n",
       "      <td>6</td>\n",
       "      <td>9</td>\n",
       "      <td>9</td>\n",
       "      <td>25</td>\n",
       "      <td>4</td>\n",
       "      <td>25</td>\n",
       "      <td>19</td>\n",
       "      <td>0</td>\n",
       "    </tr>\n",
       "    <tr>\n",
       "      <th>3</th>\n",
       "      <td>IndiGo</td>\n",
       "      <td>Kolkata</td>\n",
       "      <td>Banglore</td>\n",
       "      <td>CCU → NAG → BLR</td>\n",
       "      <td>5h 25m</td>\n",
       "      <td>1 stop</td>\n",
       "      <td>No info</td>\n",
       "      <td>6218</td>\n",
       "      <td>5</td>\n",
       "      <td>12</td>\n",
       "      <td>18</td>\n",
       "      <td>5</td>\n",
       "      <td>23</td>\n",
       "      <td>30</td>\n",
       "      <td>5</td>\n",
       "      <td>25</td>\n",
       "    </tr>\n",
       "    <tr>\n",
       "      <th>4</th>\n",
       "      <td>IndiGo</td>\n",
       "      <td>Banglore</td>\n",
       "      <td>New Delhi</td>\n",
       "      <td>BLR → NAG → DEL</td>\n",
       "      <td>4h 45m</td>\n",
       "      <td>1 stop</td>\n",
       "      <td>No info</td>\n",
       "      <td>13302</td>\n",
       "      <td>3</td>\n",
       "      <td>1</td>\n",
       "      <td>16</td>\n",
       "      <td>50</td>\n",
       "      <td>21</td>\n",
       "      <td>35</td>\n",
       "      <td>4</td>\n",
       "      <td>45</td>\n",
       "    </tr>\n",
       "  </tbody>\n",
       "</table>\n",
       "</div>"
      ],
      "text/plain": [
       "       Airline    Source Destination                  Route Duration  \\\n",
       "0       IndiGo  Banglore   New Delhi              BLR → DEL   2h 50m   \n",
       "1    Air India   Kolkata    Banglore  CCU → IXR → BBI → BLR   7h 25m   \n",
       "2  Jet Airways     Delhi      Cochin  DEL → LKO → BOM → COK   19h 0m   \n",
       "3       IndiGo   Kolkata    Banglore        CCU → NAG → BLR   5h 25m   \n",
       "4       IndiGo  Banglore   New Delhi        BLR → NAG → DEL   4h 45m   \n",
       "\n",
       "  Total_Stops Additional_Info  Price  journey_day  journey_month  \\\n",
       "0    non-stop         No info   3897           24              3   \n",
       "1     2 stops         No info   7662            5              1   \n",
       "2     2 stops         No info  13882            6              9   \n",
       "3      1 stop         No info   6218            5             12   \n",
       "4      1 stop         No info  13302            3              1   \n",
       "\n",
       "   Dep_Time_hour  Dep_Time_min  Arrival_Time_hour  Arrival_Time_min dur_hour  \\\n",
       "0             22            20                  1                10        2   \n",
       "1              5            50                 13                15        7   \n",
       "2              9            25                  4                25       19   \n",
       "3             18             5                 23                30        5   \n",
       "4             16            50                 21                35        4   \n",
       "\n",
       "  dur_min  \n",
       "0      50  \n",
       "1      25  \n",
       "2       0  \n",
       "3      25  \n",
       "4      45  "
      ]
     },
     "execution_count": 30,
     "metadata": {},
     "output_type": "execute_result"
    }
   ],
   "source": [
    "df.head()"
   ]
  },
  {
   "cell_type": "code",
   "execution_count": 31,
   "id": "f53cfc7d",
   "metadata": {
    "execution": {
     "iopub.execute_input": "2024-02-27T06:22:05.606153Z",
     "iopub.status.busy": "2024-02-27T06:22:05.605656Z",
     "iopub.status.idle": "2024-02-27T06:22:05.614241Z",
     "shell.execute_reply": "2024-02-27T06:22:05.613144Z"
    },
    "papermill": {
     "duration": 0.048296,
     "end_time": "2024-02-27T06:22:05.616981",
     "exception": false,
     "start_time": "2024-02-27T06:22:05.568685",
     "status": "completed"
    },
    "tags": []
   },
   "outputs": [],
   "source": [
    "#This is the Column which we created above. Drop the Duration Column.\n",
    "drop_col(df,'Duration')"
   ]
  },
  {
   "cell_type": "code",
   "execution_count": 32,
   "id": "eb215a18",
   "metadata": {
    "execution": {
     "iopub.execute_input": "2024-02-27T06:22:05.691797Z",
     "iopub.status.busy": "2024-02-27T06:22:05.691389Z",
     "iopub.status.idle": "2024-02-27T06:22:05.700569Z",
     "shell.execute_reply": "2024-02-27T06:22:05.699580Z"
    },
    "papermill": {
     "duration": 0.050426,
     "end_time": "2024-02-27T06:22:05.702979",
     "exception": false,
     "start_time": "2024-02-27T06:22:05.652553",
     "status": "completed"
    },
    "tags": []
   },
   "outputs": [
    {
     "data": {
      "text/plain": [
       "Airline              object\n",
       "Source               object\n",
       "Destination          object\n",
       "Route                object\n",
       "Total_Stops          object\n",
       "Additional_Info      object\n",
       "Price                 int64\n",
       "journey_day           int64\n",
       "journey_month         int64\n",
       "Dep_Time_hour         int64\n",
       "Dep_Time_min          int64\n",
       "Arrival_Time_hour     int64\n",
       "Arrival_Time_min      int64\n",
       "dur_hour             object\n",
       "dur_min              object\n",
       "dtype: object"
      ]
     },
     "execution_count": 32,
     "metadata": {},
     "output_type": "execute_result"
    }
   ],
   "source": [
    "df.dtypes"
   ]
  },
  {
   "cell_type": "markdown",
   "id": "9b259a66",
   "metadata": {
    "papermill": {
     "duration": 0.035412,
     "end_time": "2024-02-27T06:22:05.774287",
     "exception": false,
     "start_time": "2024-02-27T06:22:05.738875",
     "status": "completed"
    },
    "tags": []
   },
   "source": [
    "* <p style = \"font-size : 20px; color : #000000 ; font-family : 'Arial MT'; border-radius: 5px 5px;\">All columns have been appropriately assigned their respective data types, except for 'dur_hour' and 'dur_min'. To ensure consistency and compatibility with the dataset, we'll proceed by typecasting these columns accordingly.</p>"
   ]
  },
  {
   "cell_type": "code",
   "execution_count": 33,
   "id": "b01a1511",
   "metadata": {
    "execution": {
     "iopub.execute_input": "2024-02-27T06:22:05.846780Z",
     "iopub.status.busy": "2024-02-27T06:22:05.846374Z",
     "iopub.status.idle": "2024-02-27T06:22:05.855360Z",
     "shell.execute_reply": "2024-02-27T06:22:05.854495Z"
    },
    "papermill": {
     "duration": 0.047728,
     "end_time": "2024-02-27T06:22:05.857624",
     "exception": false,
     "start_time": "2024-02-27T06:22:05.809896",
     "status": "completed"
    },
    "tags": []
   },
   "outputs": [],
   "source": [
    "#Typecast the Columns:\n",
    "df['dur_hour'] = df['dur_hour'].astype(int)\n",
    "df['dur_min'] = df['dur_min'].astype(int)"
   ]
  },
  {
   "cell_type": "code",
   "execution_count": 34,
   "id": "48eacfdf",
   "metadata": {
    "execution": {
     "iopub.execute_input": "2024-02-27T06:22:05.929631Z",
     "iopub.status.busy": "2024-02-27T06:22:05.928850Z",
     "iopub.status.idle": "2024-02-27T06:22:05.938012Z",
     "shell.execute_reply": "2024-02-27T06:22:05.936688Z"
    },
    "papermill": {
     "duration": 0.048076,
     "end_time": "2024-02-27T06:22:05.940663",
     "exception": false,
     "start_time": "2024-02-27T06:22:05.892587",
     "status": "completed"
    },
    "tags": []
   },
   "outputs": [
    {
     "data": {
      "text/plain": [
       "Airline              object\n",
       "Source               object\n",
       "Destination          object\n",
       "Route                object\n",
       "Total_Stops          object\n",
       "Additional_Info      object\n",
       "Price                 int64\n",
       "journey_day           int64\n",
       "journey_month         int64\n",
       "Dep_Time_hour         int64\n",
       "Dep_Time_min          int64\n",
       "Arrival_Time_hour     int64\n",
       "Arrival_Time_min      int64\n",
       "dur_hour              int32\n",
       "dur_min               int32\n",
       "dtype: object"
      ]
     },
     "execution_count": 34,
     "metadata": {},
     "output_type": "execute_result"
    }
   ],
   "source": [
    "df.dtypes"
   ]
  },
  {
   "cell_type": "markdown",
   "id": "1d8ead4d",
   "metadata": {},
   "source": [
    "Handling Categorical Columns"
   ]
  },
  {
   "cell_type": "code",
   "execution_count": 35,
   "id": "1014b96a",
   "metadata": {
    "execution": {
     "iopub.execute_input": "2024-02-27T06:22:06.083832Z",
     "iopub.status.busy": "2024-02-27T06:22:06.083053Z",
     "iopub.status.idle": "2024-02-27T06:22:06.090842Z",
     "shell.execute_reply": "2024-02-27T06:22:06.089776Z"
    },
    "papermill": {
     "duration": 0.047466,
     "end_time": "2024-02-27T06:22:06.093156",
     "exception": false,
     "start_time": "2024-02-27T06:22:06.045690",
     "status": "completed"
    },
    "tags": []
   },
   "outputs": [
    {
     "data": {
      "text/plain": [
       "['Airline', 'Source', 'Destination', 'Route', 'Total_Stops', 'Additional_Info']"
      ]
     },
     "execution_count": 35,
     "metadata": {},
     "output_type": "execute_result"
    }
   ],
   "source": [
    "#Check for Object Datatype (Categorical Columns) and store it in a seperate list for easy processing:\n",
    "column=[column for column in df.columns if df[column].dtype=='object']\n",
    "column"
   ]
  },
  {
   "cell_type": "code",
   "execution_count": 36,
   "id": "d413ef9c",
   "metadata": {
    "execution": {
     "iopub.execute_input": "2024-02-27T06:22:06.165552Z",
     "iopub.status.busy": "2024-02-27T06:22:06.164836Z",
     "iopub.status.idle": "2024-02-27T06:22:06.171564Z",
     "shell.execute_reply": "2024-02-27T06:22:06.170802Z"
    },
    "papermill": {
     "duration": 0.045586,
     "end_time": "2024-02-27T06:22:06.173966",
     "exception": false,
     "start_time": "2024-02-27T06:22:06.128380",
     "status": "completed"
    },
    "tags": []
   },
   "outputs": [
    {
     "data": {
      "text/plain": [
       "['Price',\n",
       " 'journey_day',\n",
       " 'journey_month',\n",
       " 'Dep_Time_hour',\n",
       " 'Dep_Time_min',\n",
       " 'Arrival_Time_hour',\n",
       " 'Arrival_Time_min',\n",
       " 'dur_hour',\n",
       " 'dur_min']"
      ]
     },
     "execution_count": 36,
     "metadata": {},
     "output_type": "execute_result"
    }
   ],
   "source": [
    "# Seperate the continuous columns into seperate list:\n",
    "continuous_col =[column for column in df.columns if df[column].dtype!='object']\n",
    "continuous_col"
   ]
  },
  {
   "cell_type": "markdown",
   "id": "20eb8fdb",
   "metadata": {
    "papermill": {
     "duration": 0.034936,
     "end_time": "2024-02-27T06:22:06.244126",
     "exception": false,
     "start_time": "2024-02-27T06:22:06.209190",
     "status": "completed"
    },
    "tags": []
   },
   "source": [
    "<p style = \"font-size : 20px; color : #000000 ; font-family : 'Arial MT'; border-radius: 5px 5px;\">We employ two primary encoding techniques to convert categorical data into numerical formats:</p>\n",
    "\n",
    "* <p style = \"font-size : 20px; color : #000000 ; font-family : 'Arial MT'; border-radius: 5px 5px;\">For nominal data, which lacks any inherent order, we utilize one-hot encoding.</p>\n",
    "* <p style = \"font-size : 20px; color : #000000 ; font-family : 'Arial MT'; border-radius: 5px 5px;\">On the other hand, for ordinal data that possess a defined order, we opt for label encoding.</p>"
   ]
  },
  {
   "cell_type": "code",
   "execution_count": 37,
   "id": "5891996d",
   "metadata": {
    "execution": {
     "iopub.execute_input": "2024-02-27T06:22:06.317729Z",
     "iopub.status.busy": "2024-02-27T06:22:06.316999Z",
     "iopub.status.idle": "2024-02-27T06:22:06.323477Z",
     "shell.execute_reply": "2024-02-27T06:22:06.322581Z"
    },
    "papermill": {
     "duration": 0.046088,
     "end_time": "2024-02-27T06:22:06.326229",
     "exception": false,
     "start_time": "2024-02-27T06:22:06.280141",
     "status": "completed"
    },
    "tags": []
   },
   "outputs": [],
   "source": [
    "#Create a DataFrame Called Categirical with only Categorical Columns:\n",
    "categorical = df[column]"
   ]
  },
  {
   "cell_type": "code",
   "execution_count": 38,
   "id": "9a4437e5",
   "metadata": {
    "execution": {
     "iopub.execute_input": "2024-02-27T06:22:06.401566Z",
     "iopub.status.busy": "2024-02-27T06:22:06.400828Z",
     "iopub.status.idle": "2024-02-27T06:22:06.414432Z",
     "shell.execute_reply": "2024-02-27T06:22:06.413280Z"
    },
    "papermill": {
     "duration": 0.053039,
     "end_time": "2024-02-27T06:22:06.417132",
     "exception": false,
     "start_time": "2024-02-27T06:22:06.364093",
     "status": "completed"
    },
    "tags": []
   },
   "outputs": [
    {
     "data": {
      "text/html": [
       "<div>\n",
       "<style scoped>\n",
       "    .dataframe tbody tr th:only-of-type {\n",
       "        vertical-align: middle;\n",
       "    }\n",
       "\n",
       "    .dataframe tbody tr th {\n",
       "        vertical-align: top;\n",
       "    }\n",
       "\n",
       "    .dataframe thead th {\n",
       "        text-align: right;\n",
       "    }\n",
       "</style>\n",
       "<table border=\"1\" class=\"dataframe\">\n",
       "  <thead>\n",
       "    <tr style=\"text-align: right;\">\n",
       "      <th></th>\n",
       "      <th>Airline</th>\n",
       "      <th>Source</th>\n",
       "      <th>Destination</th>\n",
       "      <th>Route</th>\n",
       "      <th>Total_Stops</th>\n",
       "      <th>Additional_Info</th>\n",
       "    </tr>\n",
       "  </thead>\n",
       "  <tbody>\n",
       "    <tr>\n",
       "      <th>0</th>\n",
       "      <td>IndiGo</td>\n",
       "      <td>Banglore</td>\n",
       "      <td>New Delhi</td>\n",
       "      <td>BLR → DEL</td>\n",
       "      <td>non-stop</td>\n",
       "      <td>No info</td>\n",
       "    </tr>\n",
       "    <tr>\n",
       "      <th>1</th>\n",
       "      <td>Air India</td>\n",
       "      <td>Kolkata</td>\n",
       "      <td>Banglore</td>\n",
       "      <td>CCU → IXR → BBI → BLR</td>\n",
       "      <td>2 stops</td>\n",
       "      <td>No info</td>\n",
       "    </tr>\n",
       "    <tr>\n",
       "      <th>2</th>\n",
       "      <td>Jet Airways</td>\n",
       "      <td>Delhi</td>\n",
       "      <td>Cochin</td>\n",
       "      <td>DEL → LKO → BOM → COK</td>\n",
       "      <td>2 stops</td>\n",
       "      <td>No info</td>\n",
       "    </tr>\n",
       "    <tr>\n",
       "      <th>3</th>\n",
       "      <td>IndiGo</td>\n",
       "      <td>Kolkata</td>\n",
       "      <td>Banglore</td>\n",
       "      <td>CCU → NAG → BLR</td>\n",
       "      <td>1 stop</td>\n",
       "      <td>No info</td>\n",
       "    </tr>\n",
       "    <tr>\n",
       "      <th>4</th>\n",
       "      <td>IndiGo</td>\n",
       "      <td>Banglore</td>\n",
       "      <td>New Delhi</td>\n",
       "      <td>BLR → NAG → DEL</td>\n",
       "      <td>1 stop</td>\n",
       "      <td>No info</td>\n",
       "    </tr>\n",
       "  </tbody>\n",
       "</table>\n",
       "</div>"
      ],
      "text/plain": [
       "       Airline    Source Destination                  Route Total_Stops  \\\n",
       "0       IndiGo  Banglore   New Delhi              BLR → DEL    non-stop   \n",
       "1    Air India   Kolkata    Banglore  CCU → IXR → BBI → BLR     2 stops   \n",
       "2  Jet Airways     Delhi      Cochin  DEL → LKO → BOM → COK     2 stops   \n",
       "3       IndiGo   Kolkata    Banglore        CCU → NAG → BLR      1 stop   \n",
       "4       IndiGo  Banglore   New Delhi        BLR → NAG → DEL      1 stop   \n",
       "\n",
       "  Additional_Info  \n",
       "0         No info  \n",
       "1         No info  \n",
       "2         No info  \n",
       "3         No info  \n",
       "4         No info  "
      ]
     },
     "execution_count": 38,
     "metadata": {},
     "output_type": "execute_result"
    }
   ],
   "source": [
    "categorical.head()"
   ]
  },
  {
   "cell_type": "markdown",
   "id": "82cd30bd",
   "metadata": {},
   "source": [
    "Handle Airline Column"
   ]
  },
  {
   "cell_type": "code",
   "execution_count": 39,
   "id": "2adbabf7",
   "metadata": {
    "execution": {
     "iopub.execute_input": "2024-02-27T06:22:06.562863Z",
     "iopub.status.busy": "2024-02-27T06:22:06.561400Z",
     "iopub.status.idle": "2024-02-27T06:22:06.572164Z",
     "shell.execute_reply": "2024-02-27T06:22:06.571194Z"
    },
    "papermill": {
     "duration": 0.04997,
     "end_time": "2024-02-27T06:22:06.574352",
     "exception": false,
     "start_time": "2024-02-27T06:22:06.524382",
     "status": "completed"
    },
    "tags": []
   },
   "outputs": [
    {
     "data": {
      "text/plain": [
       "Jet Airways                          3849\n",
       "IndiGo                               2053\n",
       "Air India                            1751\n",
       "Multiple carriers                    1196\n",
       "SpiceJet                              818\n",
       "Vistara                               479\n",
       "Air Asia                              319\n",
       "GoAir                                 194\n",
       "Multiple carriers Premium economy      13\n",
       "Jet Airways Business                    6\n",
       "Vistara Premium economy                 3\n",
       "Trujet                                  1\n",
       "Name: Airline, dtype: int64"
      ]
     },
     "execution_count": 39,
     "metadata": {},
     "output_type": "execute_result"
    }
   ],
   "source": [
    "#Check for Unique Catergories in the Airline Column:\n",
    "categorical['Airline'].value_counts()"
   ]
  },
  {
   "cell_type": "code",
   "execution_count": 40,
   "id": "2638a08d",
   "metadata": {
    "execution": {
     "iopub.execute_input": "2024-02-27T06:22:06.647882Z",
     "iopub.status.busy": "2024-02-27T06:22:06.647145Z",
     "iopub.status.idle": "2024-02-27T06:22:06.655053Z",
     "shell.execute_reply": "2024-02-27T06:22:06.653843Z"
    },
    "papermill": {
     "duration": 0.047936,
     "end_time": "2024-02-27T06:22:06.658048",
     "exception": false,
     "start_time": "2024-02-27T06:22:06.610112",
     "status": "completed"
    },
    "tags": []
   },
   "outputs": [],
   "source": [
    "# As Airline is Nominal Categorical data we will perform OneHotEncoding\n",
    "Airline=pd.get_dummies(categorical['Airline'],drop_first=True)"
   ]
  },
  {
   "cell_type": "code",
   "execution_count": 41,
   "id": "25394ff0",
   "metadata": {
    "execution": {
     "iopub.execute_input": "2024-02-27T06:22:06.732230Z",
     "iopub.status.busy": "2024-02-27T06:22:06.731793Z",
     "iopub.status.idle": "2024-02-27T06:22:06.749079Z",
     "shell.execute_reply": "2024-02-27T06:22:06.747680Z"
    },
    "papermill": {
     "duration": 0.057863,
     "end_time": "2024-02-27T06:22:06.751862",
     "exception": false,
     "start_time": "2024-02-27T06:22:06.693999",
     "status": "completed"
    },
    "tags": []
   },
   "outputs": [
    {
     "data": {
      "text/html": [
       "<div>\n",
       "<style scoped>\n",
       "    .dataframe tbody tr th:only-of-type {\n",
       "        vertical-align: middle;\n",
       "    }\n",
       "\n",
       "    .dataframe tbody tr th {\n",
       "        vertical-align: top;\n",
       "    }\n",
       "\n",
       "    .dataframe thead th {\n",
       "        text-align: right;\n",
       "    }\n",
       "</style>\n",
       "<table border=\"1\" class=\"dataframe\">\n",
       "  <thead>\n",
       "    <tr style=\"text-align: right;\">\n",
       "      <th></th>\n",
       "      <th>Air India</th>\n",
       "      <th>GoAir</th>\n",
       "      <th>IndiGo</th>\n",
       "      <th>Jet Airways</th>\n",
       "      <th>Jet Airways Business</th>\n",
       "      <th>Multiple carriers</th>\n",
       "      <th>Multiple carriers Premium economy</th>\n",
       "      <th>SpiceJet</th>\n",
       "      <th>Trujet</th>\n",
       "      <th>Vistara</th>\n",
       "      <th>Vistara Premium economy</th>\n",
       "    </tr>\n",
       "  </thead>\n",
       "  <tbody>\n",
       "    <tr>\n",
       "      <th>0</th>\n",
       "      <td>0</td>\n",
       "      <td>0</td>\n",
       "      <td>1</td>\n",
       "      <td>0</td>\n",
       "      <td>0</td>\n",
       "      <td>0</td>\n",
       "      <td>0</td>\n",
       "      <td>0</td>\n",
       "      <td>0</td>\n",
       "      <td>0</td>\n",
       "      <td>0</td>\n",
       "    </tr>\n",
       "    <tr>\n",
       "      <th>1</th>\n",
       "      <td>1</td>\n",
       "      <td>0</td>\n",
       "      <td>0</td>\n",
       "      <td>0</td>\n",
       "      <td>0</td>\n",
       "      <td>0</td>\n",
       "      <td>0</td>\n",
       "      <td>0</td>\n",
       "      <td>0</td>\n",
       "      <td>0</td>\n",
       "      <td>0</td>\n",
       "    </tr>\n",
       "    <tr>\n",
       "      <th>2</th>\n",
       "      <td>0</td>\n",
       "      <td>0</td>\n",
       "      <td>0</td>\n",
       "      <td>1</td>\n",
       "      <td>0</td>\n",
       "      <td>0</td>\n",
       "      <td>0</td>\n",
       "      <td>0</td>\n",
       "      <td>0</td>\n",
       "      <td>0</td>\n",
       "      <td>0</td>\n",
       "    </tr>\n",
       "    <tr>\n",
       "      <th>3</th>\n",
       "      <td>0</td>\n",
       "      <td>0</td>\n",
       "      <td>1</td>\n",
       "      <td>0</td>\n",
       "      <td>0</td>\n",
       "      <td>0</td>\n",
       "      <td>0</td>\n",
       "      <td>0</td>\n",
       "      <td>0</td>\n",
       "      <td>0</td>\n",
       "      <td>0</td>\n",
       "    </tr>\n",
       "    <tr>\n",
       "      <th>4</th>\n",
       "      <td>0</td>\n",
       "      <td>0</td>\n",
       "      <td>1</td>\n",
       "      <td>0</td>\n",
       "      <td>0</td>\n",
       "      <td>0</td>\n",
       "      <td>0</td>\n",
       "      <td>0</td>\n",
       "      <td>0</td>\n",
       "      <td>0</td>\n",
       "      <td>0</td>\n",
       "    </tr>\n",
       "  </tbody>\n",
       "</table>\n",
       "</div>"
      ],
      "text/plain": [
       "   Air India  GoAir  IndiGo  Jet Airways  Jet Airways Business  \\\n",
       "0          0      0       1            0                     0   \n",
       "1          1      0       0            0                     0   \n",
       "2          0      0       0            1                     0   \n",
       "3          0      0       1            0                     0   \n",
       "4          0      0       1            0                     0   \n",
       "\n",
       "   Multiple carriers  Multiple carriers Premium economy  SpiceJet  Trujet  \\\n",
       "0                  0                                  0         0       0   \n",
       "1                  0                                  0         0       0   \n",
       "2                  0                                  0         0       0   \n",
       "3                  0                                  0         0       0   \n",
       "4                  0                                  0         0       0   \n",
       "\n",
       "   Vistara  Vistara Premium economy  \n",
       "0        0                        0  \n",
       "1        0                        0  \n",
       "2        0                        0  \n",
       "3        0                        0  \n",
       "4        0                        0  "
      ]
     },
     "execution_count": 41,
     "metadata": {},
     "output_type": "execute_result"
    }
   ],
   "source": [
    "Airline.head()"
   ]
  },
  {
   "cell_type": "markdown",
   "id": "fd5b5aa7",
   "metadata": {},
   "source": [
    "Handle Source Column"
   ]
  },
  {
   "cell_type": "code",
   "execution_count": 42,
   "id": "ca30bbd7",
   "metadata": {
    "execution": {
     "iopub.execute_input": "2024-02-27T06:22:06.899863Z",
     "iopub.status.busy": "2024-02-27T06:22:06.899096Z",
     "iopub.status.idle": "2024-02-27T06:22:06.908366Z",
     "shell.execute_reply": "2024-02-27T06:22:06.907556Z"
    },
    "papermill": {
     "duration": 0.049186,
     "end_time": "2024-02-27T06:22:06.910582",
     "exception": false,
     "start_time": "2024-02-27T06:22:06.861396",
     "status": "completed"
    },
    "tags": []
   },
   "outputs": [
    {
     "data": {
      "text/plain": [
       "Delhi       4536\n",
       "Kolkata     2871\n",
       "Banglore    2197\n",
       "Mumbai       697\n",
       "Chennai      381\n",
       "Name: Source, dtype: int64"
      ]
     },
     "execution_count": 42,
     "metadata": {},
     "output_type": "execute_result"
    }
   ],
   "source": [
    "categorical['Source'].value_counts()"
   ]
  },
  {
   "cell_type": "code",
   "execution_count": 43,
   "id": "bef7fa98",
   "metadata": {
    "execution": {
     "iopub.execute_input": "2024-02-27T06:22:06.985360Z",
     "iopub.status.busy": "2024-02-27T06:22:06.984603Z",
     "iopub.status.idle": "2024-02-27T06:22:07.000040Z",
     "shell.execute_reply": "2024-02-27T06:22:06.998842Z"
    },
    "papermill": {
     "duration": 0.05549,
     "end_time": "2024-02-27T06:22:07.002376",
     "exception": false,
     "start_time": "2024-02-27T06:22:06.946886",
     "status": "completed"
    },
    "tags": []
   },
   "outputs": [
    {
     "data": {
      "text/html": [
       "<div>\n",
       "<style scoped>\n",
       "    .dataframe tbody tr th:only-of-type {\n",
       "        vertical-align: middle;\n",
       "    }\n",
       "\n",
       "    .dataframe tbody tr th {\n",
       "        vertical-align: top;\n",
       "    }\n",
       "\n",
       "    .dataframe thead th {\n",
       "        text-align: right;\n",
       "    }\n",
       "</style>\n",
       "<table border=\"1\" class=\"dataframe\">\n",
       "  <thead>\n",
       "    <tr style=\"text-align: right;\">\n",
       "      <th></th>\n",
       "      <th>Chennai</th>\n",
       "      <th>Delhi</th>\n",
       "      <th>Kolkata</th>\n",
       "      <th>Mumbai</th>\n",
       "    </tr>\n",
       "  </thead>\n",
       "  <tbody>\n",
       "    <tr>\n",
       "      <th>0</th>\n",
       "      <td>0</td>\n",
       "      <td>0</td>\n",
       "      <td>0</td>\n",
       "      <td>0</td>\n",
       "    </tr>\n",
       "    <tr>\n",
       "      <th>1</th>\n",
       "      <td>0</td>\n",
       "      <td>0</td>\n",
       "      <td>1</td>\n",
       "      <td>0</td>\n",
       "    </tr>\n",
       "    <tr>\n",
       "      <th>2</th>\n",
       "      <td>0</td>\n",
       "      <td>1</td>\n",
       "      <td>0</td>\n",
       "      <td>0</td>\n",
       "    </tr>\n",
       "    <tr>\n",
       "      <th>3</th>\n",
       "      <td>0</td>\n",
       "      <td>0</td>\n",
       "      <td>1</td>\n",
       "      <td>0</td>\n",
       "    </tr>\n",
       "    <tr>\n",
       "      <th>4</th>\n",
       "      <td>0</td>\n",
       "      <td>0</td>\n",
       "      <td>0</td>\n",
       "      <td>0</td>\n",
       "    </tr>\n",
       "  </tbody>\n",
       "</table>\n",
       "</div>"
      ],
      "text/plain": [
       "   Chennai  Delhi  Kolkata  Mumbai\n",
       "0        0      0        0       0\n",
       "1        0      0        1       0\n",
       "2        0      1        0       0\n",
       "3        0      0        1       0\n",
       "4        0      0        0       0"
      ]
     },
     "execution_count": 43,
     "metadata": {},
     "output_type": "execute_result"
    }
   ],
   "source": [
    "#encoding of source column\n",
    "source=pd.get_dummies(categorical['Source'],drop_first=True)\n",
    "source.head()"
   ]
  },
  {
   "cell_type": "markdown",
   "id": "2b9e4503",
   "metadata": {},
   "source": [
    "Handle Destination Column"
   ]
  },
  {
   "cell_type": "code",
   "execution_count": 44,
   "id": "631b3ba7",
   "metadata": {
    "execution": {
     "iopub.execute_input": "2024-02-27T06:22:07.150704Z",
     "iopub.status.busy": "2024-02-27T06:22:07.149917Z",
     "iopub.status.idle": "2024-02-27T06:22:07.161316Z",
     "shell.execute_reply": "2024-02-27T06:22:07.160045Z"
    },
    "papermill": {
     "duration": 0.052015,
     "end_time": "2024-02-27T06:22:07.163852",
     "exception": false,
     "start_time": "2024-02-27T06:22:07.111837",
     "status": "completed"
    },
    "tags": []
   },
   "outputs": [
    {
     "data": {
      "text/plain": [
       "Cochin       4536\n",
       "Banglore     2871\n",
       "Delhi        1265\n",
       "New Delhi     932\n",
       "Hyderabad     697\n",
       "Kolkata       381\n",
       "Name: Destination, dtype: int64"
      ]
     },
     "execution_count": 44,
     "metadata": {},
     "output_type": "execute_result"
    }
   ],
   "source": [
    "categorical['Destination'].value_counts()"
   ]
  },
  {
   "cell_type": "code",
   "execution_count": 45,
   "id": "4c7e046d",
   "metadata": {
    "execution": {
     "iopub.execute_input": "2024-02-27T06:22:07.240029Z",
     "iopub.status.busy": "2024-02-27T06:22:07.239264Z",
     "iopub.status.idle": "2024-02-27T06:22:07.255413Z",
     "shell.execute_reply": "2024-02-27T06:22:07.254025Z"
    },
    "papermill": {
     "duration": 0.05756,
     "end_time": "2024-02-27T06:22:07.257949",
     "exception": false,
     "start_time": "2024-02-27T06:22:07.200389",
     "status": "completed"
    },
    "tags": []
   },
   "outputs": [
    {
     "data": {
      "text/html": [
       "<div>\n",
       "<style scoped>\n",
       "    .dataframe tbody tr th:only-of-type {\n",
       "        vertical-align: middle;\n",
       "    }\n",
       "\n",
       "    .dataframe tbody tr th {\n",
       "        vertical-align: top;\n",
       "    }\n",
       "\n",
       "    .dataframe thead th {\n",
       "        text-align: right;\n",
       "    }\n",
       "</style>\n",
       "<table border=\"1\" class=\"dataframe\">\n",
       "  <thead>\n",
       "    <tr style=\"text-align: right;\">\n",
       "      <th></th>\n",
       "      <th>Cochin</th>\n",
       "      <th>Delhi</th>\n",
       "      <th>Hyderabad</th>\n",
       "      <th>Kolkata</th>\n",
       "      <th>New Delhi</th>\n",
       "    </tr>\n",
       "  </thead>\n",
       "  <tbody>\n",
       "    <tr>\n",
       "      <th>0</th>\n",
       "      <td>0</td>\n",
       "      <td>0</td>\n",
       "      <td>0</td>\n",
       "      <td>0</td>\n",
       "      <td>1</td>\n",
       "    </tr>\n",
       "    <tr>\n",
       "      <th>1</th>\n",
       "      <td>0</td>\n",
       "      <td>0</td>\n",
       "      <td>0</td>\n",
       "      <td>0</td>\n",
       "      <td>0</td>\n",
       "    </tr>\n",
       "    <tr>\n",
       "      <th>2</th>\n",
       "      <td>1</td>\n",
       "      <td>0</td>\n",
       "      <td>0</td>\n",
       "      <td>0</td>\n",
       "      <td>0</td>\n",
       "    </tr>\n",
       "    <tr>\n",
       "      <th>3</th>\n",
       "      <td>0</td>\n",
       "      <td>0</td>\n",
       "      <td>0</td>\n",
       "      <td>0</td>\n",
       "      <td>0</td>\n",
       "    </tr>\n",
       "    <tr>\n",
       "      <th>4</th>\n",
       "      <td>0</td>\n",
       "      <td>0</td>\n",
       "      <td>0</td>\n",
       "      <td>0</td>\n",
       "      <td>1</td>\n",
       "    </tr>\n",
       "  </tbody>\n",
       "</table>\n",
       "</div>"
      ],
      "text/plain": [
       "   Cochin  Delhi  Hyderabad  Kolkata  New Delhi\n",
       "0       0      0          0        0          1\n",
       "1       0      0          0        0          0\n",
       "2       1      0          0        0          0\n",
       "3       0      0          0        0          0\n",
       "4       0      0          0        0          1"
      ]
     },
     "execution_count": 45,
     "metadata": {},
     "output_type": "execute_result"
    }
   ],
   "source": [
    "#encoding of destination column\n",
    "destination=pd.get_dummies(categorical['Destination'],drop_first=True)\n",
    "destination.head()"
   ]
  },
  {
   "cell_type": "markdown",
   "id": "3b5931b2",
   "metadata": {},
   "source": [
    "Handle Route Column"
   ]
  },
  {
   "cell_type": "code",
   "execution_count": 46,
   "id": "fc5cd21a",
   "metadata": {
    "execution": {
     "iopub.execute_input": "2024-02-27T06:22:07.416570Z",
     "iopub.status.busy": "2024-02-27T06:22:07.415211Z",
     "iopub.status.idle": "2024-02-27T06:22:07.426546Z",
     "shell.execute_reply": "2024-02-27T06:22:07.425558Z"
    },
    "papermill": {
     "duration": 0.053233,
     "end_time": "2024-02-27T06:22:07.428869",
     "exception": false,
     "start_time": "2024-02-27T06:22:07.375636",
     "status": "completed"
    },
    "tags": []
   },
   "outputs": [
    {
     "data": {
      "text/plain": [
       "DEL → BOM → COK          2376\n",
       "BLR → DEL                1552\n",
       "CCU → BOM → BLR           979\n",
       "CCU → BLR                 724\n",
       "BOM → HYD                 621\n",
       "                         ... \n",
       "CCU → VTZ → BLR             1\n",
       "CCU → IXZ → MAA → BLR       1\n",
       "BOM → COK → MAA → HYD       1\n",
       "BOM → CCU → HYD             1\n",
       "BOM → BBI → HYD             1\n",
       "Name: Route, Length: 128, dtype: int64"
      ]
     },
     "execution_count": 46,
     "metadata": {},
     "output_type": "execute_result"
    }
   ],
   "source": [
    "# now work on route column\n",
    "categorical['Route'].value_counts()"
   ]
  },
  {
   "cell_type": "code",
   "execution_count": 47,
   "id": "c307d0fb",
   "metadata": {
    "execution": {
     "iopub.execute_input": "2024-02-27T06:22:07.506677Z",
     "iopub.status.busy": "2024-02-27T06:22:07.505979Z",
     "iopub.status.idle": "2024-02-27T06:22:07.714166Z",
     "shell.execute_reply": "2024-02-27T06:22:07.712981Z"
    },
    "papermill": {
     "duration": 0.250404,
     "end_time": "2024-02-27T06:22:07.717054",
     "exception": false,
     "start_time": "2024-02-27T06:22:07.466650",
     "status": "completed"
    },
    "tags": []
   },
   "outputs": [],
   "source": [
    "categorical['Route1']=categorical['Route'].str.split('→').str[0]\n",
    "categorical['Route2']=categorical['Route'].str.split('→').str[1]\n",
    "categorical['Route3']=categorical['Route'].str.split('→').str[2]\n",
    "categorical['Route4']=categorical['Route'].str.split('→').str[3]\n",
    "categorical['Route5']=categorical['Route'].str.split('→').str[4]"
   ]
  },
  {
   "cell_type": "code",
   "execution_count": 48,
   "id": "8f26b8d6",
   "metadata": {
    "execution": {
     "iopub.execute_input": "2024-02-27T06:22:07.792448Z",
     "iopub.status.busy": "2024-02-27T06:22:07.792029Z",
     "iopub.status.idle": "2024-02-27T06:22:07.809279Z",
     "shell.execute_reply": "2024-02-27T06:22:07.808121Z"
    },
    "papermill": {
     "duration": 0.057918,
     "end_time": "2024-02-27T06:22:07.811756",
     "exception": false,
     "start_time": "2024-02-27T06:22:07.753838",
     "status": "completed"
    },
    "tags": []
   },
   "outputs": [
    {
     "data": {
      "text/html": [
       "<div>\n",
       "<style scoped>\n",
       "    .dataframe tbody tr th:only-of-type {\n",
       "        vertical-align: middle;\n",
       "    }\n",
       "\n",
       "    .dataframe tbody tr th {\n",
       "        vertical-align: top;\n",
       "    }\n",
       "\n",
       "    .dataframe thead th {\n",
       "        text-align: right;\n",
       "    }\n",
       "</style>\n",
       "<table border=\"1\" class=\"dataframe\">\n",
       "  <thead>\n",
       "    <tr style=\"text-align: right;\">\n",
       "      <th></th>\n",
       "      <th>Airline</th>\n",
       "      <th>Source</th>\n",
       "      <th>Destination</th>\n",
       "      <th>Route</th>\n",
       "      <th>Total_Stops</th>\n",
       "      <th>Additional_Info</th>\n",
       "      <th>Route1</th>\n",
       "      <th>Route2</th>\n",
       "      <th>Route3</th>\n",
       "      <th>Route4</th>\n",
       "      <th>Route5</th>\n",
       "    </tr>\n",
       "  </thead>\n",
       "  <tbody>\n",
       "    <tr>\n",
       "      <th>0</th>\n",
       "      <td>IndiGo</td>\n",
       "      <td>Banglore</td>\n",
       "      <td>New Delhi</td>\n",
       "      <td>BLR → DEL</td>\n",
       "      <td>non-stop</td>\n",
       "      <td>No info</td>\n",
       "      <td>BLR</td>\n",
       "      <td>DEL</td>\n",
       "      <td>NaN</td>\n",
       "      <td>NaN</td>\n",
       "      <td>NaN</td>\n",
       "    </tr>\n",
       "    <tr>\n",
       "      <th>1</th>\n",
       "      <td>Air India</td>\n",
       "      <td>Kolkata</td>\n",
       "      <td>Banglore</td>\n",
       "      <td>CCU → IXR → BBI → BLR</td>\n",
       "      <td>2 stops</td>\n",
       "      <td>No info</td>\n",
       "      <td>CCU</td>\n",
       "      <td>IXR</td>\n",
       "      <td>BBI</td>\n",
       "      <td>BLR</td>\n",
       "      <td>NaN</td>\n",
       "    </tr>\n",
       "    <tr>\n",
       "      <th>2</th>\n",
       "      <td>Jet Airways</td>\n",
       "      <td>Delhi</td>\n",
       "      <td>Cochin</td>\n",
       "      <td>DEL → LKO → BOM → COK</td>\n",
       "      <td>2 stops</td>\n",
       "      <td>No info</td>\n",
       "      <td>DEL</td>\n",
       "      <td>LKO</td>\n",
       "      <td>BOM</td>\n",
       "      <td>COK</td>\n",
       "      <td>NaN</td>\n",
       "    </tr>\n",
       "    <tr>\n",
       "      <th>3</th>\n",
       "      <td>IndiGo</td>\n",
       "      <td>Kolkata</td>\n",
       "      <td>Banglore</td>\n",
       "      <td>CCU → NAG → BLR</td>\n",
       "      <td>1 stop</td>\n",
       "      <td>No info</td>\n",
       "      <td>CCU</td>\n",
       "      <td>NAG</td>\n",
       "      <td>BLR</td>\n",
       "      <td>NaN</td>\n",
       "      <td>NaN</td>\n",
       "    </tr>\n",
       "    <tr>\n",
       "      <th>4</th>\n",
       "      <td>IndiGo</td>\n",
       "      <td>Banglore</td>\n",
       "      <td>New Delhi</td>\n",
       "      <td>BLR → NAG → DEL</td>\n",
       "      <td>1 stop</td>\n",
       "      <td>No info</td>\n",
       "      <td>BLR</td>\n",
       "      <td>NAG</td>\n",
       "      <td>DEL</td>\n",
       "      <td>NaN</td>\n",
       "      <td>NaN</td>\n",
       "    </tr>\n",
       "  </tbody>\n",
       "</table>\n",
       "</div>"
      ],
      "text/plain": [
       "       Airline    Source Destination                  Route Total_Stops  \\\n",
       "0       IndiGo  Banglore   New Delhi              BLR → DEL    non-stop   \n",
       "1    Air India   Kolkata    Banglore  CCU → IXR → BBI → BLR     2 stops   \n",
       "2  Jet Airways     Delhi      Cochin  DEL → LKO → BOM → COK     2 stops   \n",
       "3       IndiGo   Kolkata    Banglore        CCU → NAG → BLR      1 stop   \n",
       "4       IndiGo  Banglore   New Delhi        BLR → NAG → DEL      1 stop   \n",
       "\n",
       "  Additional_Info Route1 Route2 Route3 Route4 Route5  \n",
       "0         No info   BLR     DEL    NaN    NaN    NaN  \n",
       "1         No info   CCU    IXR    BBI     BLR    NaN  \n",
       "2         No info   DEL    LKO    BOM     COK    NaN  \n",
       "3         No info   CCU    NAG     BLR    NaN    NaN  \n",
       "4         No info   BLR    NAG     DEL    NaN    NaN  "
      ]
     },
     "execution_count": 48,
     "metadata": {},
     "output_type": "execute_result"
    }
   ],
   "source": [
    "categorical.head()"
   ]
  },
  {
   "cell_type": "code",
   "execution_count": 49,
   "id": "0c96232f",
   "metadata": {
    "execution": {
     "iopub.execute_input": "2024-02-27T06:22:07.888744Z",
     "iopub.status.busy": "2024-02-27T06:22:07.888279Z",
     "iopub.status.idle": "2024-02-27T06:22:07.898192Z",
     "shell.execute_reply": "2024-02-27T06:22:07.896878Z"
    },
    "papermill": {
     "duration": 0.051814,
     "end_time": "2024-02-27T06:22:07.901167",
     "exception": false,
     "start_time": "2024-02-27T06:22:07.849353",
     "status": "completed"
    },
    "tags": []
   },
   "outputs": [],
   "source": [
    "#Drop the route column:\n",
    "drop_col(categorical,'Route')"
   ]
  },
  {
   "cell_type": "code",
   "execution_count": 50,
   "id": "8c182db7",
   "metadata": {
    "execution": {
     "iopub.execute_input": "2024-02-27T06:22:07.979090Z",
     "iopub.status.busy": "2024-02-27T06:22:07.978308Z",
     "iopub.status.idle": "2024-02-27T06:22:07.998512Z",
     "shell.execute_reply": "2024-02-27T06:22:07.997298Z"
    },
    "papermill": {
     "duration": 0.06191,
     "end_time": "2024-02-27T06:22:08.001253",
     "exception": false,
     "start_time": "2024-02-27T06:22:07.939343",
     "status": "completed"
    },
    "tags": []
   },
   "outputs": [
    {
     "data": {
      "text/plain": [
       "Airline                0\n",
       "Source                 0\n",
       "Destination            0\n",
       "Total_Stops            0\n",
       "Additional_Info        0\n",
       "Route1                 0\n",
       "Route2                 0\n",
       "Route3              3491\n",
       "Route4              9116\n",
       "Route5             10636\n",
       "dtype: int64"
      ]
     },
     "execution_count": 50,
     "metadata": {},
     "output_type": "execute_result"
    }
   ],
   "source": [
    "#Check for missing values, as we have splitted Route Column. there might be few routes which will have null values:\n",
    "categorical.isnull().sum()"
   ]
  },
  {
   "cell_type": "code",
   "execution_count": 51,
   "id": "1df7e455",
   "metadata": {
    "execution": {
     "iopub.execute_input": "2024-02-27T06:22:08.079897Z",
     "iopub.status.busy": "2024-02-27T06:22:08.079408Z",
     "iopub.status.idle": "2024-02-27T06:22:08.086761Z",
     "shell.execute_reply": "2024-02-27T06:22:08.085682Z"
    },
    "papermill": {
     "duration": 0.049856,
     "end_time": "2024-02-27T06:22:08.089015",
     "exception": false,
     "start_time": "2024-02-27T06:22:08.039159",
     "status": "completed"
    },
    "tags": []
   },
   "outputs": [
    {
     "data": {
      "text/plain": [
       "Index(['Airline', 'Source', 'Destination', 'Total_Stops', 'Additional_Info',\n",
       "       'Route1', 'Route2', 'Route3', 'Route4', 'Route5'],\n",
       "      dtype='object')"
      ]
     },
     "execution_count": 51,
     "metadata": {},
     "output_type": "execute_result"
    }
   ],
   "source": [
    "categorical.columns"
   ]
  },
  {
   "cell_type": "code",
   "execution_count": 52,
   "id": "957bda96",
   "metadata": {
    "execution": {
     "iopub.execute_input": "2024-02-27T06:22:08.168211Z",
     "iopub.status.busy": "2024-02-27T06:22:08.167022Z",
     "iopub.status.idle": "2024-02-27T06:22:08.178126Z",
     "shell.execute_reply": "2024-02-27T06:22:08.177087Z"
    },
    "papermill": {
     "duration": 0.053586,
     "end_time": "2024-02-27T06:22:08.180717",
     "exception": false,
     "start_time": "2024-02-27T06:22:08.127131",
     "status": "completed"
    },
    "tags": []
   },
   "outputs": [],
   "source": [
    "#Handle the Null values - here we will replace them with None:\n",
    "for i in ['Route3', 'Route4', 'Route5']:\n",
    "    categorical[i].fillna('None',inplace=True)"
   ]
  },
  {
   "cell_type": "code",
   "execution_count": 53,
   "id": "24c1f2f1",
   "metadata": {
    "execution": {
     "iopub.execute_input": "2024-02-27T06:22:08.262100Z",
     "iopub.status.busy": "2024-02-27T06:22:08.261047Z",
     "iopub.status.idle": "2024-02-27T06:22:08.283419Z",
     "shell.execute_reply": "2024-02-27T06:22:08.282612Z"
    },
    "papermill": {
     "duration": 0.066092,
     "end_time": "2024-02-27T06:22:08.285787",
     "exception": false,
     "start_time": "2024-02-27T06:22:08.219695",
     "status": "completed"
    },
    "tags": []
   },
   "outputs": [
    {
     "data": {
      "text/plain": [
       "Airline            0\n",
       "Source             0\n",
       "Destination        0\n",
       "Total_Stops        0\n",
       "Additional_Info    0\n",
       "Route1             0\n",
       "Route2             0\n",
       "Route3             0\n",
       "Route4             0\n",
       "Route5             0\n",
       "dtype: int64"
      ]
     },
     "execution_count": 53,
     "metadata": {},
     "output_type": "execute_result"
    }
   ],
   "source": [
    "categorical.isnull().sum()"
   ]
  },
  {
   "cell_type": "markdown",
   "id": "f1f2f34a",
   "metadata": {},
   "source": [
    "Handle All Route Columns"
   ]
  },
  {
   "cell_type": "code",
   "execution_count": 54,
   "id": "45e93328",
   "metadata": {
    "execution": {
     "iopub.execute_input": "2024-02-27T06:22:08.445887Z",
     "iopub.status.busy": "2024-02-27T06:22:08.445122Z",
     "iopub.status.idle": "2024-02-27T06:22:08.449863Z",
     "shell.execute_reply": "2024-02-27T06:22:08.448803Z"
    },
    "papermill": {
     "duration": 0.046887,
     "end_time": "2024-02-27T06:22:08.452339",
     "exception": false,
     "start_time": "2024-02-27T06:22:08.405452",
     "status": "completed"
    },
    "tags": []
   },
   "outputs": [],
   "source": [
    "# Applying label encoder\n",
    "from sklearn.preprocessing import LabelEncoder\n",
    "encoder = LabelEncoder()"
   ]
  },
  {
   "cell_type": "code",
   "execution_count": 55,
   "id": "1ef537ad",
   "metadata": {
    "execution": {
     "iopub.execute_input": "2024-02-27T06:22:08.531022Z",
     "iopub.status.busy": "2024-02-27T06:22:08.530546Z",
     "iopub.status.idle": "2024-02-27T06:22:08.561396Z",
     "shell.execute_reply": "2024-02-27T06:22:08.560015Z"
    },
    "papermill": {
     "duration": 0.073674,
     "end_time": "2024-02-27T06:22:08.564398",
     "exception": false,
     "start_time": "2024-02-27T06:22:08.490724",
     "status": "completed"
    },
    "tags": []
   },
   "outputs": [],
   "source": [
    "for i in ['Route1', 'Route2', 'Route3', 'Route4', 'Route5']:\n",
    "    categorical[i]=encoder.fit_transform(categorical[i])"
   ]
  },
  {
   "cell_type": "code",
   "execution_count": 56,
   "id": "aa43516a",
   "metadata": {
    "execution": {
     "iopub.execute_input": "2024-02-27T06:22:08.642277Z",
     "iopub.status.busy": "2024-02-27T06:22:08.641857Z",
     "iopub.status.idle": "2024-02-27T06:22:08.656565Z",
     "shell.execute_reply": "2024-02-27T06:22:08.655666Z"
    },
    "papermill": {
     "duration": 0.056178,
     "end_time": "2024-02-27T06:22:08.658796",
     "exception": false,
     "start_time": "2024-02-27T06:22:08.602618",
     "status": "completed"
    },
    "tags": []
   },
   "outputs": [
    {
     "data": {
      "text/html": [
       "<div>\n",
       "<style scoped>\n",
       "    .dataframe tbody tr th:only-of-type {\n",
       "        vertical-align: middle;\n",
       "    }\n",
       "\n",
       "    .dataframe tbody tr th {\n",
       "        vertical-align: top;\n",
       "    }\n",
       "\n",
       "    .dataframe thead th {\n",
       "        text-align: right;\n",
       "    }\n",
       "</style>\n",
       "<table border=\"1\" class=\"dataframe\">\n",
       "  <thead>\n",
       "    <tr style=\"text-align: right;\">\n",
       "      <th></th>\n",
       "      <th>Airline</th>\n",
       "      <th>Source</th>\n",
       "      <th>Destination</th>\n",
       "      <th>Total_Stops</th>\n",
       "      <th>Additional_Info</th>\n",
       "      <th>Route1</th>\n",
       "      <th>Route2</th>\n",
       "      <th>Route3</th>\n",
       "      <th>Route4</th>\n",
       "      <th>Route5</th>\n",
       "    </tr>\n",
       "  </thead>\n",
       "  <tbody>\n",
       "    <tr>\n",
       "      <th>0</th>\n",
       "      <td>IndiGo</td>\n",
       "      <td>Banglore</td>\n",
       "      <td>New Delhi</td>\n",
       "      <td>non-stop</td>\n",
       "      <td>No info</td>\n",
       "      <td>0</td>\n",
       "      <td>13</td>\n",
       "      <td>29</td>\n",
       "      <td>13</td>\n",
       "      <td>5</td>\n",
       "    </tr>\n",
       "    <tr>\n",
       "      <th>1</th>\n",
       "      <td>Air India</td>\n",
       "      <td>Kolkata</td>\n",
       "      <td>Banglore</td>\n",
       "      <td>2 stops</td>\n",
       "      <td>No info</td>\n",
       "      <td>2</td>\n",
       "      <td>25</td>\n",
       "      <td>1</td>\n",
       "      <td>3</td>\n",
       "      <td>5</td>\n",
       "    </tr>\n",
       "    <tr>\n",
       "      <th>2</th>\n",
       "      <td>Jet Airways</td>\n",
       "      <td>Delhi</td>\n",
       "      <td>Cochin</td>\n",
       "      <td>2 stops</td>\n",
       "      <td>No info</td>\n",
       "      <td>3</td>\n",
       "      <td>32</td>\n",
       "      <td>4</td>\n",
       "      <td>5</td>\n",
       "      <td>5</td>\n",
       "    </tr>\n",
       "    <tr>\n",
       "      <th>3</th>\n",
       "      <td>IndiGo</td>\n",
       "      <td>Kolkata</td>\n",
       "      <td>Banglore</td>\n",
       "      <td>1 stop</td>\n",
       "      <td>No info</td>\n",
       "      <td>2</td>\n",
       "      <td>34</td>\n",
       "      <td>3</td>\n",
       "      <td>13</td>\n",
       "      <td>5</td>\n",
       "    </tr>\n",
       "    <tr>\n",
       "      <th>4</th>\n",
       "      <td>IndiGo</td>\n",
       "      <td>Banglore</td>\n",
       "      <td>New Delhi</td>\n",
       "      <td>1 stop</td>\n",
       "      <td>No info</td>\n",
       "      <td>0</td>\n",
       "      <td>34</td>\n",
       "      <td>8</td>\n",
       "      <td>13</td>\n",
       "      <td>5</td>\n",
       "    </tr>\n",
       "  </tbody>\n",
       "</table>\n",
       "</div>"
      ],
      "text/plain": [
       "       Airline    Source Destination Total_Stops Additional_Info  Route1  \\\n",
       "0       IndiGo  Banglore   New Delhi    non-stop         No info       0   \n",
       "1    Air India   Kolkata    Banglore     2 stops         No info       2   \n",
       "2  Jet Airways     Delhi      Cochin     2 stops         No info       3   \n",
       "3       IndiGo   Kolkata    Banglore      1 stop         No info       2   \n",
       "4       IndiGo  Banglore   New Delhi      1 stop         No info       0   \n",
       "\n",
       "   Route2  Route3  Route4  Route5  \n",
       "0      13      29      13       5  \n",
       "1      25       1       3       5  \n",
       "2      32       4       5       5  \n",
       "3      34       3      13       5  \n",
       "4      34       8      13       5  "
      ]
     },
     "execution_count": 56,
     "metadata": {},
     "output_type": "execute_result"
    }
   ],
   "source": [
    "categorical.head()"
   ]
  },
  {
   "cell_type": "code",
   "execution_count": 57,
   "id": "ba09a377",
   "metadata": {
    "execution": {
     "iopub.execute_input": "2024-02-27T06:22:08.738309Z",
     "iopub.status.busy": "2024-02-27T06:22:08.737566Z",
     "iopub.status.idle": "2024-02-27T06:22:08.744136Z",
     "shell.execute_reply": "2024-02-27T06:22:08.743203Z"
    },
    "papermill": {
     "duration": 0.049386,
     "end_time": "2024-02-27T06:22:08.746658",
     "exception": false,
     "start_time": "2024-02-27T06:22:08.697272",
     "status": "completed"
    },
    "tags": []
   },
   "outputs": [],
   "source": [
    "#Drop this column as whole column have the same value:\n",
    "drop_col(categorical,'Additional_Info')"
   ]
  },
  {
   "cell_type": "markdown",
   "id": "fdacd978",
   "metadata": {},
   "source": [
    "Handle Total_Stops Column"
   ]
  },
  {
   "cell_type": "code",
   "execution_count": 58,
   "id": "f3f821c7",
   "metadata": {
    "execution": {
     "iopub.execute_input": "2024-02-27T06:22:08.904763Z",
     "iopub.status.busy": "2024-02-27T06:22:08.904268Z",
     "iopub.status.idle": "2024-02-27T06:22:08.912927Z",
     "shell.execute_reply": "2024-02-27T06:22:08.912037Z"
    },
    "papermill": {
     "duration": 0.051553,
     "end_time": "2024-02-27T06:22:08.915218",
     "exception": false,
     "start_time": "2024-02-27T06:22:08.863665",
     "status": "completed"
    },
    "tags": []
   },
   "outputs": [
    {
     "data": {
      "text/plain": [
       "array(['non-stop', '2 stops', '1 stop', '3 stops', '4 stops'],\n",
       "      dtype=object)"
      ]
     },
     "execution_count": 58,
     "metadata": {},
     "output_type": "execute_result"
    }
   ],
   "source": [
    "categorical['Total_Stops'].unique()"
   ]
  },
  {
   "cell_type": "code",
   "execution_count": 59,
   "id": "2ccc2203",
   "metadata": {
    "execution": {
     "iopub.execute_input": "2024-02-27T06:22:08.995225Z",
     "iopub.status.busy": "2024-02-27T06:22:08.994498Z",
     "iopub.status.idle": "2024-02-27T06:22:09.002134Z",
     "shell.execute_reply": "2024-02-27T06:22:09.001179Z"
    },
    "papermill": {
     "duration": 0.049946,
     "end_time": "2024-02-27T06:22:09.004527",
     "exception": false,
     "start_time": "2024-02-27T06:22:08.954581",
     "status": "completed"
    },
    "tags": []
   },
   "outputs": [],
   "source": [
    "# encoding Total stops\n",
    "dict={'non-stop':0, '2 stops':2, '1 stop':1, '3 stops':3, '4 stops':4}\n",
    "categorical['Total_Stops']=categorical['Total_Stops'].map(dict)"
   ]
  },
  {
   "cell_type": "code",
   "execution_count": 60,
   "id": "93611e24",
   "metadata": {
    "execution": {
     "iopub.execute_input": "2024-02-27T06:22:09.084421Z",
     "iopub.status.busy": "2024-02-27T06:22:09.083741Z",
     "iopub.status.idle": "2024-02-27T06:22:09.091992Z",
     "shell.execute_reply": "2024-02-27T06:22:09.090814Z"
    },
    "papermill": {
     "duration": 0.0509,
     "end_time": "2024-02-27T06:22:09.094411",
     "exception": false,
     "start_time": "2024-02-27T06:22:09.043511",
     "status": "completed"
    },
    "tags": []
   },
   "outputs": [
    {
     "data": {
      "text/plain": [
       "0        0\n",
       "1        2\n",
       "2        2\n",
       "3        1\n",
       "4        1\n",
       "        ..\n",
       "10678    0\n",
       "10679    0\n",
       "10680    0\n",
       "10681    0\n",
       "10682    2\n",
       "Name: Total_Stops, Length: 10682, dtype: int64"
      ]
     },
     "execution_count": 60,
     "metadata": {},
     "output_type": "execute_result"
    }
   ],
   "source": [
    "categorical['Total_Stops']"
   ]
  },
  {
   "cell_type": "code",
   "execution_count": 61,
   "id": "6d849f7d",
   "metadata": {
    "execution": {
     "iopub.execute_input": "2024-02-27T06:22:09.174085Z",
     "iopub.status.busy": "2024-02-27T06:22:09.173639Z",
     "iopub.status.idle": "2024-02-27T06:22:09.184605Z",
     "shell.execute_reply": "2024-02-27T06:22:09.183298Z"
    },
    "papermill": {
     "duration": 0.053543,
     "end_time": "2024-02-27T06:22:09.187170",
     "exception": false,
     "start_time": "2024-02-27T06:22:09.133627",
     "status": "completed"
    },
    "tags": []
   },
   "outputs": [],
   "source": [
    "#Drop Unwanted Columns:\n",
    "drop_col(categorical,'Source')\n",
    "drop_col(categorical,'Destination')\n",
    "drop_col(categorical,'Airline')"
   ]
  },
  {
   "cell_type": "markdown",
   "id": "53218232",
   "metadata": {},
   "source": [
    "The Data is Cleaned Now"
   ]
  },
  {
   "cell_type": "code",
   "execution_count": 62,
   "id": "3ddcbfca",
   "metadata": {
    "execution": {
     "iopub.execute_input": "2024-02-27T06:22:09.343164Z",
     "iopub.status.busy": "2024-02-27T06:22:09.342697Z",
     "iopub.status.idle": "2024-02-27T06:22:09.354874Z",
     "shell.execute_reply": "2024-02-27T06:22:09.353773Z"
    },
    "papermill": {
     "duration": 0.054683,
     "end_time": "2024-02-27T06:22:09.357738",
     "exception": false,
     "start_time": "2024-02-27T06:22:09.303055",
     "status": "completed"
    },
    "tags": []
   },
   "outputs": [],
   "source": [
    "#Merge All the Sub-datasets we created for cleaning the columns into one final dataframe:\n",
    "final_df=pd.concat([categorical,Airline,source,destination,df[continuous_col]],axis=1)"
   ]
  },
  {
   "cell_type": "code",
   "execution_count": 63,
   "id": "593554b4",
   "metadata": {
    "execution": {
     "iopub.execute_input": "2024-02-27T06:22:09.439027Z",
     "iopub.status.busy": "2024-02-27T06:22:09.437921Z",
     "iopub.status.idle": "2024-02-27T06:22:09.460671Z",
     "shell.execute_reply": "2024-02-27T06:22:09.459442Z"
    },
    "papermill": {
     "duration": 0.065062,
     "end_time": "2024-02-27T06:22:09.463330",
     "exception": false,
     "start_time": "2024-02-27T06:22:09.398268",
     "status": "completed"
    },
    "tags": []
   },
   "outputs": [
    {
     "data": {
      "text/html": [
       "<div>\n",
       "<style scoped>\n",
       "    .dataframe tbody tr th:only-of-type {\n",
       "        vertical-align: middle;\n",
       "    }\n",
       "\n",
       "    .dataframe tbody tr th {\n",
       "        vertical-align: top;\n",
       "    }\n",
       "\n",
       "    .dataframe thead th {\n",
       "        text-align: right;\n",
       "    }\n",
       "</style>\n",
       "<table border=\"1\" class=\"dataframe\">\n",
       "  <thead>\n",
       "    <tr style=\"text-align: right;\">\n",
       "      <th></th>\n",
       "      <th>Total_Stops</th>\n",
       "      <th>Route1</th>\n",
       "      <th>Route2</th>\n",
       "      <th>Route3</th>\n",
       "      <th>Route4</th>\n",
       "      <th>Route5</th>\n",
       "      <th>Air India</th>\n",
       "      <th>GoAir</th>\n",
       "      <th>IndiGo</th>\n",
       "      <th>Jet Airways</th>\n",
       "      <th>...</th>\n",
       "      <th>New Delhi</th>\n",
       "      <th>Price</th>\n",
       "      <th>journey_day</th>\n",
       "      <th>journey_month</th>\n",
       "      <th>Dep_Time_hour</th>\n",
       "      <th>Dep_Time_min</th>\n",
       "      <th>Arrival_Time_hour</th>\n",
       "      <th>Arrival_Time_min</th>\n",
       "      <th>dur_hour</th>\n",
       "      <th>dur_min</th>\n",
       "    </tr>\n",
       "  </thead>\n",
       "  <tbody>\n",
       "    <tr>\n",
       "      <th>0</th>\n",
       "      <td>0</td>\n",
       "      <td>0</td>\n",
       "      <td>13</td>\n",
       "      <td>29</td>\n",
       "      <td>13</td>\n",
       "      <td>5</td>\n",
       "      <td>0</td>\n",
       "      <td>0</td>\n",
       "      <td>1</td>\n",
       "      <td>0</td>\n",
       "      <td>...</td>\n",
       "      <td>1</td>\n",
       "      <td>3897</td>\n",
       "      <td>24</td>\n",
       "      <td>3</td>\n",
       "      <td>22</td>\n",
       "      <td>20</td>\n",
       "      <td>1</td>\n",
       "      <td>10</td>\n",
       "      <td>2</td>\n",
       "      <td>50</td>\n",
       "    </tr>\n",
       "    <tr>\n",
       "      <th>1</th>\n",
       "      <td>2</td>\n",
       "      <td>2</td>\n",
       "      <td>25</td>\n",
       "      <td>1</td>\n",
       "      <td>3</td>\n",
       "      <td>5</td>\n",
       "      <td>1</td>\n",
       "      <td>0</td>\n",
       "      <td>0</td>\n",
       "      <td>0</td>\n",
       "      <td>...</td>\n",
       "      <td>0</td>\n",
       "      <td>7662</td>\n",
       "      <td>5</td>\n",
       "      <td>1</td>\n",
       "      <td>5</td>\n",
       "      <td>50</td>\n",
       "      <td>13</td>\n",
       "      <td>15</td>\n",
       "      <td>7</td>\n",
       "      <td>25</td>\n",
       "    </tr>\n",
       "    <tr>\n",
       "      <th>2</th>\n",
       "      <td>2</td>\n",
       "      <td>3</td>\n",
       "      <td>32</td>\n",
       "      <td>4</td>\n",
       "      <td>5</td>\n",
       "      <td>5</td>\n",
       "      <td>0</td>\n",
       "      <td>0</td>\n",
       "      <td>0</td>\n",
       "      <td>1</td>\n",
       "      <td>...</td>\n",
       "      <td>0</td>\n",
       "      <td>13882</td>\n",
       "      <td>6</td>\n",
       "      <td>9</td>\n",
       "      <td>9</td>\n",
       "      <td>25</td>\n",
       "      <td>4</td>\n",
       "      <td>25</td>\n",
       "      <td>19</td>\n",
       "      <td>0</td>\n",
       "    </tr>\n",
       "    <tr>\n",
       "      <th>3</th>\n",
       "      <td>1</td>\n",
       "      <td>2</td>\n",
       "      <td>34</td>\n",
       "      <td>3</td>\n",
       "      <td>13</td>\n",
       "      <td>5</td>\n",
       "      <td>0</td>\n",
       "      <td>0</td>\n",
       "      <td>1</td>\n",
       "      <td>0</td>\n",
       "      <td>...</td>\n",
       "      <td>0</td>\n",
       "      <td>6218</td>\n",
       "      <td>5</td>\n",
       "      <td>12</td>\n",
       "      <td>18</td>\n",
       "      <td>5</td>\n",
       "      <td>23</td>\n",
       "      <td>30</td>\n",
       "      <td>5</td>\n",
       "      <td>25</td>\n",
       "    </tr>\n",
       "    <tr>\n",
       "      <th>4</th>\n",
       "      <td>1</td>\n",
       "      <td>0</td>\n",
       "      <td>34</td>\n",
       "      <td>8</td>\n",
       "      <td>13</td>\n",
       "      <td>5</td>\n",
       "      <td>0</td>\n",
       "      <td>0</td>\n",
       "      <td>1</td>\n",
       "      <td>0</td>\n",
       "      <td>...</td>\n",
       "      <td>1</td>\n",
       "      <td>13302</td>\n",
       "      <td>3</td>\n",
       "      <td>1</td>\n",
       "      <td>16</td>\n",
       "      <td>50</td>\n",
       "      <td>21</td>\n",
       "      <td>35</td>\n",
       "      <td>4</td>\n",
       "      <td>45</td>\n",
       "    </tr>\n",
       "  </tbody>\n",
       "</table>\n",
       "<p>5 rows × 35 columns</p>\n",
       "</div>"
      ],
      "text/plain": [
       "   Total_Stops  Route1  Route2  Route3  Route4  Route5  Air India  GoAir  \\\n",
       "0            0       0      13      29      13       5          0      0   \n",
       "1            2       2      25       1       3       5          1      0   \n",
       "2            2       3      32       4       5       5          0      0   \n",
       "3            1       2      34       3      13       5          0      0   \n",
       "4            1       0      34       8      13       5          0      0   \n",
       "\n",
       "   IndiGo  Jet Airways  ...  New Delhi  Price  journey_day  journey_month  \\\n",
       "0       1            0  ...          1   3897           24              3   \n",
       "1       0            0  ...          0   7662            5              1   \n",
       "2       0            1  ...          0  13882            6              9   \n",
       "3       1            0  ...          0   6218            5             12   \n",
       "4       1            0  ...          1  13302            3              1   \n",
       "\n",
       "   Dep_Time_hour  Dep_Time_min  Arrival_Time_hour  Arrival_Time_min  dur_hour  \\\n",
       "0             22            20                  1                10         2   \n",
       "1              5            50                 13                15         7   \n",
       "2              9            25                  4                25        19   \n",
       "3             18             5                 23                30         5   \n",
       "4             16            50                 21                35         4   \n",
       "\n",
       "   dur_min  \n",
       "0       50  \n",
       "1       25  \n",
       "2        0  \n",
       "3       25  \n",
       "4       45  \n",
       "\n",
       "[5 rows x 35 columns]"
      ]
     },
     "execution_count": 63,
     "metadata": {},
     "output_type": "execute_result"
    }
   ],
   "source": [
    "final_df.head()"
   ]
  },
  {
   "cell_type": "markdown",
   "id": "24840762",
   "metadata": {},
   "source": [
    "Check and Handle Outliers (If Any)"
   ]
  },
  {
   "cell_type": "code",
   "execution_count": 64,
   "id": "e6fac17e",
   "metadata": {
    "execution": {
     "iopub.execute_input": "2024-02-27T06:22:09.627113Z",
     "iopub.status.busy": "2024-02-27T06:22:09.626713Z",
     "iopub.status.idle": "2024-02-27T06:22:09.632940Z",
     "shell.execute_reply": "2024-02-27T06:22:09.631648Z"
    },
    "papermill": {
     "duration": 0.049401,
     "end_time": "2024-02-27T06:22:09.635215",
     "exception": false,
     "start_time": "2024-02-27T06:22:09.585814",
     "status": "completed"
    },
    "tags": []
   },
   "outputs": [],
   "source": [
    "def plot(data,col):\n",
    "    fig,(ax1,ax2)=plt.subplots(2,1)\n",
    "    sns.distplot(data[col],ax=ax1)\n",
    "    sns.boxplot(data[col],ax=ax2)"
   ]
  },
  {
   "cell_type": "code",
   "execution_count": 65,
   "id": "22c89b3e",
   "metadata": {
    "execution": {
     "iopub.execute_input": "2024-02-27T06:22:09.717012Z",
     "iopub.status.busy": "2024-02-27T06:22:09.715927Z",
     "iopub.status.idle": "2024-02-27T06:22:10.321639Z",
     "shell.execute_reply": "2024-02-27T06:22:10.320460Z"
    },
    "papermill": {
     "duration": 0.649813,
     "end_time": "2024-02-27T06:22:10.324537",
     "exception": false,
     "start_time": "2024-02-27T06:22:09.674724",
     "status": "completed"
    },
    "tags": []
   },
   "outputs": [
    {
     "data": {
      "image/png": "[encoded data removed]",
      "text/plain": [
       "<Figure size 640x480 with 2 Axes>"
      ]
     },
     "metadata": {},
     "output_type": "display_data"
    }
   ],
   "source": [
    "plot(final_df,'Price')"
   ]
  },
  {
   "cell_type": "markdown",
   "id": "3499fe46",
   "metadata": {
    "papermill": {
     "duration": 0.039866,
     "end_time": "2024-02-27T06:22:10.404844",
     "exception": false,
     "start_time": "2024-02-27T06:22:10.364978",
     "status": "completed"
    },
    "tags": []
   },
   "source": [
    "<strong><p style = \"font-size : 20px; color : #000000 ; font-family : 'Arial MT'; border-radius: 5px 5px;\">Replacing Outliers with Median:</p></strong>\n",
    "\n",
    "* <p style = \"font-size : 20px; color : #000000 ; font-family : 'Arial MT'; border-radius: 5px 5px;\">To address outliers in the price feature, we opt for replacing them with the median value. This strategy ensures robustness in data preprocessing, maintaining model stability and accuracy.</p>"
   ]
  },
  {
   "cell_type": "code",
   "execution_count": 66,
   "id": "1058cfbd",
   "metadata": {
    "execution": {
     "iopub.execute_input": "2024-02-27T06:22:10.485334Z",
     "iopub.status.busy": "2024-02-27T06:22:10.484949Z",
     "iopub.status.idle": "2024-02-27T06:22:10.493282Z",
     "shell.execute_reply": "2024-02-27T06:22:10.492346Z"
    },
    "papermill": {
     "duration": 0.051199,
     "end_time": "2024-02-27T06:22:10.495633",
     "exception": false,
     "start_time": "2024-02-27T06:22:10.444434",
     "status": "completed"
    },
    "tags": []
   },
   "outputs": [],
   "source": [
    "final_df['Price']=np.where(final_df['Price']>=40000,final_df['Price'].median(),final_df['Price'])"
   ]
  },
  {
   "cell_type": "code",
   "execution_count": 67,
   "id": "b3c874a5",
   "metadata": {
    "execution": {
     "iopub.execute_input": "2024-02-27T06:22:10.577063Z",
     "iopub.status.busy": "2024-02-27T06:22:10.576633Z",
     "iopub.status.idle": "2024-02-27T06:22:11.150551Z",
     "shell.execute_reply": "2024-02-27T06:22:11.149289Z"
    },
    "papermill": {
     "duration": 0.618258,
     "end_time": "2024-02-27T06:22:11.153393",
     "exception": false,
     "start_time": "2024-02-27T06:22:10.535135",
     "status": "completed"
    },
    "tags": []
   },
   "outputs": [
    {
     "data": {
      "image/png": "[encoded data removed]",
      "text/plain": [
       "<Figure size 640x480 with 2 Axes>"
      ]
     },
     "metadata": {},
     "output_type": "display_data"
    }
   ],
   "source": [
    "plot(final_df,'Price')"
   ]
  },
  {
   "cell_type": "markdown",
   "id": "f0e74d51",
   "metadata": {},
   "source": [
    "Split the Dataset into X (Independent) and y (Dependent)"
   ]
  },
  {
   "cell_type": "code",
   "execution_count": 68,
   "id": "b6140256",
   "metadata": {
    "execution": {
     "iopub.execute_input": "2024-02-27T06:22:11.314577Z",
     "iopub.status.busy": "2024-02-27T06:22:11.314142Z",
     "iopub.status.idle": "2024-02-27T06:22:11.323530Z",
     "shell.execute_reply": "2024-02-27T06:22:11.322167Z"
    },
    "papermill": {
     "duration": 0.053285,
     "end_time": "2024-02-27T06:22:11.325977",
     "exception": false,
     "start_time": "2024-02-27T06:22:11.272692",
     "status": "completed"
    },
    "tags": []
   },
   "outputs": [],
   "source": [
    "X=final_df.drop('Price',axis=1)\n",
    "y=df['Price']"
   ]
  },
  {
   "cell_type": "markdown",
   "id": "9158959b",
   "metadata": {
    "papermill": {
     "duration": 0.040677,
     "end_time": "2024-02-27T06:22:11.406807",
     "exception": false,
     "start_time": "2024-02-27T06:22:11.366130",
     "status": "completed"
    },
    "tags": []
   },
   "source": [
    "Feature Selection\n",
    "\n",
    "We want to choose the most useful features that relate well to the independent variable. To do this without making things too complicated, we use something called mutual_info_classif. It helps us find the important features while also making sure we don't end up with too many, which could slow things down.\n",
    "\n"
   ]
  },
  {
   "cell_type": "code",
   "execution_count": 69,
   "id": "6d044185",
   "metadata": {
    "execution": {
     "iopub.execute_input": "2024-02-27T06:22:11.490557Z",
     "iopub.status.busy": "2024-02-27T06:22:11.490102Z",
     "iopub.status.idle": "2024-02-27T06:22:11.678232Z",
     "shell.execute_reply": "2024-02-27T06:22:11.676957Z"
    },
    "papermill": {
     "duration": 0.232979,
     "end_time": "2024-02-27T06:22:11.681676",
     "exception": false,
     "start_time": "2024-02-27T06:22:11.448697",
     "status": "completed"
    },
    "tags": []
   },
   "outputs": [],
   "source": [
    "from sklearn.feature_selection import mutual_info_classif"
   ]
  },
  {
   "cell_type": "code",
   "execution_count": 70,
   "id": "b6633fa9",
   "metadata": {
    "execution": {
     "iopub.execute_input": "2024-02-27T06:22:11.764762Z",
     "iopub.status.busy": "2024-02-27T06:22:11.764303Z",
     "iopub.status.idle": "2024-02-27T06:22:54.940506Z",
     "shell.execute_reply": "2024-02-27T06:22:54.939277Z"
    },
    "papermill": {
     "duration": 43.259928,
     "end_time": "2024-02-27T06:22:54.982088",
     "exception": false,
     "start_time": "2024-02-27T06:22:11.722160",
     "status": "completed"
    },
    "tags": []
   },
   "outputs": [
    {
     "data": {
      "text/plain": [
       "array([1.91799934, 2.30821453, 3.00497143, 2.54671061, 1.67082134,\n",
       "       1.42804773, 0.69939526, 0.09576398, 0.63155112, 0.85920715,\n",
       "       0.        , 0.52241853, 0.01393216, 0.31923535, 0.        ,\n",
       "       0.22082203, 0.        , 0.16242391, 1.36460558, 0.80767762,\n",
       "       0.28885313, 1.32711906, 0.39041655, 0.28565525, 0.18133478,\n",
       "       0.33967085, 1.22910984, 1.0459714 , 1.51530871, 1.27212101,\n",
       "       1.89422464, 1.62119916, 1.78093547, 1.13911654])"
      ]
     },
     "execution_count": 70,
     "metadata": {},
     "output_type": "execute_result"
    }
   ],
   "source": [
    "mutual_info_classif(X,y)"
   ]
  },
  {
   "cell_type": "code",
   "execution_count": 71,
   "id": "c92a9802",
   "metadata": {
    "execution": {
     "iopub.execute_input": "2024-02-27T06:22:55.065561Z",
     "iopub.status.busy": "2024-02-27T06:22:55.065102Z",
     "iopub.status.idle": "2024-02-27T06:23:35.959963Z",
     "shell.execute_reply": "2024-02-27T06:23:35.958582Z"
    },
    "papermill": {
     "duration": 40.980301,
     "end_time": "2024-02-27T06:23:36.002536",
     "exception": false,
     "start_time": "2024-02-27T06:22:55.022235",
     "status": "completed"
    },
    "tags": []
   },
   "outputs": [
    {
     "data": {
      "text/html": [
       "<div>\n",
       "<style scoped>\n",
       "    .dataframe tbody tr th:only-of-type {\n",
       "        vertical-align: middle;\n",
       "    }\n",
       "\n",
       "    .dataframe tbody tr th {\n",
       "        vertical-align: top;\n",
       "    }\n",
       "\n",
       "    .dataframe thead th {\n",
       "        text-align: right;\n",
       "    }\n",
       "</style>\n",
       "<table border=\"1\" class=\"dataframe\">\n",
       "  <thead>\n",
       "    <tr style=\"text-align: right;\">\n",
       "      <th></th>\n",
       "      <th>0</th>\n",
       "    </tr>\n",
       "  </thead>\n",
       "  <tbody>\n",
       "    <tr>\n",
       "      <th>Total_Stops</th>\n",
       "      <td>1.909828</td>\n",
       "    </tr>\n",
       "    <tr>\n",
       "      <th>Route1</th>\n",
       "      <td>2.321512</td>\n",
       "    </tr>\n",
       "    <tr>\n",
       "      <th>Route2</th>\n",
       "      <td>3.000336</td>\n",
       "    </tr>\n",
       "    <tr>\n",
       "      <th>Route3</th>\n",
       "      <td>2.585400</td>\n",
       "    </tr>\n",
       "    <tr>\n",
       "      <th>Route4</th>\n",
       "      <td>1.722045</td>\n",
       "    </tr>\n",
       "    <tr>\n",
       "      <th>Route5</th>\n",
       "      <td>1.439302</td>\n",
       "    </tr>\n",
       "    <tr>\n",
       "      <th>Air India</th>\n",
       "      <td>0.669025</td>\n",
       "    </tr>\n",
       "    <tr>\n",
       "      <th>GoAir</th>\n",
       "      <td>0.101749</td>\n",
       "    </tr>\n",
       "    <tr>\n",
       "      <th>IndiGo</th>\n",
       "      <td>0.620469</td>\n",
       "    </tr>\n",
       "    <tr>\n",
       "      <th>Jet Airways</th>\n",
       "      <td>0.858448</td>\n",
       "    </tr>\n",
       "    <tr>\n",
       "      <th>Jet Airways Business</th>\n",
       "      <td>0.000000</td>\n",
       "    </tr>\n",
       "    <tr>\n",
       "      <th>Multiple carriers</th>\n",
       "      <td>0.522958</td>\n",
       "    </tr>\n",
       "    <tr>\n",
       "      <th>Multiple carriers Premium economy</th>\n",
       "      <td>0.002497</td>\n",
       "    </tr>\n",
       "    <tr>\n",
       "      <th>SpiceJet</th>\n",
       "      <td>0.318567</td>\n",
       "    </tr>\n",
       "    <tr>\n",
       "      <th>Trujet</th>\n",
       "      <td>0.000000</td>\n",
       "    </tr>\n",
       "    <tr>\n",
       "      <th>Vistara</th>\n",
       "      <td>0.208112</td>\n",
       "    </tr>\n",
       "    <tr>\n",
       "      <th>Vistara Premium economy</th>\n",
       "      <td>0.000000</td>\n",
       "    </tr>\n",
       "    <tr>\n",
       "      <th>Chennai</th>\n",
       "      <td>0.187078</td>\n",
       "    </tr>\n",
       "    <tr>\n",
       "      <th>Delhi</th>\n",
       "      <td>1.405114</td>\n",
       "    </tr>\n",
       "    <tr>\n",
       "      <th>Kolkata</th>\n",
       "      <td>0.801896</td>\n",
       "    </tr>\n",
       "    <tr>\n",
       "      <th>Mumbai</th>\n",
       "      <td>0.278661</td>\n",
       "    </tr>\n",
       "    <tr>\n",
       "      <th>Cochin</th>\n",
       "      <td>1.345502</td>\n",
       "    </tr>\n",
       "    <tr>\n",
       "      <th>Delhi</th>\n",
       "      <td>0.381716</td>\n",
       "    </tr>\n",
       "    <tr>\n",
       "      <th>Hyderabad</th>\n",
       "      <td>0.294775</td>\n",
       "    </tr>\n",
       "    <tr>\n",
       "      <th>Kolkata</th>\n",
       "      <td>0.183437</td>\n",
       "    </tr>\n",
       "    <tr>\n",
       "      <th>New Delhi</th>\n",
       "      <td>0.334965</td>\n",
       "    </tr>\n",
       "    <tr>\n",
       "      <th>journey_day</th>\n",
       "      <td>1.236722</td>\n",
       "    </tr>\n",
       "    <tr>\n",
       "      <th>journey_month</th>\n",
       "      <td>1.064957</td>\n",
       "    </tr>\n",
       "    <tr>\n",
       "      <th>Dep_Time_hour</th>\n",
       "      <td>1.494032</td>\n",
       "    </tr>\n",
       "    <tr>\n",
       "      <th>Dep_Time_min</th>\n",
       "      <td>1.312106</td>\n",
       "    </tr>\n",
       "    <tr>\n",
       "      <th>Arrival_Time_hour</th>\n",
       "      <td>1.901704</td>\n",
       "    </tr>\n",
       "    <tr>\n",
       "      <th>Arrival_Time_min</th>\n",
       "      <td>1.623711</td>\n",
       "    </tr>\n",
       "    <tr>\n",
       "      <th>dur_hour</th>\n",
       "      <td>1.760316</td>\n",
       "    </tr>\n",
       "    <tr>\n",
       "      <th>dur_min</th>\n",
       "      <td>1.140359</td>\n",
       "    </tr>\n",
       "  </tbody>\n",
       "</table>\n",
       "</div>"
      ],
      "text/plain": [
       "                                          0\n",
       "Total_Stops                        1.909828\n",
       "Route1                             2.321512\n",
       "Route2                             3.000336\n",
       "Route3                             2.585400\n",
       "Route4                             1.722045\n",
       "Route5                             1.439302\n",
       "Air India                          0.669025\n",
       "GoAir                              0.101749\n",
       "IndiGo                             0.620469\n",
       "Jet Airways                        0.858448\n",
       "Jet Airways Business               0.000000\n",
       "Multiple carriers                  0.522958\n",
       "Multiple carriers Premium economy  0.002497\n",
       "SpiceJet                           0.318567\n",
       "Trujet                             0.000000\n",
       "Vistara                            0.208112\n",
       "Vistara Premium economy            0.000000\n",
       "Chennai                            0.187078\n",
       "Delhi                              1.405114\n",
       "Kolkata                            0.801896\n",
       "Mumbai                             0.278661\n",
       "Cochin                             1.345502\n",
       "Delhi                              0.381716\n",
       "Hyderabad                          0.294775\n",
       "Kolkata                            0.183437\n",
       "New Delhi                          0.334965\n",
       "journey_day                        1.236722\n",
       "journey_month                      1.064957\n",
       "Dep_Time_hour                      1.494032\n",
       "Dep_Time_min                       1.312106\n",
       "Arrival_Time_hour                  1.901704\n",
       "Arrival_Time_min                   1.623711\n",
       "dur_hour                           1.760316\n",
       "dur_min                            1.140359"
      ]
     },
     "execution_count": 71,
     "metadata": {},
     "output_type": "execute_result"
    }
   ],
   "source": [
    "imp = pd.DataFrame(mutual_info_classif(X,y),index=X.columns)\n",
    "imp"
   ]
  },
  {
   "cell_type": "code",
   "execution_count": 72,
   "id": "daf9300f",
   "metadata": {
    "execution": {
     "iopub.execute_input": "2024-02-27T06:23:36.086416Z",
     "iopub.status.busy": "2024-02-27T06:23:36.085956Z",
     "iopub.status.idle": "2024-02-27T06:23:36.101065Z",
     "shell.execute_reply": "2024-02-27T06:23:36.100038Z"
    },
    "papermill": {
     "duration": 0.06032,
     "end_time": "2024-02-27T06:23:36.103471",
     "exception": false,
     "start_time": "2024-02-27T06:23:36.043151",
     "status": "completed"
    },
    "tags": []
   },
   "outputs": [
    {
     "data": {
      "text/html": [
       "<div>\n",
       "<style scoped>\n",
       "    .dataframe tbody tr th:only-of-type {\n",
       "        vertical-align: middle;\n",
       "    }\n",
       "\n",
       "    .dataframe tbody tr th {\n",
       "        vertical-align: top;\n",
       "    }\n",
       "\n",
       "    .dataframe thead th {\n",
       "        text-align: right;\n",
       "    }\n",
       "</style>\n",
       "<table border=\"1\" class=\"dataframe\">\n",
       "  <thead>\n",
       "    <tr style=\"text-align: right;\">\n",
       "      <th></th>\n",
       "      <th>importance</th>\n",
       "    </tr>\n",
       "  </thead>\n",
       "  <tbody>\n",
       "    <tr>\n",
       "      <th>Route2</th>\n",
       "      <td>3.000336</td>\n",
       "    </tr>\n",
       "    <tr>\n",
       "      <th>Route3</th>\n",
       "      <td>2.585400</td>\n",
       "    </tr>\n",
       "    <tr>\n",
       "      <th>Route1</th>\n",
       "      <td>2.321512</td>\n",
       "    </tr>\n",
       "    <tr>\n",
       "      <th>Total_Stops</th>\n",
       "      <td>1.909828</td>\n",
       "    </tr>\n",
       "    <tr>\n",
       "      <th>Arrival_Time_hour</th>\n",
       "      <td>1.901704</td>\n",
       "    </tr>\n",
       "    <tr>\n",
       "      <th>dur_hour</th>\n",
       "      <td>1.760316</td>\n",
       "    </tr>\n",
       "    <tr>\n",
       "      <th>Route4</th>\n",
       "      <td>1.722045</td>\n",
       "    </tr>\n",
       "    <tr>\n",
       "      <th>Arrival_Time_min</th>\n",
       "      <td>1.623711</td>\n",
       "    </tr>\n",
       "    <tr>\n",
       "      <th>Dep_Time_hour</th>\n",
       "      <td>1.494032</td>\n",
       "    </tr>\n",
       "    <tr>\n",
       "      <th>Route5</th>\n",
       "      <td>1.439302</td>\n",
       "    </tr>\n",
       "    <tr>\n",
       "      <th>Delhi</th>\n",
       "      <td>1.405114</td>\n",
       "    </tr>\n",
       "    <tr>\n",
       "      <th>Cochin</th>\n",
       "      <td>1.345502</td>\n",
       "    </tr>\n",
       "    <tr>\n",
       "      <th>Dep_Time_min</th>\n",
       "      <td>1.312106</td>\n",
       "    </tr>\n",
       "    <tr>\n",
       "      <th>journey_day</th>\n",
       "      <td>1.236722</td>\n",
       "    </tr>\n",
       "    <tr>\n",
       "      <th>dur_min</th>\n",
       "      <td>1.140359</td>\n",
       "    </tr>\n",
       "    <tr>\n",
       "      <th>journey_month</th>\n",
       "      <td>1.064957</td>\n",
       "    </tr>\n",
       "    <tr>\n",
       "      <th>Jet Airways</th>\n",
       "      <td>0.858448</td>\n",
       "    </tr>\n",
       "    <tr>\n",
       "      <th>Kolkata</th>\n",
       "      <td>0.801896</td>\n",
       "    </tr>\n",
       "    <tr>\n",
       "      <th>Air India</th>\n",
       "      <td>0.669025</td>\n",
       "    </tr>\n",
       "    <tr>\n",
       "      <th>IndiGo</th>\n",
       "      <td>0.620469</td>\n",
       "    </tr>\n",
       "    <tr>\n",
       "      <th>Multiple carriers</th>\n",
       "      <td>0.522958</td>\n",
       "    </tr>\n",
       "    <tr>\n",
       "      <th>Delhi</th>\n",
       "      <td>0.381716</td>\n",
       "    </tr>\n",
       "    <tr>\n",
       "      <th>New Delhi</th>\n",
       "      <td>0.334965</td>\n",
       "    </tr>\n",
       "    <tr>\n",
       "      <th>SpiceJet</th>\n",
       "      <td>0.318567</td>\n",
       "    </tr>\n",
       "    <tr>\n",
       "      <th>Hyderabad</th>\n",
       "      <td>0.294775</td>\n",
       "    </tr>\n",
       "    <tr>\n",
       "      <th>Mumbai</th>\n",
       "      <td>0.278661</td>\n",
       "    </tr>\n",
       "    <tr>\n",
       "      <th>Vistara</th>\n",
       "      <td>0.208112</td>\n",
       "    </tr>\n",
       "    <tr>\n",
       "      <th>Chennai</th>\n",
       "      <td>0.187078</td>\n",
       "    </tr>\n",
       "    <tr>\n",
       "      <th>Kolkata</th>\n",
       "      <td>0.183437</td>\n",
       "    </tr>\n",
       "    <tr>\n",
       "      <th>GoAir</th>\n",
       "      <td>0.101749</td>\n",
       "    </tr>\n",
       "    <tr>\n",
       "      <th>Multiple carriers Premium economy</th>\n",
       "      <td>0.002497</td>\n",
       "    </tr>\n",
       "    <tr>\n",
       "      <th>Jet Airways Business</th>\n",
       "      <td>0.000000</td>\n",
       "    </tr>\n",
       "    <tr>\n",
       "      <th>Vistara Premium economy</th>\n",
       "      <td>0.000000</td>\n",
       "    </tr>\n",
       "    <tr>\n",
       "      <th>Trujet</th>\n",
       "      <td>0.000000</td>\n",
       "    </tr>\n",
       "  </tbody>\n",
       "</table>\n",
       "</div>"
      ],
      "text/plain": [
       "                                   importance\n",
       "Route2                               3.000336\n",
       "Route3                               2.585400\n",
       "Route1                               2.321512\n",
       "Total_Stops                          1.909828\n",
       "Arrival_Time_hour                    1.901704\n",
       "dur_hour                             1.760316\n",
       "Route4                               1.722045\n",
       "Arrival_Time_min                     1.623711\n",
       "Dep_Time_hour                        1.494032\n",
       "Route5                               1.439302\n",
       "Delhi                                1.405114\n",
       "Cochin                               1.345502\n",
       "Dep_Time_min                         1.312106\n",
       "journey_day                          1.236722\n",
       "dur_min                              1.140359\n",
       "journey_month                        1.064957\n",
       "Jet Airways                          0.858448\n",
       "Kolkata                              0.801896\n",
       "Air India                            0.669025\n",
       "IndiGo                               0.620469\n",
       "Multiple carriers                    0.522958\n",
       "Delhi                                0.381716\n",
       "New Delhi                            0.334965\n",
       "SpiceJet                             0.318567\n",
       "Hyderabad                            0.294775\n",
       "Mumbai                               0.278661\n",
       "Vistara                              0.208112\n",
       "Chennai                              0.187078\n",
       "Kolkata                              0.183437\n",
       "GoAir                                0.101749\n",
       "Multiple carriers Premium economy    0.002497\n",
       "Jet Airways Business                 0.000000\n",
       "Vistara Premium economy              0.000000\n",
       "Trujet                               0.000000"
      ]
     },
     "execution_count": 72,
     "metadata": {},
     "output_type": "execute_result"
    }
   ],
   "source": [
    "imp.columns=['importance']\n",
    "imp.sort_values(by='importance',ascending=False)"
   ]
  },
  {
   "cell_type": "markdown",
   "id": "f803d9b2",
   "metadata": {
    "papermill": {
     "duration": 0.040495,
     "end_time": "2024-02-27T06:23:36.184934",
     "exception": false,
     "start_time": "2024-02-27T06:23:36.144439",
     "status": "completed"
    },
    "tags": []
   },
   "source": [
    "* <p style = \"font-size : 20px; color : #000000 ; font-family : 'Arial MT'; border-radius: 5px 5px;\">Although some features in the table have values close to zero, suggesting insignificance, we're deferring their removal pending authorization. However, it's essential to acknowledge their presence and potential impact on our analysis.</p>"
   ]
  },
  {
   "cell_type": "markdown",
   "id": "010790df",
   "metadata": {},
   "source": [
    "Model Building"
   ]
  },
  {
   "cell_type": "code",
   "execution_count": 73,
   "id": "8ae205b3",
   "metadata": {
    "execution": {
     "iopub.execute_input": "2024-02-27T06:23:36.350546Z",
     "iopub.status.busy": "2024-02-27T06:23:36.350132Z",
     "iopub.status.idle": "2024-02-27T06:23:36.360246Z",
     "shell.execute_reply": "2024-02-27T06:23:36.359314Z"
    },
    "papermill": {
     "duration": 0.054921,
     "end_time": "2024-02-27T06:23:36.362755",
     "exception": false,
     "start_time": "2024-02-27T06:23:36.307834",
     "status": "completed"
    },
    "tags": []
   },
   "outputs": [],
   "source": [
    "# spiliting the dataset\n",
    "from sklearn.model_selection import train_test_split\n",
    "X_train,X_test,y_train,y_test = train_test_split(X,y,test_size=0.20,random_state=123)"
   ]
  },
  {
   "cell_type": "code",
   "execution_count": 74,
   "id": "ed979cd0",
   "metadata": {
    "execution": {
     "iopub.execute_input": "2024-02-27T06:23:36.446559Z",
     "iopub.status.busy": "2024-02-27T06:23:36.445792Z",
     "iopub.status.idle": "2024-02-27T06:23:36.454972Z",
     "shell.execute_reply": "2024-02-27T06:23:36.453706Z"
    },
    "papermill": {
     "duration": 0.054121,
     "end_time": "2024-02-27T06:23:36.457698",
     "exception": false,
     "start_time": "2024-02-27T06:23:36.403577",
     "status": "completed"
    },
    "tags": []
   },
   "outputs": [],
   "source": [
    "from sklearn.metrics import r2_score,mean_absolute_error,mean_squared_error\n",
    "def predict(ml_model):\n",
    "    print('Model is: {}'.format(ml_model))\n",
    "    model= ml_model.fit(X_train,y_train)\n",
    "    print(\"Training score: {}\".format(model.score(X_train,y_train)))\n",
    "    predictions = model.predict(X_test)\n",
    "    print(\"Predictions are: {}\".format(predictions))\n",
    "    print('\\n')\n",
    "    r2score=r2_score(y_test,predictions) \n",
    "    print(\"r2 score is: {}\".format(r2score))\n",
    "          \n",
    "    print('MAE:{}'.format(mean_absolute_error(y_test,predictions)))\n",
    "    print('MSE:{}'.format(mean_squared_error(y_test,predictions)))\n",
    "    print('RMSE:{}'.format(np.sqrt(mean_squared_error(y_test,predictions))))\n",
    "     \n",
    "    sns.distplot(y_test-predictions)      \n",
    "          "
   ]
  },
  {
   "cell_type": "code",
   "execution_count": 75,
   "id": "3672945f",
   "metadata": {
    "execution": {
     "iopub.execute_input": "2024-02-27T06:23:36.542469Z",
     "iopub.status.busy": "2024-02-27T06:23:36.541200Z",
     "iopub.status.idle": "2024-02-27T06:23:36.645594Z",
     "shell.execute_reply": "2024-02-27T06:23:36.644368Z"
    },
    "papermill": {
     "duration": 0.149419,
     "end_time": "2024-02-27T06:23:36.648480",
     "exception": false,
     "start_time": "2024-02-27T06:23:36.499061",
     "status": "completed"
    },
    "tags": []
   },
   "outputs": [],
   "source": [
    "from sklearn.linear_model import LogisticRegression\n",
    "from sklearn.neighbors import KNeighborsRegressor\n",
    "from sklearn.tree import DecisionTreeRegressor\n",
    "from sklearn.ensemble import GradientBoostingRegressor,RandomForestRegressor\n"
   ]
  },
  {
   "cell_type": "markdown",
   "id": "a2f58442",
   "metadata": {},
   "source": [
    "Random Forest Model"
   ]
  },
  {
   "cell_type": "code",
   "execution_count": 76,
   "id": "4814f1a5",
   "metadata": {
    "execution": {
     "iopub.execute_input": "2024-02-27T06:23:36.813051Z",
     "iopub.status.busy": "2024-02-27T06:23:36.812651Z",
     "iopub.status.idle": "2024-02-27T06:23:40.880976Z",
     "shell.execute_reply": "2024-02-27T06:23:40.879838Z"
    },
    "papermill": {
     "duration": 4.11259,
     "end_time": "2024-02-27T06:23:40.883277",
     "exception": false,
     "start_time": "2024-02-27T06:23:36.770687",
     "status": "completed"
    },
    "tags": []
   },
   "outputs": [
    {
     "name": "stdout",
     "output_type": "stream",
     "text": [
      "Model is: RandomForestRegressor()\n",
      "Training score: 0.951370208164869\n",
      "Predictions are: [ 8569.075      16898.42666667 13915.5345     ...  3861.12\n",
      "  5574.34       10694.82464286]\n",
      "\n",
      "\n",
      "r2 score is: 0.8425309835188626\n",
      "MAE:1081.442664197291\n",
      "MSE:3032172.6061599813\n",
      "RMSE:1741.3134715380747\n"
     ]
    },
    {
     "data": {
      "image/png": "[encoded data removed]",
      "text/plain": [
       "<Figure size 640x480 with 1 Axes>"
      ]
     },
     "metadata": {},
     "output_type": "display_data"
    }
   ],
   "source": [
    "predict(RandomForestRegressor())"
   ]
  },
  {
   "cell_type": "markdown",
   "id": "f0cb2d68",
   "metadata": {},
   "source": [
    "Gradient Boosting Model"
   ]
  },
  {
   "cell_type": "code",
   "execution_count": 77,
   "id": "822519a1",
   "metadata": {
    "execution": {
     "iopub.execute_input": "2024-02-27T06:23:41.056461Z",
     "iopub.status.busy": "2024-02-27T06:23:41.056067Z",
     "iopub.status.idle": "2024-02-27T06:23:42.638170Z",
     "shell.execute_reply": "2024-02-27T06:23:42.637312Z"
    },
    "papermill": {
     "duration": 1.628278,
     "end_time": "2024-02-27T06:23:42.640296",
     "exception": false,
     "start_time": "2024-02-27T06:23:41.012018",
     "status": "completed"
    },
    "tags": []
   },
   "outputs": [
    {
     "name": "stdout",
     "output_type": "stream",
     "text": [
      "Model is: GradientBoostingRegressor()\n",
      "Training score: 0.8004872305794601\n",
      "Predictions are: [ 5702.86974497 17826.76035345 12133.74946613 ...  4547.37535805\n",
      "  6959.32889786 11428.58468176]\n",
      "\n",
      "\n",
      "r2 score is: 0.8168066808138467\n",
      "MAE:1397.4372379678573\n",
      "MSE:3527511.4843580285\n",
      "RMSE:1878.1670544331323\n"
     ]
    },
    {
     "data": {
      "image/png": "[encoded data removed]",
      "text/plain": [
       "<Figure size 640x480 with 1 Axes>"
      ]
     },
     "metadata": {},
     "output_type": "display_data"
    }
   ],
   "source": [
    "predict(GradientBoostingRegressor())"
   ]
  }
 ],
 "metadata": {
  "kaggle": {
   "accelerator": "none",
   "dataSources": [
    {
     "datasetId": 140442,
     "sourceId": 330428,
     "sourceType": "datasetVersion"
    }
   ],
   "dockerImageVersionId": 30646,
   "isGpuEnabled": false,
   "isInternetEnabled": true,
   "language": "python",
   "sourceType": "notebook"
  },
  "kernelspec": {
   "display_name": "Python 3 (ipykernel)",
   "language": "python",
   "name": "python3"
  },
  "language_info": {
   "codemirror_mode": {
    "name": "ipython",
    "version": 3
   },
   "file_extension": ".py",
   "mimetype": "text/x-python",
   "name": "python",
   "nbconvert_exporter": "python",
   "pygments_lexer": "ipython3",
   "version": "3.9.13"
  },
  "papermill": {
   "default_parameters": {},
   "duration": 130.219832,
   "end_time": "2024-02-27T06:23:43.492178",
   "environment_variables": {},
   "exception": null,
   "input_path": "__notebook__.ipynb",
   "output_path": "__notebook__.ipynb",
   "parameters": {},
   "start_time": "2024-02-27T06:21:33.272346",
   "version": "2.3.3"
  }
 },
 "nbformat": 4,
 "nbformat_minor": 5
}
