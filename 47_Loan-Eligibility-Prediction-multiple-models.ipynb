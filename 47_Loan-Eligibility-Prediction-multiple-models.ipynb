{
 "cells": [
  {
   "cell_type": "code",
   "execution_count": 1,
   "id": "a05712d3",
   "metadata": {
    "execution": {
     "iopub.execute_input": "2023-05-10T08:29:57.576316Z",
     "iopub.status.busy": "2023-05-10T08:29:57.575938Z",
     "iopub.status.idle": "2023-05-10T08:29:58.969713Z",
     "shell.execute_reply": "2023-05-10T08:29:58.968455Z"
    },
    "papermill": {
     "duration": 1.402216,
     "end_time": "2023-05-10T08:29:58.972574",
     "exception": false,
     "start_time": "2023-05-10T08:29:57.570358",
     "status": "completed"
    },
    "tags": []
   },
   "outputs": [],
   "source": [
    "import pandas as pd\n",
    "import numpy as np\n",
    "from sklearn.model_selection import train_test_split\n",
    "from sklearn.linear_model import LogisticRegression\n",
    "from sklearn.tree import DecisionTreeClassifier\n",
    "from sklearn.ensemble import RandomForestClassifier, GradientBoostingClassifier, AdaBoostClassifier\n",
    "from sklearn.metrics import accuracy_score\n",
    "from sklearn.impute import SimpleImputer\n",
    "from sklearn.preprocessing import MinMaxScaler\n"
   ]
  },
  {
   "cell_type": "code",
   "execution_count": 2,
   "id": "b96c9783",
   "metadata": {
    "execution": {
     "iopub.execute_input": "2023-05-10T08:29:58.982632Z",
     "iopub.status.busy": "2023-05-10T08:29:58.982299Z",
     "iopub.status.idle": "2023-05-10T08:29:59.001082Z",
     "shell.execute_reply": "2023-05-10T08:29:59.000048Z"
    },
    "papermill": {
     "duration": 0.026669,
     "end_time": "2023-05-10T08:29:59.003559",
     "exception": false,
     "start_time": "2023-05-10T08:29:58.976890",
     "status": "completed"
    },
    "tags": []
   },
   "outputs": [],
   "source": [
    "# Load the dataset\n",
    "df = pd.read_csv('loan-train.csv')\n"
   ]
  },
  {
   "cell_type": "code",
   "execution_count": 3,
   "id": "64ed53bc",
   "metadata": {
    "execution": {
     "iopub.execute_input": "2023-05-10T08:29:59.012895Z",
     "iopub.status.busy": "2023-05-10T08:29:59.012574Z",
     "iopub.status.idle": "2023-05-10T08:29:59.037707Z",
     "shell.execute_reply": "2023-05-10T08:29:59.036069Z"
    },
    "papermill": {
     "duration": 0.032474,
     "end_time": "2023-05-10T08:29:59.040118",
     "exception": false,
     "start_time": "2023-05-10T08:29:59.007644",
     "status": "completed"
    },
    "tags": []
   },
   "outputs": [
    {
     "name": "stdout",
     "output_type": "stream",
     "text": [
      "      Loan_ID  Gender Married Dependents     Education Self_Employed  \\\n",
      "0    LP001002    Male      No          0      Graduate            No   \n",
      "1    LP001003    Male     Yes          1      Graduate            No   \n",
      "2    LP001005    Male     Yes          0      Graduate           Yes   \n",
      "3    LP001006    Male     Yes          0  Not Graduate            No   \n",
      "4    LP001008    Male      No          0      Graduate            No   \n",
      "..        ...     ...     ...        ...           ...           ...   \n",
      "609  LP002978  Female      No          0      Graduate            No   \n",
      "610  LP002979    Male     Yes         3+      Graduate            No   \n",
      "611  LP002983    Male     Yes          1      Graduate            No   \n",
      "612  LP002984    Male     Yes          2      Graduate            No   \n",
      "613  LP002990  Female      No          0      Graduate           Yes   \n",
      "\n",
      "     ApplicantIncome  CoapplicantIncome  LoanAmount  Loan_Amount_Term  \\\n",
      "0               5849                0.0         NaN             360.0   \n",
      "1               4583             1508.0       128.0             360.0   \n",
      "2               3000                0.0        66.0             360.0   \n",
      "3               2583             2358.0       120.0             360.0   \n",
      "4               6000                0.0       141.0             360.0   \n",
      "..               ...                ...         ...               ...   \n",
      "609             2900                0.0        71.0             360.0   \n",
      "610             4106                0.0        40.0             180.0   \n",
      "611             8072              240.0       253.0             360.0   \n",
      "612             7583                0.0       187.0             360.0   \n",
      "613             4583                0.0       133.0             360.0   \n",
      "\n",
      "     Credit_History Property_Area Loan_Status  \n",
      "0               1.0         Urban           Y  \n",
      "1               1.0         Rural           N  \n",
      "2               1.0         Urban           Y  \n",
      "3               1.0         Urban           Y  \n",
      "4               1.0         Urban           Y  \n",
      "..              ...           ...         ...  \n",
      "609             1.0         Rural           Y  \n",
      "610             1.0         Rural           Y  \n",
      "611             1.0         Urban           Y  \n",
      "612             1.0         Urban           Y  \n",
      "613             0.0     Semiurban           N  \n",
      "\n",
      "[614 rows x 13 columns]\n"
     ]
    }
   ],
   "source": [
    "print(df)"
   ]
  },
  {
   "cell_type": "code",
   "execution_count": 4,
   "id": "ad7befd8",
   "metadata": {
    "execution": {
     "iopub.execute_input": "2023-05-10T08:29:59.050158Z",
     "iopub.status.busy": "2023-05-10T08:29:59.049357Z",
     "iopub.status.idle": "2023-05-10T08:29:59.062034Z",
     "shell.execute_reply": "2023-05-10T08:29:59.061242Z"
    },
    "papermill": {
     "duration": 0.020134,
     "end_time": "2023-05-10T08:29:59.064573",
     "exception": false,
     "start_time": "2023-05-10T08:29:59.044439",
     "status": "completed"
    },
    "tags": []
   },
   "outputs": [],
   "source": [
    "# Replace infinity values with NaN\n",
    "df.replace([np.inf, -np.inf], np.nan, inplace=True)\n",
    "\n",
    "# Remove rows with NaN values\n",
    "df.dropna(inplace=True)\n"
   ]
  },
  {
   "cell_type": "code",
   "execution_count": 5,
   "id": "97fabd45",
   "metadata": {
    "execution": {
     "iopub.execute_input": "2023-05-10T08:29:59.074315Z",
     "iopub.status.busy": "2023-05-10T08:29:59.073708Z",
     "iopub.status.idle": "2023-05-10T08:29:59.097265Z",
     "shell.execute_reply": "2023-05-10T08:29:59.096125Z"
    },
    "papermill": {
     "duration": 0.031207,
     "end_time": "2023-05-10T08:29:59.099698",
     "exception": false,
     "start_time": "2023-05-10T08:29:59.068491",
     "status": "completed"
    },
    "tags": []
   },
   "outputs": [],
   "source": [
    "# Prepare the data\n",
    "X = df.drop('Loan_Status', axis=1)\n",
    "y = df['Loan_Status']\n",
    "X = pd.get_dummies(X)  # Convert categorical variables to numerical\n"
   ]
  },
  {
   "cell_type": "code",
   "execution_count": 6,
   "id": "21212f86",
   "metadata": {
    "execution": {
     "iopub.execute_input": "2023-05-10T08:29:59.109963Z",
     "iopub.status.busy": "2023-05-10T08:29:59.109608Z",
     "iopub.status.idle": "2023-05-10T08:29:59.133333Z",
     "shell.execute_reply": "2023-05-10T08:29:59.132382Z"
    },
    "papermill": {
     "duration": 0.031898,
     "end_time": "2023-05-10T08:29:59.136153",
     "exception": false,
     "start_time": "2023-05-10T08:29:59.104255",
     "status": "completed"
    },
    "tags": []
   },
   "outputs": [],
   "source": [
    "# Scale the features to a specific range (e.g., [0, 1])\n",
    "scaler = MinMaxScaler()\n",
    "X = scaler.fit_transform(X)\n"
   ]
  },
  {
   "cell_type": "code",
   "execution_count": 7,
   "id": "501751c0",
   "metadata": {
    "execution": {
     "iopub.execute_input": "2023-05-10T08:29:59.146841Z",
     "iopub.status.busy": "2023-05-10T08:29:59.146520Z",
     "iopub.status.idle": "2023-05-10T08:29:59.152702Z",
     "shell.execute_reply": "2023-05-10T08:29:59.151810Z"
    },
    "papermill": {
     "duration": 0.014154,
     "end_time": "2023-05-10T08:29:59.155074",
     "exception": false,
     "start_time": "2023-05-10T08:29:59.140920",
     "status": "completed"
    },
    "tags": []
   },
   "outputs": [],
   "source": [
    "# Split the data into train and test datasets\n",
    "X_train, X_test, y_train, y_test = train_test_split(X, y, test_size=0.2, random_state=42)\n"
   ]
  },
  {
   "cell_type": "code",
   "execution_count": 8,
   "id": "b8e51fb7",
   "metadata": {
    "execution": {
     "iopub.execute_input": "2023-05-10T08:29:59.166252Z",
     "iopub.status.busy": "2023-05-10T08:29:59.165281Z",
     "iopub.status.idle": "2023-05-10T08:29:59.170911Z",
     "shell.execute_reply": "2023-05-10T08:29:59.169983Z"
    },
    "papermill": {
     "duration": 0.013584,
     "end_time": "2023-05-10T08:29:59.173236",
     "exception": false,
     "start_time": "2023-05-10T08:29:59.159652",
     "status": "completed"
    },
    "tags": []
   },
   "outputs": [],
   "source": [
    "# Train and evaluate different models\n",
    "models = {\n",
    "    'Logistic Regression': LogisticRegression(),\n",
    "    'Decision Tree': DecisionTreeClassifier(),\n",
    "    'Random Forest': RandomForestClassifier(),\n",
    "    'Gradient Boosting': GradientBoostingClassifier(),\n",
    "}\n"
   ]
  },
  {
   "cell_type": "code",
   "execution_count": 9,
   "id": "f052505d",
   "metadata": {
    "execution": {
     "iopub.execute_input": "2023-05-10T08:29:59.184014Z",
     "iopub.status.busy": "2023-05-10T08:29:59.183032Z",
     "iopub.status.idle": "2023-05-10T08:29:59.831390Z",
     "shell.execute_reply": "2023-05-10T08:29:59.829831Z"
    },
    "papermill": {
     "duration": 0.656253,
     "end_time": "2023-05-10T08:29:59.833964",
     "exception": false,
     "start_time": "2023-05-10T08:29:59.177711",
     "status": "completed"
    },
    "tags": []
   },
   "outputs": [
    {
     "name": "stdout",
     "output_type": "stream",
     "text": [
      "Logistic Regression Accuracy: 0.8229\n",
      "Decision Tree Accuracy: 0.7396\n",
      "Random Forest Accuracy: 0.8125\n",
      "Gradient Boosting Accuracy: 0.8125\n"
     ]
    }
   ],
   "source": [
    "for model_name, model in models.items():\n",
    "    model.fit(X_train, y_train)\n",
    "    y_pred = model.predict(X_test)\n",
    "    accuracy = accuracy_score(y_test, y_pred)\n",
    "    print(f'{model_name} Accuracy: {accuracy:.4f}')"
   ]
  },
  {
   "cell_type": "code",
   "execution_count": null,
   "id": "7fcb6dea",
   "metadata": {
    "papermill": {
     "duration": 0.004643,
     "end_time": "2023-05-10T08:29:59.843541",
     "exception": false,
     "start_time": "2023-05-10T08:29:59.838898",
     "status": "completed"
    },
    "tags": []
   },
   "outputs": [],
   "source": []
  }
 ],
 "metadata": {
  "kernelspec": {
   "display_name": "Python 3 (ipykernel)",
   "language": "python",
   "name": "python3"
  },
  "language_info": {
   "codemirror_mode": {
    "name": "ipython",
    "version": 3
   },
   "file_extension": ".py",
   "mimetype": "text/x-python",
   "name": "python",
   "nbconvert_exporter": "python",
   "pygments_lexer": "ipython3",
   "version": "3.9.13"
  },
  "papermill": {
   "default_parameters": {},
   "duration": 15.303486,
   "end_time": "2023-05-10T08:30:00.469693",
   "environment_variables": {},
   "exception": null,
   "input_path": "__notebook__.ipynb",
   "output_path": "__notebook__.ipynb",
   "parameters": {},
   "start_time": "2023-05-10T08:29:45.166207",
   "version": "2.4.0"
  }
 },
 "nbformat": 4,
 "nbformat_minor": 5
}
