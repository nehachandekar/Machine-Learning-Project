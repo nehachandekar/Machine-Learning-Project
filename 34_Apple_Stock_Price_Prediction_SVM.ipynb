{
 "cells": [
  {
   "cell_type": "markdown",
   "metadata": {},
   "source": [
    "### Import all necessary libraries"
   ]
  },
  {
   "cell_type": "code",
   "execution_count": 1,
   "metadata": {},
   "outputs": [],
   "source": [
    "import os\n",
    "import numpy as np\n",
    "import pandas as pd\n",
    "from sklearn.svm import SVR\n",
    "import matplotlib.pyplot as plt\n",
    "from sklearn.model_selection import train_test_split"
   ]
  },
  {
   "cell_type": "code",
   "execution_count": 2,
   "metadata": {},
   "outputs": [],
   "source": [
    "def readCsv(file_name):\n",
    "    \n",
    "    '''Reading stock data form csv file as Pandas DataFrame'''\n",
    "    appl_data = ''\n",
    "    file_path = \"data/\"+file_name\n",
    "    if os.path.exists(file_path):\n",
    "        aapl_data = pd.read_csv(file_path)\n",
    "    else: print(\"{0} file does not exists !!\".format(file_name))\n",
    "    return aapl_data"
   ]
  },
  {
   "cell_type": "code",
   "execution_count": 3,
   "metadata": {},
   "outputs": [],
   "source": [
    "def prepTrData(stockdata):\n",
    "    '''Getting relevant data from Dataframe for Training'''\n",
    "    stockdata = stockdata.iloc[::-1]\n",
    "    stockdata[\"highLowAvg\"] = (stockdata[\"high\"]+stockdata[\"low\"])/2\n",
    "    stockdata[\"highLowAvg\"] = stockdata.highLowAvg.shift(-1)\n",
    "    stockdata = stockdata.dropna()\n",
    "    stocks = list(stockdata.close)\n",
    "    avg = list(stockdata.highLowAvg)\n",
    "    return stocks, avg"
   ]
  },
  {
   "cell_type": "code",
   "execution_count": 7,
   "metadata": {},
   "outputs": [
    {
     "data": {
      "text/html": [
       "<div>\n",
       "<style scoped>\n",
       "    .dataframe tbody tr th:only-of-type {\n",
       "        vertical-align: middle;\n",
       "    }\n",
       "\n",
       "    .dataframe tbody tr th {\n",
       "        vertical-align: top;\n",
       "    }\n",
       "\n",
       "    .dataframe thead th {\n",
       "        text-align: right;\n",
       "    }\n",
       "</style>\n",
       "<table border=\"1\" class=\"dataframe\">\n",
       "  <thead>\n",
       "    <tr style=\"text-align: right;\">\n",
       "      <th></th>\n",
       "      <th>date</th>\n",
       "      <th>close</th>\n",
       "      <th>volume</th>\n",
       "      <th>open</th>\n",
       "      <th>high</th>\n",
       "      <th>low</th>\n",
       "    </tr>\n",
       "  </thead>\n",
       "  <tbody>\n",
       "    <tr>\n",
       "      <th>0</th>\n",
       "      <td>2018/07/13</td>\n",
       "      <td>191.33</td>\n",
       "      <td>12506830.0</td>\n",
       "      <td>191.08</td>\n",
       "      <td>191.8400</td>\n",
       "      <td>190.9000</td>\n",
       "    </tr>\n",
       "    <tr>\n",
       "      <th>1</th>\n",
       "      <td>2018/07/12</td>\n",
       "      <td>191.03</td>\n",
       "      <td>18000180.0</td>\n",
       "      <td>189.53</td>\n",
       "      <td>191.4100</td>\n",
       "      <td>189.3100</td>\n",
       "    </tr>\n",
       "    <tr>\n",
       "      <th>2</th>\n",
       "      <td>2018/07/11</td>\n",
       "      <td>187.88</td>\n",
       "      <td>18776390.0</td>\n",
       "      <td>188.50</td>\n",
       "      <td>189.7799</td>\n",
       "      <td>187.6100</td>\n",
       "    </tr>\n",
       "    <tr>\n",
       "      <th>3</th>\n",
       "      <td>2018/07/10</td>\n",
       "      <td>190.35</td>\n",
       "      <td>15801370.0</td>\n",
       "      <td>190.71</td>\n",
       "      <td>191.2800</td>\n",
       "      <td>190.1801</td>\n",
       "    </tr>\n",
       "    <tr>\n",
       "      <th>4</th>\n",
       "      <td>2018/07/09</td>\n",
       "      <td>190.58</td>\n",
       "      <td>19636390.0</td>\n",
       "      <td>189.50</td>\n",
       "      <td>190.6800</td>\n",
       "      <td>189.3000</td>\n",
       "    </tr>\n",
       "  </tbody>\n",
       "</table>\n",
       "</div>"
      ],
      "text/plain": [
       "         date   close      volume    open      high       low\n",
       "0  2018/07/13  191.33  12506830.0  191.08  191.8400  190.9000\n",
       "1  2018/07/12  191.03  18000180.0  189.53  191.4100  189.3100\n",
       "2  2018/07/11  187.88  18776390.0  188.50  189.7799  187.6100\n",
       "3  2018/07/10  190.35  15801370.0  190.71  191.2800  190.1801\n",
       "4  2018/07/09  190.58  19636390.0  189.50  190.6800  189.3000"
      ]
     },
     "execution_count": 7,
     "metadata": {},
     "output_type": "execute_result"
    }
   ],
   "source": [
    "stockdata = pd.read_csv(\"nasdaq_apple.csv\")\n",
    "stockdata.head()\n"
   ]
  },
  {
   "cell_type": "code",
   "execution_count": 8,
   "metadata": {},
   "outputs": [
    {
     "name": "stderr",
     "output_type": "stream",
     "text": [
      "C:\\Users\\nehac\\AppData\\Local\\Temp\\ipykernel_20260\\588319428.py:4: SettingWithCopyWarning: \n",
      "A value is trying to be set on a copy of a slice from a DataFrame.\n",
      "Try using .loc[row_indexer,col_indexer] = value instead\n",
      "\n",
      "See the caveats in the documentation: https://pandas.pydata.org/pandas-docs/stable/user_guide/indexing.html#returning-a-view-versus-a-copy\n",
      "  stockdata[\"highLowAvg\"] = (stockdata[\"high\"]+stockdata[\"low\"])/2\n",
      "C:\\Users\\nehac\\AppData\\Local\\Temp\\ipykernel_20260\\588319428.py:5: SettingWithCopyWarning: \n",
      "A value is trying to be set on a copy of a slice from a DataFrame.\n",
      "Try using .loc[row_indexer,col_indexer] = value instead\n",
      "\n",
      "See the caveats in the documentation: https://pandas.pydata.org/pandas-docs/stable/user_guide/indexing.html#returning-a-view-versus-a-copy\n",
      "  stockdata[\"highLowAvg\"] = stockdata.highLowAvg.shift(-1)\n"
     ]
    }
   ],
   "source": [
    "stock_list, avg_list = prepTrData(stockdata)"
   ]
  },
  {
   "cell_type": "markdown",
   "metadata": {},
   "source": [
    "### Seperating Test and Training data"
   ]
  },
  {
   "cell_type": "code",
   "execution_count": 9,
   "metadata": {},
   "outputs": [],
   "source": [
    "test_size = 0.10\n",
    "avg_list = np.reshape(avg_list, (len(avg_list),1))\n",
    "X_train, X_test, Y_train, Y_test = train_test_split(avg_list, stock_list,test_size = test_size )"
   ]
  },
  {
   "cell_type": "markdown",
   "metadata": {},
   "source": [
    "# Training Model"
   ]
  },
  {
   "cell_type": "markdown",
   "metadata": {},
   "source": [
    "### Linear SVR ::"
   ]
  },
  {
   "cell_type": "code",
   "execution_count": 10,
   "metadata": {},
   "outputs": [
    {
     "data": {
      "text/plain": [
       "0.9785181239410802"
      ]
     },
     "execution_count": 10,
     "metadata": {},
     "output_type": "execute_result"
    }
   ],
   "source": [
    "lin_svr = SVR(kernel = 'linear', C=1e3)\n",
    "rbf_svr = SVR(kernel= 'rbf', C=1e3, gamma=0.1)\n",
    "lin_svr.fit(X_train, Y_train)\n",
    "lin_svr.score(X_test, Y_test)"
   ]
  },
  {
   "cell_type": "markdown",
   "metadata": {},
   "source": [
    "### Polynomial SVR::"
   ]
  },
  {
   "cell_type": "code",
   "execution_count": 11,
   "metadata": {},
   "outputs": [
    {
     "data": {
      "text/plain": [
       "0.9253546239710815"
      ]
     },
     "execution_count": 11,
     "metadata": {},
     "output_type": "execute_result"
    }
   ],
   "source": [
    "poly_svr = SVR(kernel = 'poly', degree = 2, C=1e3)\n",
    "poly_svr.fit(X_train, Y_train)\n",
    "poly_svr.score(X_test, Y_test)"
   ]
  },
  {
   "cell_type": "markdown",
   "metadata": {},
   "source": [
    "### RBF SVR::"
   ]
  },
  {
   "cell_type": "code",
   "execution_count": 12,
   "metadata": {},
   "outputs": [
    {
     "data": {
      "text/plain": [
       "0.9860335329549181"
      ]
     },
     "execution_count": 12,
     "metadata": {},
     "output_type": "execute_result"
    }
   ],
   "source": [
    "rbf_svr = SVR(kernel= 'rbf', C=1e3, gamma=0.1)\n",
    "rbf_svr.fit(X_train, Y_train)\n",
    "rbf_svr.score(X_test, Y_test)"
   ]
  },
  {
   "cell_type": "markdown",
   "metadata": {},
   "source": [
    "# Plot Graph"
   ]
  },
  {
   "cell_type": "code",
   "execution_count": 13,
   "metadata": {},
   "outputs": [
    {
     "data": {
      "text/plain": [
       "Text(0.5, 1.0, 'Stock Prediction SVR')"
      ]
     },
     "execution_count": 13,
     "metadata": {},
     "output_type": "execute_result"
    },
    {
     "data": {
      "image/png": "[encoded data removed]",
      "text/plain": [
       "<Figure size 640x480 with 1 Axes>"
      ]
     },
     "metadata": {},
     "output_type": "display_data"
    }
   ],
   "source": [
    "plt.scatter(X_test, Y_test, color= 'black', label = 'Data')\n",
    "plt.plot(X_test, lin_svr.predict(X_test), color='red', label= 'linear Model')\n",
    "plt.plot(X_test, rbf_svr.predict(X_test), color='green', label= 'RBF Model')\n",
    "plt.xlabel(\"HighLowAvg\")\n",
    "plt.ylabel(\"price\")\n",
    "plt.title(\"Stock Prediction SVR\")"
   ]
  },
  {
   "cell_type": "code",
   "execution_count": null,
   "metadata": {},
   "outputs": [],
   "source": []
  }
 ],
 "metadata": {
  "kernelspec": {
   "display_name": "Python 3 (ipykernel)",
   "language": "python",
   "name": "python3"
  },
  "language_info": {
   "codemirror_mode": {
    "name": "ipython",
    "version": 3
   },
   "file_extension": ".py",
   "mimetype": "text/x-python",
   "name": "python",
   "nbconvert_exporter": "python",
   "pygments_lexer": "ipython3",
   "version": "3.9.13"
  }
 },
 "nbformat": 4,
 "nbformat_minor": 2
}
