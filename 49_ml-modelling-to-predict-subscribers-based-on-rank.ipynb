{
 "cells": [
  {
   "cell_type": "code",
   "execution_count": 1,
   "id": "b2ed5f68",
   "metadata": {
    "execution": {
     "iopub.execute_input": "2023-04-11T08:14:40.204798Z",
     "iopub.status.busy": "2023-04-11T08:14:40.204347Z",
     "iopub.status.idle": "2023-04-11T08:14:42.330148Z",
     "shell.execute_reply": "2023-04-11T08:14:42.328654Z"
    },
    "papermill": {
     "duration": 2.139287,
     "end_time": "2023-04-11T08:14:42.333101",
     "exception": false,
     "start_time": "2023-04-11T08:14:40.193814",
     "status": "completed"
    },
    "tags": []
   },
   "outputs": [],
   "source": [
    "import pandas as pd\n",
    "import matplotlib.pyplot as plt\n",
    "import seaborn as sns\n",
    "import numpy as np\n",
    "import scipy.stats as stats\n",
    "from mpl_toolkits.mplot3d import Axes3D\n",
    "from sklearn.datasets import make_regression\n",
    "from sklearn.model_selection import train_test_split\n",
    "from sklearn.linear_model import LinearRegression\n",
    "from sklearn.metrics import mean_squared_error\n",
    "from sklearn.preprocessing import StandardScaler\n",
    "from sklearn.cluster import KMeans"
   ]
  },
  {
   "cell_type": "code",
   "execution_count": 2,
   "id": "cc4ae794",
   "metadata": {
    "execution": {
     "iopub.execute_input": "2023-04-11T08:14:42.353971Z",
     "iopub.status.busy": "2023-04-11T08:14:42.353268Z",
     "iopub.status.idle": "2023-04-11T08:14:42.834900Z",
     "shell.execute_reply": "2023-04-11T08:14:42.833535Z"
    },
    "papermill": {
     "duration": 0.496273,
     "end_time": "2023-04-11T08:14:42.838076",
     "exception": false,
     "start_time": "2023-04-11T08:14:42.341803",
     "status": "completed"
    },
    "tags": []
   },
   "outputs": [],
   "source": [
    "df = pd.read_excel('MostSubscribers.xlsx')"
   ]
  },
  {
   "cell_type": "code",
   "execution_count": 3,
   "id": "7baf2ecc",
   "metadata": {
    "execution": {
     "iopub.execute_input": "2023-04-11T08:14:42.858075Z",
     "iopub.status.busy": "2023-04-11T08:14:42.857413Z",
     "iopub.status.idle": "2023-04-11T08:14:42.864779Z",
     "shell.execute_reply": "2023-04-11T08:14:42.863234Z"
    },
    "papermill": {
     "duration": 0.020675,
     "end_time": "2023-04-11T08:14:42.867528",
     "exception": false,
     "start_time": "2023-04-11T08:14:42.846853",
     "status": "completed"
    },
    "tags": []
   },
   "outputs": [
    {
     "name": "stdout",
     "output_type": "stream",
     "text": [
      "Shape of dataframe: (50, 6)\n"
     ]
    }
   ],
   "source": [
    "print('Shape of dataframe:', df.shape)"
   ]
  },
  {
   "cell_type": "code",
   "execution_count": 4,
   "id": "dce36c7c",
   "metadata": {
    "execution": {
     "iopub.execute_input": "2023-04-11T08:14:42.888053Z",
     "iopub.status.busy": "2023-04-11T08:14:42.886520Z",
     "iopub.status.idle": "2023-04-11T08:14:42.907239Z",
     "shell.execute_reply": "2023-04-11T08:14:42.905807Z"
    },
    "papermill": {
     "duration": 0.03384,
     "end_time": "2023-04-11T08:14:42.910158",
     "exception": false,
     "start_time": "2023-04-11T08:14:42.876318",
     "status": "completed"
    },
    "tags": []
   },
   "outputs": [
    {
     "name": "stdout",
     "output_type": "stream",
     "text": [
      "\n",
      "First 5 rows of dataframe:\n",
      "    Rank                     Channel  Subscribers(millions) Language  \\\n",
      "0     1                    T-Series                  193.0    Hindi   \n",
      "1     2  Cocomelon - Nursery Rhymes                  118.0  English   \n",
      "2     3                   SET India                  115.0    Hindi   \n",
      "3     4                   PewDiePie                  110.0  English   \n",
      "4     5             Kids Diana Show                   83.5  English   \n",
      "\n",
      "        Category         Country  \n",
      "0          Music           India  \n",
      "1      Education   United States  \n",
      "2  Entertainment           India  \n",
      "3         Gaming          Sweden  \n",
      "4           Film         Ukraine  \n"
     ]
    }
   ],
   "source": [
    "print('\\nFirst 5 rows of dataframe:\\n', df.head())"
   ]
  },
  {
   "cell_type": "code",
   "execution_count": 5,
   "id": "cd71105f",
   "metadata": {
    "execution": {
     "iopub.execute_input": "2023-04-11T08:14:42.930580Z",
     "iopub.status.busy": "2023-04-11T08:14:42.930142Z",
     "iopub.status.idle": "2023-04-11T08:14:42.959118Z",
     "shell.execute_reply": "2023-04-11T08:14:42.957583Z"
    },
    "papermill": {
     "duration": 0.042676,
     "end_time": "2023-04-11T08:14:42.962131",
     "exception": false,
     "start_time": "2023-04-11T08:14:42.919455",
     "status": "completed"
    },
    "tags": []
   },
   "outputs": [
    {
     "name": "stdout",
     "output_type": "stream",
     "text": [
      "<class 'pandas.core.frame.DataFrame'>\n",
      "RangeIndex: 50 entries, 0 to 49\n",
      "Data columns (total 6 columns):\n",
      " #   Column                 Non-Null Count  Dtype  \n",
      "---  ------                 --------------  -----  \n",
      " 0   Rank                   50 non-null     int64  \n",
      " 1   Channel                50 non-null     object \n",
      " 2   Subscribers(millions)  50 non-null     float64\n",
      " 3   Language               50 non-null     object \n",
      " 4   Category               50 non-null     object \n",
      " 5   Country                50 non-null     object \n",
      "dtypes: float64(1), int64(1), object(4)\n",
      "memory usage: 2.5+ KB\n",
      "\n",
      "Data types and non-null values of columns:\n",
      " None\n"
     ]
    }
   ],
   "source": [
    "print('\\nData types and non-null values of columns:\\n', df.info())"
   ]
  },
  {
   "cell_type": "code",
   "execution_count": 6,
   "id": "561ded1e",
   "metadata": {
    "execution": {
     "iopub.execute_input": "2023-04-11T08:14:42.983312Z",
     "iopub.status.busy": "2023-04-11T08:14:42.982842Z",
     "iopub.status.idle": "2023-04-11T08:14:43.001904Z",
     "shell.execute_reply": "2023-04-11T08:14:43.000367Z"
    },
    "papermill": {
     "duration": 0.032463,
     "end_time": "2023-04-11T08:14:43.004480",
     "exception": false,
     "start_time": "2023-04-11T08:14:42.972017",
     "status": "completed"
    },
    "tags": []
   },
   "outputs": [
    {
     "name": "stdout",
     "output_type": "stream",
     "text": [
      "\n",
      "Summary statistics of numerical columns:\n",
      "            Rank  Subscribers(millions)\n",
      "count  50.00000              50.000000\n",
      "mean   25.50000              59.918000\n",
      "std    14.57738              26.828097\n",
      "min     1.00000              40.000000\n",
      "25%    13.25000              43.875000\n",
      "50%    25.50000              50.600000\n",
      "75%    37.75000              65.175000\n",
      "max    50.00000             193.000000\n"
     ]
    }
   ],
   "source": [
    "print('\\nSummary statistics of numerical columns:\\n', df.describe())"
   ]
  },
  {
   "cell_type": "code",
   "execution_count": 7,
   "id": "e724d395",
   "metadata": {
    "execution": {
     "iopub.execute_input": "2023-04-11T08:14:43.024729Z",
     "iopub.status.busy": "2023-04-11T08:14:43.024309Z",
     "iopub.status.idle": "2023-04-11T08:14:43.032470Z",
     "shell.execute_reply": "2023-04-11T08:14:43.030858Z"
    },
    "papermill": {
     "duration": 0.021518,
     "end_time": "2023-04-11T08:14:43.034990",
     "exception": false,
     "start_time": "2023-04-11T08:14:43.013472",
     "status": "completed"
    },
    "tags": []
   },
   "outputs": [
    {
     "name": "stdout",
     "output_type": "stream",
     "text": [
      "Index(['Ranking', 'Account', 'Subscribers', 'Language', 'Category', 'Country'], dtype='object')\n"
     ]
    }
   ],
   "source": [
    "df = df.rename(columns={\n",
    "    'Rank': 'Ranking',\n",
    "    'Channel': 'Account',\n",
    "    'Subscribers(millions)': 'Subscribers',\n",
    "    'Language': 'Language',\n",
    "    'Category': 'Category',\n",
    "    'Country': 'Country'\n",
    "})\n",
    "\n",
    "print(df.columns)"
   ]
  },
  {
   "cell_type": "code",
   "execution_count": 8,
   "id": "8a03d3a4",
   "metadata": {
    "execution": {
     "iopub.execute_input": "2023-04-11T08:14:43.056195Z",
     "iopub.status.busy": "2023-04-11T08:14:43.055094Z",
     "iopub.status.idle": "2023-04-11T08:14:43.077817Z",
     "shell.execute_reply": "2023-04-11T08:14:43.075881Z"
    },
    "papermill": {
     "duration": 0.036294,
     "end_time": "2023-04-11T08:14:43.080781",
     "exception": false,
     "start_time": "2023-04-11T08:14:43.044487",
     "status": "completed"
    },
    "tags": []
   },
   "outputs": [
    {
     "name": "stdout",
     "output_type": "stream",
     "text": [
      "                               count        mean  median        std\n",
      "Category      Country                                              \n",
      "Comedy         Brazil              1   43.000000   43.00        NaN\n",
      "Education      India               1   51.500000   51.50        NaN\n",
      "               South Korea         1   52.000000   52.00        NaN\n",
      "               United States       1  118.000000  118.00        NaN\n",
      "Entertainment  Brazil              2   42.150000   42.15   1.060660\n",
      "               Chile               2   43.450000   43.45   0.919239\n",
      "               Cyprus              1   41.900000   41.90        NaN\n",
      "               India               4   69.125000   58.35  31.250960\n",
      "               Mexico              1   44.800000   44.80        NaN\n",
      "               Russia              2   74.550000   74.55   3.181981\n",
      "               Spain               1   40.000000   40.00        NaN\n",
      "               United States       1   69.800000   69.80        NaN\n",
      "Film           India               1   58.800000   58.80        NaN\n",
      "               Ukraine             1   83.500000   83.50        NaN\n",
      "               United States       1   54.200000   54.20        NaN\n",
      "Gaming         El Salvador         1   43.100000   43.10        NaN\n",
      "               Sweden              1  110.000000  110.00        NaN\n",
      "How-to         Cyprus              1   73.700000   73.70        NaN\n",
      "Music          Argentina           1   45.200000   45.20        NaN\n",
      "               Brazil              1   64.800000   64.80        NaN\n",
      "               Canada              1   65.300000   65.30        NaN\n",
      "               India               8   68.900000   47.05  51.398972\n",
      "               South Korea         3   62.300000   61.50   4.355456\n",
      "               United Kingdom      2   44.600000   44.60   6.081118\n",
      "               United States       7   46.585714   45.50   4.443133\n",
      "News           India               1   47.600000   47.60        NaN\n",
      "Sports         United States       2   69.250000   69.25  17.748380\n"
     ]
    }
   ],
   "source": [
    "grouped_df = df.groupby(['Category', 'Country'])['Subscribers'].agg(['count', 'mean', 'median', 'std'])\n",
    "print(grouped_df)"
   ]
  },
  {
   "cell_type": "code",
   "execution_count": 9,
   "id": "a1af32d2",
   "metadata": {
    "execution": {
     "iopub.execute_input": "2023-04-11T08:14:43.101802Z",
     "iopub.status.busy": "2023-04-11T08:14:43.101380Z",
     "iopub.status.idle": "2023-04-11T08:14:43.387656Z",
     "shell.execute_reply": "2023-04-11T08:14:43.386101Z"
    },
    "papermill": {
     "duration": 0.300271,
     "end_time": "2023-04-11T08:14:43.390388",
     "exception": false,
     "start_time": "2023-04-11T08:14:43.090117",
     "status": "completed"
    },
    "tags": []
   },
   "outputs": [
    {
     "data": {
      "image/png": "[encoded data removed]",
      "text/plain": [
       "<Figure size 640x480 with 1 Axes>"
      ]
     },
     "metadata": {},
     "output_type": "display_data"
    }
   ],
   "source": [
    "# Create a countplot of the 'Category' column\n",
    "sns.countplot(x='Category', data=df)\n",
    "plt.title('Count of Accounts by Category')\n",
    "plt.xlabel('Category')\n",
    "plt.ylabel('Count')\n",
    "plt.show()"
   ]
  },
  {
   "cell_type": "code",
   "execution_count": 10,
   "id": "a5ba3638",
   "metadata": {
    "execution": {
     "iopub.execute_input": "2023-04-11T08:14:43.412551Z",
     "iopub.status.busy": "2023-04-11T08:14:43.411268Z",
     "iopub.status.idle": "2023-04-11T08:14:43.693812Z",
     "shell.execute_reply": "2023-04-11T08:14:43.692512Z"
    },
    "papermill": {
     "duration": 0.296707,
     "end_time": "2023-04-11T08:14:43.696851",
     "exception": false,
     "start_time": "2023-04-11T08:14:43.400144",
     "status": "completed"
    },
    "tags": []
   },
   "outputs": [
    {
     "data": {
      "image/png": "[encoded data removed]",
      "text/plain": [
       "<Figure size 640x480 with 1 Axes>"
      ]
     },
     "metadata": {},
     "output_type": "display_data"
    }
   ],
   "source": [
    "sns.histplot(data=df, x='Subscribers')\n",
    "plt.title('Distribution of Subscribers')\n",
    "plt.xlabel('Subscribers')\n",
    "plt.ylabel('Count')\n",
    "plt.show()"
   ]
  },
  {
   "cell_type": "code",
   "execution_count": 11,
   "id": "034631aa",
   "metadata": {
    "execution": {
     "iopub.execute_input": "2023-04-11T08:14:43.719136Z",
     "iopub.status.busy": "2023-04-11T08:14:43.718691Z",
     "iopub.status.idle": "2023-04-11T08:14:44.038067Z",
     "shell.execute_reply": "2023-04-11T08:14:44.036758Z"
    },
    "papermill": {
     "duration": 0.334048,
     "end_time": "2023-04-11T08:14:44.041065",
     "exception": false,
     "start_time": "2023-04-11T08:14:43.707017",
     "status": "completed"
    },
    "tags": []
   },
   "outputs": [
    {
     "data": {
      "image/png": "[encoded data removed]",
      "text/plain": [
       "<Figure size 640x480 with 1 Axes>"
      ]
     },
     "metadata": {},
     "output_type": "display_data"
    }
   ],
   "source": [
    "top_10 = df.sort_values(by='Subscribers', ascending=False).head(10)\n",
    "sns.barplot(x='Account', y='Subscribers', data=top_10)\n",
    "plt.title('Top 10 Accounts by Subscribers')\n",
    "plt.xlabel('Account')\n",
    "plt.ylabel('Subscribers')\n",
    "plt.xticks(rotation=90)\n",
    "plt.show()"
   ]
  },
  {
   "cell_type": "code",
   "execution_count": 12,
   "id": "e6cd5c0f",
   "metadata": {
    "execution": {
     "iopub.execute_input": "2023-04-11T08:14:44.065125Z",
     "iopub.status.busy": "2023-04-11T08:14:44.064692Z",
     "iopub.status.idle": "2023-04-11T08:14:44.075760Z",
     "shell.execute_reply": "2023-04-11T08:14:44.073786Z"
    },
    "papermill": {
     "duration": 0.026505,
     "end_time": "2023-04-11T08:14:44.078578",
     "exception": false,
     "start_time": "2023-04-11T08:14:44.052073",
     "status": "completed"
    },
    "tags": []
   },
   "outputs": [
    {
     "name": "stdout",
     "output_type": "stream",
     "text": [
      "count     50.000000\n",
      "mean      59.918000\n",
      "std       26.828097\n",
      "min       40.000000\n",
      "25%       43.875000\n",
      "50%       50.600000\n",
      "75%       65.175000\n",
      "max      193.000000\n",
      "Name: Subscribers, dtype: float64\n"
     ]
    }
   ],
   "source": [
    "print(df['Subscribers'].describe())"
   ]
  },
  {
   "cell_type": "code",
   "execution_count": 13,
   "id": "47c155c9",
   "metadata": {
    "execution": {
     "iopub.execute_input": "2023-04-11T08:14:44.103045Z",
     "iopub.status.busy": "2023-04-11T08:14:44.102508Z",
     "iopub.status.idle": "2023-04-11T08:14:44.115078Z",
     "shell.execute_reply": "2023-04-11T08:14:44.113387Z"
    },
    "papermill": {
     "duration": 0.028444,
     "end_time": "2023-04-11T08:14:44.117843",
     "exception": false,
     "start_time": "2023-04-11T08:14:44.089399",
     "status": "completed"
    },
    "tags": []
   },
   "outputs": [
    {
     "name": "stdout",
     "output_type": "stream",
     "text": [
      "T-statistic: 8.02, p-value: 0.0000\n"
     ]
    }
   ],
   "source": [
    "# Hypothesis test to compare mean number of subscribers\n",
    "top_10 = df.sort_values(by='Subscribers', ascending=False).head(10)\n",
    "rest = df.sort_values(by='Subscribers', ascending=False).tail(40)\n",
    "t_stat, p_val = stats.ttest_ind(top_10['Subscribers'], rest['Subscribers'])\n",
    "print('T-statistic: {:.2f}, p-value: {:.4f}'.format(t_stat, p_val))"
   ]
  },
  {
   "cell_type": "code",
   "execution_count": 14,
   "id": "1754f4c1",
   "metadata": {
    "execution": {
     "iopub.execute_input": "2023-04-11T08:14:44.142074Z",
     "iopub.status.busy": "2023-04-11T08:14:44.141621Z",
     "iopub.status.idle": "2023-04-11T08:14:44.150794Z",
     "shell.execute_reply": "2023-04-11T08:14:44.149615Z"
    },
    "papermill": {
     "duration": 0.024632,
     "end_time": "2023-04-11T08:14:44.153345",
     "exception": false,
     "start_time": "2023-04-11T08:14:44.128713",
     "status": "completed"
    },
    "tags": []
   },
   "outputs": [
    {
     "name": "stdout",
     "output_type": "stream",
     "text": [
      "Spearman correlation coefficient: -1.00, p-value: 0.0000\n"
     ]
    }
   ],
   "source": [
    "# Correlation between number of subscribers and ranking\n",
    "corr, p_val = stats.spearmanr(df['Ranking'], df['Subscribers'])\n",
    "print('Spearman correlation coefficient: {:.2f}, p-value: {:.4f}'.format(corr, p_val))"
   ]
  },
  {
   "cell_type": "code",
   "execution_count": 15,
   "id": "01fcced8",
   "metadata": {
    "execution": {
     "iopub.execute_input": "2023-04-11T08:14:44.177151Z",
     "iopub.status.busy": "2023-04-11T08:14:44.176667Z",
     "iopub.status.idle": "2023-04-11T08:14:44.528577Z",
     "shell.execute_reply": "2023-04-11T08:14:44.527315Z"
    },
    "papermill": {
     "duration": 0.366953,
     "end_time": "2023-04-11T08:14:44.531172",
     "exception": false,
     "start_time": "2023-04-11T08:14:44.164219",
     "status": "completed"
    },
    "tags": []
   },
   "outputs": [
    {
     "data": {
      "image/png": "[encoded data removed]",
      "text/plain": [
       "<Figure size 640x480 with 1 Axes>"
      ]
     },
     "metadata": {},
     "output_type": "display_data"
    }
   ],
   "source": [
    "# Box plot of subscribers by category\n",
    "sns.boxplot(x='Category', y='Subscribers', data=df)\n",
    "plt.title('Distribution of Subscribers by Category')\n",
    "plt.xlabel('Category')\n",
    "plt.ylabel('Subscribers')\n",
    "plt.xticks(rotation=90)\n",
    "plt.show()"
   ]
  },
  {
   "cell_type": "code",
   "execution_count": 16,
   "id": "fb7913a7",
   "metadata": {
    "execution": {
     "iopub.execute_input": "2023-04-11T08:14:44.556964Z",
     "iopub.status.busy": "2023-04-11T08:14:44.556477Z",
     "iopub.status.idle": "2023-04-11T08:14:44.983055Z",
     "shell.execute_reply": "2023-04-11T08:14:44.981780Z"
    },
    "papermill": {
     "duration": 0.44272,
     "end_time": "2023-04-11T08:14:44.985732",
     "exception": false,
     "start_time": "2023-04-11T08:14:44.543012",
     "status": "completed"
    },
    "tags": []
   },
   "outputs": [
    {
     "data": {
      "image/png": "[encoded data removed]",
      "text/plain": [
       "<Figure size 640x480 with 1 Axes>"
      ]
     },
     "metadata": {},
     "output_type": "display_data"
    }
   ],
   "source": [
    "# Scatter plot of subscribers and ranking\n",
    "sns.scatterplot(x='Ranking', y='Subscribers', data=df)\n",
    "plt.title('Subscribers vs. Ranking')\n",
    "plt.xlabel('Ranking')\n",
    "plt.ylabel('Subscribers')\n",
    "plt.show()"
   ]
  },
  {
   "cell_type": "code",
   "execution_count": 17,
   "id": "7b779bab",
   "metadata": {
    "execution": {
     "iopub.execute_input": "2023-04-11T08:14:45.012974Z",
     "iopub.status.busy": "2023-04-11T08:14:45.011100Z",
     "iopub.status.idle": "2023-04-11T08:14:45.022554Z",
     "shell.execute_reply": "2023-04-11T08:14:45.020888Z"
    },
    "papermill": {
     "duration": 0.028185,
     "end_time": "2023-04-11T08:14:45.025906",
     "exception": false,
     "start_time": "2023-04-11T08:14:44.997721",
     "status": "completed"
    },
    "tags": []
   },
   "outputs": [],
   "source": [
    "# Split data into training and test sets\n",
    "X_train, X_test, y_train, y_test = train_test_split(df['Ranking'], df['Subscribers'], test_size=0.2, random_state=42)"
   ]
  },
  {
   "cell_type": "code",
   "execution_count": 18,
   "id": "427bae4e",
   "metadata": {
    "execution": {
     "iopub.execute_input": "2023-04-11T08:14:45.052221Z",
     "iopub.status.busy": "2023-04-11T08:14:45.051792Z",
     "iopub.status.idle": "2023-04-11T08:14:45.063111Z",
     "shell.execute_reply": "2023-04-11T08:14:45.061941Z"
    },
    "papermill": {
     "duration": 0.027496,
     "end_time": "2023-04-11T08:14:45.065692",
     "exception": false,
     "start_time": "2023-04-11T08:14:45.038196",
     "status": "completed"
    },
    "tags": []
   },
   "outputs": [],
   "source": [
    "# Fit linear regression model on training data\n",
    "reg = LinearRegression().fit(X_train.values.reshape(-1, 1), y_train)"
   ]
  },
  {
   "cell_type": "code",
   "execution_count": 19,
   "id": "b017c338",
   "metadata": {
    "execution": {
     "iopub.execute_input": "2023-04-11T08:14:45.093598Z",
     "iopub.status.busy": "2023-04-11T08:14:45.092034Z",
     "iopub.status.idle": "2023-04-11T08:14:45.098095Z",
     "shell.execute_reply": "2023-04-11T08:14:45.097115Z"
    },
    "papermill": {
     "duration": 0.022903,
     "end_time": "2023-04-11T08:14:45.100681",
     "exception": false,
     "start_time": "2023-04-11T08:14:45.077778",
     "status": "completed"
    },
    "tags": []
   },
   "outputs": [],
   "source": [
    "# Predict number of subscribers on test data\n",
    "y_pred = reg.predict(X_test.values.reshape(-1, 1))"
   ]
  },
  {
   "cell_type": "code",
   "execution_count": 20,
   "id": "7f2c9985",
   "metadata": {
    "execution": {
     "iopub.execute_input": "2023-04-11T08:14:45.127669Z",
     "iopub.status.busy": "2023-04-11T08:14:45.127166Z",
     "iopub.status.idle": "2023-04-11T08:14:45.135297Z",
     "shell.execute_reply": "2023-04-11T08:14:45.133557Z"
    },
    "papermill": {
     "duration": 0.025456,
     "end_time": "2023-04-11T08:14:45.138216",
     "exception": false,
     "start_time": "2023-04-11T08:14:45.112760",
     "status": "completed"
    },
    "tags": []
   },
   "outputs": [
    {
     "name": "stdout",
     "output_type": "stream",
     "text": [
      "Mean squared error: 108.13\n"
     ]
    }
   ],
   "source": [
    "mse = mean_squared_error(y_test, y_pred)\n",
    "print('Mean squared error: {:.2f}'.format(mse))"
   ]
  },
  {
   "cell_type": "code",
   "execution_count": 21,
   "id": "6c2d04d6",
   "metadata": {
    "execution": {
     "iopub.execute_input": "2023-04-11T08:14:45.166810Z",
     "iopub.status.busy": "2023-04-11T08:14:45.166336Z",
     "iopub.status.idle": "2023-04-11T08:14:45.173833Z",
     "shell.execute_reply": "2023-04-11T08:14:45.172714Z"
    },
    "papermill": {
     "duration": 0.025361,
     "end_time": "2023-04-11T08:14:45.176424",
     "exception": false,
     "start_time": "2023-04-11T08:14:45.151063",
     "status": "completed"
    },
    "tags": []
   },
   "outputs": [],
   "source": [
    "X_fake, y_fake = make_regression(n_samples=100, n_features=1, noise=20, random_state=42)"
   ]
  },
  {
   "cell_type": "code",
   "execution_count": 22,
   "id": "f1d47852",
   "metadata": {
    "execution": {
     "iopub.execute_input": "2023-04-11T08:14:45.202849Z",
     "iopub.status.busy": "2023-04-11T08:14:45.201853Z",
     "iopub.status.idle": "2023-04-11T08:14:45.208818Z",
     "shell.execute_reply": "2023-04-11T08:14:45.207649Z"
    },
    "papermill": {
     "duration": 0.023269,
     "end_time": "2023-04-11T08:14:45.211543",
     "exception": false,
     "start_time": "2023-04-11T08:14:45.188274",
     "status": "completed"
    },
    "tags": []
   },
   "outputs": [],
   "source": [
    "X_fake_train, X_fake_test, y_fake_train, y_fake_test = train_test_split(X_fake, y_fake, test_size=0.2, random_state=42)"
   ]
  },
  {
   "cell_type": "code",
   "execution_count": 23,
   "id": "d1b9546e",
   "metadata": {
    "execution": {
     "iopub.execute_input": "2023-04-11T08:14:45.238562Z",
     "iopub.status.busy": "2023-04-11T08:14:45.237753Z",
     "iopub.status.idle": "2023-04-11T08:14:45.250860Z",
     "shell.execute_reply": "2023-04-11T08:14:45.249748Z"
    },
    "papermill": {
     "duration": 0.029783,
     "end_time": "2023-04-11T08:14:45.253573",
     "exception": false,
     "start_time": "2023-04-11T08:14:45.223790",
     "status": "completed"
    },
    "tags": []
   },
   "outputs": [
    {
     "data": {
      "text/html": [
       "<style>#sk-container-id-1 {\n",
       "  /* Definition of color scheme common for light and dark mode */\n",
       "  --sklearn-color-text: black;\n",
       "  --sklearn-color-line: gray;\n",
       "  /* Definition of color scheme for unfitted estimators */\n",
       "  --sklearn-color-unfitted-level-0: #fff5e6;\n",
       "  --sklearn-color-unfitted-level-1: #f6e4d2;\n",
       "  --sklearn-color-unfitted-level-2: #ffe0b3;\n",
       "  --sklearn-color-unfitted-level-3: chocolate;\n",
       "  /* Definition of color scheme for fitted estimators */\n",
       "  --sklearn-color-fitted-level-0: #f0f8ff;\n",
       "  --sklearn-color-fitted-level-1: #d4ebff;\n",
       "  --sklearn-color-fitted-level-2: #b3dbfd;\n",
       "  --sklearn-color-fitted-level-3: cornflowerblue;\n",
       "\n",
       "  /* Specific color for light theme */\n",
       "  --sklearn-color-text-on-default-background: var(--sg-text-color, var(--theme-code-foreground, var(--jp-content-font-color1, black)));\n",
       "  --sklearn-color-background: var(--sg-background-color, var(--theme-background, var(--jp-layout-color0, white)));\n",
       "  --sklearn-color-border-box: var(--sg-text-color, var(--theme-code-foreground, var(--jp-content-font-color1, black)));\n",
       "  --sklearn-color-icon: #696969;\n",
       "\n",
       "  @media (prefers-color-scheme: dark) {\n",
       "    /* Redefinition of color scheme for dark theme */\n",
       "    --sklearn-color-text-on-default-background: var(--sg-text-color, var(--theme-code-foreground, var(--jp-content-font-color1, white)));\n",
       "    --sklearn-color-background: var(--sg-background-color, var(--theme-background, var(--jp-layout-color0, #111)));\n",
       "    --sklearn-color-border-box: var(--sg-text-color, var(--theme-code-foreground, var(--jp-content-font-color1, white)));\n",
       "    --sklearn-color-icon: #878787;\n",
       "  }\n",
       "}\n",
       "\n",
       "#sk-container-id-1 {\n",
       "  color: var(--sklearn-color-text);\n",
       "}\n",
       "\n",
       "#sk-container-id-1 pre {\n",
       "  padding: 0;\n",
       "}\n",
       "\n",
       "#sk-container-id-1 input.sk-hidden--visually {\n",
       "  border: 0;\n",
       "  clip: rect(1px 1px 1px 1px);\n",
       "  clip: rect(1px, 1px, 1px, 1px);\n",
       "  height: 1px;\n",
       "  margin: -1px;\n",
       "  overflow: hidden;\n",
       "  padding: 0;\n",
       "  position: absolute;\n",
       "  width: 1px;\n",
       "}\n",
       "\n",
       "#sk-container-id-1 div.sk-dashed-wrapped {\n",
       "  border: 1px dashed var(--sklearn-color-line);\n",
       "  margin: 0 0.4em 0.5em 0.4em;\n",
       "  box-sizing: border-box;\n",
       "  padding-bottom: 0.4em;\n",
       "  background-color: var(--sklearn-color-background);\n",
       "}\n",
       "\n",
       "#sk-container-id-1 div.sk-container {\n",
       "  /* jupyter's `normalize.less` sets `[hidden] { display: none; }`\n",
       "     but bootstrap.min.css set `[hidden] { display: none !important; }`\n",
       "     so we also need the `!important` here to be able to override the\n",
       "     default hidden behavior on the sphinx rendered scikit-learn.org.\n",
       "     See: https://github.com/scikit-learn/scikit-learn/issues/21755 */\n",
       "  display: inline-block !important;\n",
       "  position: relative;\n",
       "}\n",
       "\n",
       "#sk-container-id-1 div.sk-text-repr-fallback {\n",
       "  display: none;\n",
       "}\n",
       "\n",
       "div.sk-parallel-item,\n",
       "div.sk-serial,\n",
       "div.sk-item {\n",
       "  /* draw centered vertical line to link estimators */\n",
       "  background-image: linear-gradient(var(--sklearn-color-text-on-default-background), var(--sklearn-color-text-on-default-background));\n",
       "  background-size: 2px 100%;\n",
       "  background-repeat: no-repeat;\n",
       "  background-position: center center;\n",
       "}\n",
       "\n",
       "/* Parallel-specific style estimator block */\n",
       "\n",
       "#sk-container-id-1 div.sk-parallel-item::after {\n",
       "  content: \"\";\n",
       "  width: 100%;\n",
       "  border-bottom: 2px solid var(--sklearn-color-text-on-default-background);\n",
       "  flex-grow: 1;\n",
       "}\n",
       "\n",
       "#sk-container-id-1 div.sk-parallel {\n",
       "  display: flex;\n",
       "  align-items: stretch;\n",
       "  justify-content: center;\n",
       "  background-color: var(--sklearn-color-background);\n",
       "  position: relative;\n",
       "}\n",
       "\n",
       "#sk-container-id-1 div.sk-parallel-item {\n",
       "  display: flex;\n",
       "  flex-direction: column;\n",
       "}\n",
       "\n",
       "#sk-container-id-1 div.sk-parallel-item:first-child::after {\n",
       "  align-self: flex-end;\n",
       "  width: 50%;\n",
       "}\n",
       "\n",
       "#sk-container-id-1 div.sk-parallel-item:last-child::after {\n",
       "  align-self: flex-start;\n",
       "  width: 50%;\n",
       "}\n",
       "\n",
       "#sk-container-id-1 div.sk-parallel-item:only-child::after {\n",
       "  width: 0;\n",
       "}\n",
       "\n",
       "/* Serial-specific style estimator block */\n",
       "\n",
       "#sk-container-id-1 div.sk-serial {\n",
       "  display: flex;\n",
       "  flex-direction: column;\n",
       "  align-items: center;\n",
       "  background-color: var(--sklearn-color-background);\n",
       "  padding-right: 1em;\n",
       "  padding-left: 1em;\n",
       "}\n",
       "\n",
       "\n",
       "/* Toggleable style: style used for estimator/Pipeline/ColumnTransformer box that is\n",
       "clickable and can be expanded/collapsed.\n",
       "- Pipeline and ColumnTransformer use this feature and define the default style\n",
       "- Estimators will overwrite some part of the style using the `sk-estimator` class\n",
       "*/\n",
       "\n",
       "/* Pipeline and ColumnTransformer style (default) */\n",
       "\n",
       "#sk-container-id-1 div.sk-toggleable {\n",
       "  /* Default theme specific background. It is overwritten whether we have a\n",
       "  specific estimator or a Pipeline/ColumnTransformer */\n",
       "  background-color: var(--sklearn-color-background);\n",
       "}\n",
       "\n",
       "/* Toggleable label */\n",
       "#sk-container-id-1 label.sk-toggleable__label {\n",
       "  cursor: pointer;\n",
       "  display: block;\n",
       "  width: 100%;\n",
       "  margin-bottom: 0;\n",
       "  padding: 0.5em;\n",
       "  box-sizing: border-box;\n",
       "  text-align: center;\n",
       "}\n",
       "\n",
       "#sk-container-id-1 label.sk-toggleable__label-arrow:before {\n",
       "  /* Arrow on the left of the label */\n",
       "  content: \"▸\";\n",
       "  float: left;\n",
       "  margin-right: 0.25em;\n",
       "  color: var(--sklearn-color-icon);\n",
       "}\n",
       "\n",
       "#sk-container-id-1 label.sk-toggleable__label-arrow:hover:before {\n",
       "  color: var(--sklearn-color-text);\n",
       "}\n",
       "\n",
       "/* Toggleable content - dropdown */\n",
       "\n",
       "#sk-container-id-1 div.sk-toggleable__content {\n",
       "  max-height: 0;\n",
       "  max-width: 0;\n",
       "  overflow: hidden;\n",
       "  text-align: left;\n",
       "  /* unfitted */\n",
       "  background-color: var(--sklearn-color-unfitted-level-0);\n",
       "}\n",
       "\n",
       "#sk-container-id-1 div.sk-toggleable__content.fitted {\n",
       "  /* fitted */\n",
       "  background-color: var(--sklearn-color-fitted-level-0);\n",
       "}\n",
       "\n",
       "#sk-container-id-1 div.sk-toggleable__content pre {\n",
       "  margin: 0.2em;\n",
       "  border-radius: 0.25em;\n",
       "  color: var(--sklearn-color-text);\n",
       "  /* unfitted */\n",
       "  background-color: var(--sklearn-color-unfitted-level-0);\n",
       "}\n",
       "\n",
       "#sk-container-id-1 div.sk-toggleable__content.fitted pre {\n",
       "  /* unfitted */\n",
       "  background-color: var(--sklearn-color-fitted-level-0);\n",
       "}\n",
       "\n",
       "#sk-container-id-1 input.sk-toggleable__control:checked~div.sk-toggleable__content {\n",
       "  /* Expand drop-down */\n",
       "  max-height: 200px;\n",
       "  max-width: 100%;\n",
       "  overflow: auto;\n",
       "}\n",
       "\n",
       "#sk-container-id-1 input.sk-toggleable__control:checked~label.sk-toggleable__label-arrow:before {\n",
       "  content: \"▾\";\n",
       "}\n",
       "\n",
       "/* Pipeline/ColumnTransformer-specific style */\n",
       "\n",
       "#sk-container-id-1 div.sk-label input.sk-toggleable__control:checked~label.sk-toggleable__label {\n",
       "  color: var(--sklearn-color-text);\n",
       "  background-color: var(--sklearn-color-unfitted-level-2);\n",
       "}\n",
       "\n",
       "#sk-container-id-1 div.sk-label.fitted input.sk-toggleable__control:checked~label.sk-toggleable__label {\n",
       "  background-color: var(--sklearn-color-fitted-level-2);\n",
       "}\n",
       "\n",
       "/* Estimator-specific style */\n",
       "\n",
       "/* Colorize estimator box */\n",
       "#sk-container-id-1 div.sk-estimator input.sk-toggleable__control:checked~label.sk-toggleable__label {\n",
       "  /* unfitted */\n",
       "  background-color: var(--sklearn-color-unfitted-level-2);\n",
       "}\n",
       "\n",
       "#sk-container-id-1 div.sk-estimator.fitted input.sk-toggleable__control:checked~label.sk-toggleable__label {\n",
       "  /* fitted */\n",
       "  background-color: var(--sklearn-color-fitted-level-2);\n",
       "}\n",
       "\n",
       "#sk-container-id-1 div.sk-label label.sk-toggleable__label,\n",
       "#sk-container-id-1 div.sk-label label {\n",
       "  /* The background is the default theme color */\n",
       "  color: var(--sklearn-color-text-on-default-background);\n",
       "}\n",
       "\n",
       "/* On hover, darken the color of the background */\n",
       "#sk-container-id-1 div.sk-label:hover label.sk-toggleable__label {\n",
       "  color: var(--sklearn-color-text);\n",
       "  background-color: var(--sklearn-color-unfitted-level-2);\n",
       "}\n",
       "\n",
       "/* Label box, darken color on hover, fitted */\n",
       "#sk-container-id-1 div.sk-label.fitted:hover label.sk-toggleable__label.fitted {\n",
       "  color: var(--sklearn-color-text);\n",
       "  background-color: var(--sklearn-color-fitted-level-2);\n",
       "}\n",
       "\n",
       "/* Estimator label */\n",
       "\n",
       "#sk-container-id-1 div.sk-label label {\n",
       "  font-family: monospace;\n",
       "  font-weight: bold;\n",
       "  display: inline-block;\n",
       "  line-height: 1.2em;\n",
       "}\n",
       "\n",
       "#sk-container-id-1 div.sk-label-container {\n",
       "  text-align: center;\n",
       "}\n",
       "\n",
       "/* Estimator-specific */\n",
       "#sk-container-id-1 div.sk-estimator {\n",
       "  font-family: monospace;\n",
       "  border: 1px dotted var(--sklearn-color-border-box);\n",
       "  border-radius: 0.25em;\n",
       "  box-sizing: border-box;\n",
       "  margin-bottom: 0.5em;\n",
       "  /* unfitted */\n",
       "  background-color: var(--sklearn-color-unfitted-level-0);\n",
       "}\n",
       "\n",
       "#sk-container-id-1 div.sk-estimator.fitted {\n",
       "  /* fitted */\n",
       "  background-color: var(--sklearn-color-fitted-level-0);\n",
       "}\n",
       "\n",
       "/* on hover */\n",
       "#sk-container-id-1 div.sk-estimator:hover {\n",
       "  /* unfitted */\n",
       "  background-color: var(--sklearn-color-unfitted-level-2);\n",
       "}\n",
       "\n",
       "#sk-container-id-1 div.sk-estimator.fitted:hover {\n",
       "  /* fitted */\n",
       "  background-color: var(--sklearn-color-fitted-level-2);\n",
       "}\n",
       "\n",
       "/* Specification for estimator info (e.g. \"i\" and \"?\") */\n",
       "\n",
       "/* Common style for \"i\" and \"?\" */\n",
       "\n",
       ".sk-estimator-doc-link,\n",
       "a:link.sk-estimator-doc-link,\n",
       "a:visited.sk-estimator-doc-link {\n",
       "  float: right;\n",
       "  font-size: smaller;\n",
       "  line-height: 1em;\n",
       "  font-family: monospace;\n",
       "  background-color: var(--sklearn-color-background);\n",
       "  border-radius: 1em;\n",
       "  height: 1em;\n",
       "  width: 1em;\n",
       "  text-decoration: none !important;\n",
       "  margin-left: 1ex;\n",
       "  /* unfitted */\n",
       "  border: var(--sklearn-color-unfitted-level-1) 1pt solid;\n",
       "  color: var(--sklearn-color-unfitted-level-1);\n",
       "}\n",
       "\n",
       ".sk-estimator-doc-link.fitted,\n",
       "a:link.sk-estimator-doc-link.fitted,\n",
       "a:visited.sk-estimator-doc-link.fitted {\n",
       "  /* fitted */\n",
       "  border: var(--sklearn-color-fitted-level-1) 1pt solid;\n",
       "  color: var(--sklearn-color-fitted-level-1);\n",
       "}\n",
       "\n",
       "/* On hover */\n",
       "div.sk-estimator:hover .sk-estimator-doc-link:hover,\n",
       ".sk-estimator-doc-link:hover,\n",
       "div.sk-label-container:hover .sk-estimator-doc-link:hover,\n",
       ".sk-estimator-doc-link:hover {\n",
       "  /* unfitted */\n",
       "  background-color: var(--sklearn-color-unfitted-level-3);\n",
       "  color: var(--sklearn-color-background);\n",
       "  text-decoration: none;\n",
       "}\n",
       "\n",
       "div.sk-estimator.fitted:hover .sk-estimator-doc-link.fitted:hover,\n",
       ".sk-estimator-doc-link.fitted:hover,\n",
       "div.sk-label-container:hover .sk-estimator-doc-link.fitted:hover,\n",
       ".sk-estimator-doc-link.fitted:hover {\n",
       "  /* fitted */\n",
       "  background-color: var(--sklearn-color-fitted-level-3);\n",
       "  color: var(--sklearn-color-background);\n",
       "  text-decoration: none;\n",
       "}\n",
       "\n",
       "/* Span, style for the box shown on hovering the info icon */\n",
       ".sk-estimator-doc-link span {\n",
       "  display: none;\n",
       "  z-index: 9999;\n",
       "  position: relative;\n",
       "  font-weight: normal;\n",
       "  right: .2ex;\n",
       "  padding: .5ex;\n",
       "  margin: .5ex;\n",
       "  width: min-content;\n",
       "  min-width: 20ex;\n",
       "  max-width: 50ex;\n",
       "  color: var(--sklearn-color-text);\n",
       "  box-shadow: 2pt 2pt 4pt #999;\n",
       "  /* unfitted */\n",
       "  background: var(--sklearn-color-unfitted-level-0);\n",
       "  border: .5pt solid var(--sklearn-color-unfitted-level-3);\n",
       "}\n",
       "\n",
       ".sk-estimator-doc-link.fitted span {\n",
       "  /* fitted */\n",
       "  background: var(--sklearn-color-fitted-level-0);\n",
       "  border: var(--sklearn-color-fitted-level-3);\n",
       "}\n",
       "\n",
       ".sk-estimator-doc-link:hover span {\n",
       "  display: block;\n",
       "}\n",
       "\n",
       "/* \"?\"-specific style due to the `<a>` HTML tag */\n",
       "\n",
       "#sk-container-id-1 a.estimator_doc_link {\n",
       "  float: right;\n",
       "  font-size: 1rem;\n",
       "  line-height: 1em;\n",
       "  font-family: monospace;\n",
       "  background-color: var(--sklearn-color-background);\n",
       "  border-radius: 1rem;\n",
       "  height: 1rem;\n",
       "  width: 1rem;\n",
       "  text-decoration: none;\n",
       "  /* unfitted */\n",
       "  color: var(--sklearn-color-unfitted-level-1);\n",
       "  border: var(--sklearn-color-unfitted-level-1) 1pt solid;\n",
       "}\n",
       "\n",
       "#sk-container-id-1 a.estimator_doc_link.fitted {\n",
       "  /* fitted */\n",
       "  border: var(--sklearn-color-fitted-level-1) 1pt solid;\n",
       "  color: var(--sklearn-color-fitted-level-1);\n",
       "}\n",
       "\n",
       "/* On hover */\n",
       "#sk-container-id-1 a.estimator_doc_link:hover {\n",
       "  /* unfitted */\n",
       "  background-color: var(--sklearn-color-unfitted-level-3);\n",
       "  color: var(--sklearn-color-background);\n",
       "  text-decoration: none;\n",
       "}\n",
       "\n",
       "#sk-container-id-1 a.estimator_doc_link.fitted:hover {\n",
       "  /* fitted */\n",
       "  background-color: var(--sklearn-color-fitted-level-3);\n",
       "}\n",
       "</style><div id=\"sk-container-id-1\" class=\"sk-top-container\"><div class=\"sk-text-repr-fallback\"><pre>LinearRegression()</pre><b>In a Jupyter environment, please rerun this cell to show the HTML representation or trust the notebook. <br />On GitHub, the HTML representation is unable to render, please try loading this page with nbviewer.org.</b></div><div class=\"sk-container\" hidden><div class=\"sk-item\"><div class=\"sk-estimator fitted sk-toggleable\"><input class=\"sk-toggleable__control sk-hidden--visually\" id=\"sk-estimator-id-1\" type=\"checkbox\" checked><label for=\"sk-estimator-id-1\" class=\"sk-toggleable__label fitted sk-toggleable__label-arrow fitted\">&nbsp;&nbsp;LinearRegression<a class=\"sk-estimator-doc-link fitted\" rel=\"noreferrer\" target=\"_blank\" href=\"https://scikit-learn.org/1.4/modules/generated/sklearn.linear_model.LinearRegression.html\">?<span>Documentation for LinearRegression</span></a><span class=\"sk-estimator-doc-link fitted\">i<span>Fitted</span></span></label><div class=\"sk-toggleable__content fitted\"><pre>LinearRegression()</pre></div> </div></div></div></div>"
      ],
      "text/plain": [
       "LinearRegression()"
      ]
     },
     "execution_count": 23,
     "metadata": {},
     "output_type": "execute_result"
    }
   ],
   "source": [
    "lr_fake = LinearRegression()\n",
    "lr_fake.fit(X_fake_train, y_fake_train)"
   ]
  },
  {
   "cell_type": "code",
   "execution_count": 24,
   "id": "50372f1a",
   "metadata": {
    "execution": {
     "iopub.execute_input": "2023-04-11T08:14:45.281597Z",
     "iopub.status.busy": "2023-04-11T08:14:45.281112Z",
     "iopub.status.idle": "2023-04-11T08:14:45.287153Z",
     "shell.execute_reply": "2023-04-11T08:14:45.285730Z"
    },
    "papermill": {
     "duration": 0.023356,
     "end_time": "2023-04-11T08:14:45.289761",
     "exception": false,
     "start_time": "2023-04-11T08:14:45.266405",
     "status": "completed"
    },
    "tags": []
   },
   "outputs": [],
   "source": [
    "y_fake_pred = lr_fake.predict(X_fake_test)"
   ]
  },
  {
   "cell_type": "code",
   "execution_count": 25,
   "id": "118db249",
   "metadata": {
    "execution": {
     "iopub.execute_input": "2023-04-11T08:14:45.317445Z",
     "iopub.status.busy": "2023-04-11T08:14:45.316641Z",
     "iopub.status.idle": "2023-04-11T08:14:45.323885Z",
     "shell.execute_reply": "2023-04-11T08:14:45.322192Z"
    },
    "papermill": {
     "duration": 0.025213,
     "end_time": "2023-04-11T08:14:45.327196",
     "exception": false,
     "start_time": "2023-04-11T08:14:45.301983",
     "status": "completed"
    },
    "tags": []
   },
   "outputs": [
    {
     "name": "stdout",
     "output_type": "stream",
     "text": [
      "Mean squared error on fake data: 416.81\n"
     ]
    }
   ],
   "source": [
    "mse_fake = mean_squared_error(y_fake_test, y_fake_pred)\n",
    "print(\"Mean squared error on fake data: {:.2f}\".format(mse_fake))"
   ]
  },
  {
   "cell_type": "code",
   "execution_count": 26,
   "id": "31e06643",
   "metadata": {
    "execution": {
     "iopub.execute_input": "2023-04-11T08:14:45.355666Z",
     "iopub.status.busy": "2023-04-11T08:14:45.354784Z",
     "iopub.status.idle": "2023-04-11T08:14:45.650515Z",
     "shell.execute_reply": "2023-04-11T08:14:45.649098Z"
    },
    "papermill": {
     "duration": 0.313265,
     "end_time": "2023-04-11T08:14:45.653355",
     "exception": false,
     "start_time": "2023-04-11T08:14:45.340090",
     "status": "completed"
    },
    "tags": []
   },
   "outputs": [
    {
     "data": {
      "image/png": "[encoded data removed]",
      "text/plain": [
       "<Figure size 640x480 with 1 Axes>"
      ]
     },
     "metadata": {},
     "output_type": "display_data"
    }
   ],
   "source": [
    "plt.scatter(X_fake_test, y_fake_test, color='blue', label='Test data')\n",
    "plt.plot(X_fake_test, y_fake_pred, color='red', label='Regression line')\n",
    "plt.xlabel('Input')\n",
    "plt.ylabel('Output')\n",
    "plt.title('Linear Regression Model on Fake Data')\n",
    "plt.legend()\n",
    "plt.show()"
   ]
  },
  {
   "cell_type": "code",
   "execution_count": 27,
   "id": "4686c48f",
   "metadata": {
    "execution": {
     "iopub.execute_input": "2023-04-11T08:14:45.681099Z",
     "iopub.status.busy": "2023-04-11T08:14:45.680575Z",
     "iopub.status.idle": "2023-04-11T08:14:45.687583Z",
     "shell.execute_reply": "2023-04-11T08:14:45.686221Z"
    },
    "papermill": {
     "duration": 0.024163,
     "end_time": "2023-04-11T08:14:45.690434",
     "exception": false,
     "start_time": "2023-04-11T08:14:45.666271",
     "status": "completed"
    },
    "tags": []
   },
   "outputs": [],
   "source": [
    "X = df[['Subscribers']].values"
   ]
  },
  {
   "cell_type": "code",
   "execution_count": 28,
   "id": "e1a76a24",
   "metadata": {
    "execution": {
     "iopub.execute_input": "2023-04-11T08:14:45.719317Z",
     "iopub.status.busy": "2023-04-11T08:14:45.718179Z",
     "iopub.status.idle": "2023-04-11T08:14:45.723923Z",
     "shell.execute_reply": "2023-04-11T08:14:45.722951Z"
    },
    "papermill": {
     "duration": 0.022727,
     "end_time": "2023-04-11T08:14:45.726573",
     "exception": false,
     "start_time": "2023-04-11T08:14:45.703846",
     "status": "completed"
    },
    "tags": []
   },
   "outputs": [],
   "source": [
    "scaler = StandardScaler()\n",
    "X_scaled = scaler.fit_transform(X)"
   ]
  },
  {
   "cell_type": "code",
   "execution_count": 34,
   "id": "8f4f3450",
   "metadata": {
    "execution": {
     "iopub.execute_input": "2023-04-11T08:14:45.754783Z",
     "iopub.status.busy": "2023-04-11T08:14:45.754322Z",
     "iopub.status.idle": "2023-04-11T08:14:45.759262Z",
     "shell.execute_reply": "2023-04-11T08:14:45.758016Z"
    },
    "papermill": {
     "duration": 0.022387,
     "end_time": "2023-04-11T08:14:45.761977",
     "exception": false,
     "start_time": "2023-04-11T08:14:45.739590",
     "status": "completed"
    },
    "tags": []
   },
   "outputs": [],
   "source": [
    "n_clusters = 10"
   ]
  },
  {
   "cell_type": "code",
   "execution_count": 35,
   "id": "aefcfa65",
   "metadata": {
    "execution": {
     "iopub.execute_input": "2023-04-11T08:14:45.790693Z",
     "iopub.status.busy": "2023-04-11T08:14:45.790190Z",
     "iopub.status.idle": "2023-04-11T08:14:45.796773Z",
     "shell.execute_reply": "2023-04-11T08:14:45.795356Z"
    },
    "papermill": {
     "duration": 0.024095,
     "end_time": "2023-04-11T08:14:45.799482",
     "exception": false,
     "start_time": "2023-04-11T08:14:45.775387",
     "status": "completed"
    },
    "tags": []
   },
   "outputs": [],
   "source": [
    "kmeans = KMeans(n_clusters=n_clusters, random_state=42)"
   ]
  },
  {
   "cell_type": "code",
   "execution_count": 36,
   "id": "6a9ab4e6",
   "metadata": {
    "execution": {
     "iopub.execute_input": "2023-04-11T08:14:45.829179Z",
     "iopub.status.busy": "2023-04-11T08:14:45.828241Z",
     "iopub.status.idle": "2023-04-11T08:14:45.860869Z",
     "shell.execute_reply": "2023-04-11T08:14:45.859706Z"
    },
    "papermill": {
     "duration": 0.050582,
     "end_time": "2023-04-11T08:14:45.863986",
     "exception": false,
     "start_time": "2023-04-11T08:14:45.813404",
     "status": "completed"
    },
    "tags": []
   },
   "outputs": [
    {
     "name": "stderr",
     "output_type": "stream",
     "text": [
      "C:\\Users\\nehac\\AppData\\Roaming\\Python\\Python39\\site-packages\\sklearn\\cluster\\_kmeans.py:1446: UserWarning: KMeans is known to have a memory leak on Windows with MKL, when there are less chunks than available threads. You can avoid it by setting the environment variable OMP_NUM_THREADS=1.\n",
      "  warnings.warn(\n"
     ]
    },
    {
     "data": {
      "text/html": [
       "<style>#sk-container-id-3 {\n",
       "  /* Definition of color scheme common for light and dark mode */\n",
       "  --sklearn-color-text: black;\n",
       "  --sklearn-color-line: gray;\n",
       "  /* Definition of color scheme for unfitted estimators */\n",
       "  --sklearn-color-unfitted-level-0: #fff5e6;\n",
       "  --sklearn-color-unfitted-level-1: #f6e4d2;\n",
       "  --sklearn-color-unfitted-level-2: #ffe0b3;\n",
       "  --sklearn-color-unfitted-level-3: chocolate;\n",
       "  /* Definition of color scheme for fitted estimators */\n",
       "  --sklearn-color-fitted-level-0: #f0f8ff;\n",
       "  --sklearn-color-fitted-level-1: #d4ebff;\n",
       "  --sklearn-color-fitted-level-2: #b3dbfd;\n",
       "  --sklearn-color-fitted-level-3: cornflowerblue;\n",
       "\n",
       "  /* Specific color for light theme */\n",
       "  --sklearn-color-text-on-default-background: var(--sg-text-color, var(--theme-code-foreground, var(--jp-content-font-color1, black)));\n",
       "  --sklearn-color-background: var(--sg-background-color, var(--theme-background, var(--jp-layout-color0, white)));\n",
       "  --sklearn-color-border-box: var(--sg-text-color, var(--theme-code-foreground, var(--jp-content-font-color1, black)));\n",
       "  --sklearn-color-icon: #696969;\n",
       "\n",
       "  @media (prefers-color-scheme: dark) {\n",
       "    /* Redefinition of color scheme for dark theme */\n",
       "    --sklearn-color-text-on-default-background: var(--sg-text-color, var(--theme-code-foreground, var(--jp-content-font-color1, white)));\n",
       "    --sklearn-color-background: var(--sg-background-color, var(--theme-background, var(--jp-layout-color0, #111)));\n",
       "    --sklearn-color-border-box: var(--sg-text-color, var(--theme-code-foreground, var(--jp-content-font-color1, white)));\n",
       "    --sklearn-color-icon: #878787;\n",
       "  }\n",
       "}\n",
       "\n",
       "#sk-container-id-3 {\n",
       "  color: var(--sklearn-color-text);\n",
       "}\n",
       "\n",
       "#sk-container-id-3 pre {\n",
       "  padding: 0;\n",
       "}\n",
       "\n",
       "#sk-container-id-3 input.sk-hidden--visually {\n",
       "  border: 0;\n",
       "  clip: rect(1px 1px 1px 1px);\n",
       "  clip: rect(1px, 1px, 1px, 1px);\n",
       "  height: 1px;\n",
       "  margin: -1px;\n",
       "  overflow: hidden;\n",
       "  padding: 0;\n",
       "  position: absolute;\n",
       "  width: 1px;\n",
       "}\n",
       "\n",
       "#sk-container-id-3 div.sk-dashed-wrapped {\n",
       "  border: 1px dashed var(--sklearn-color-line);\n",
       "  margin: 0 0.4em 0.5em 0.4em;\n",
       "  box-sizing: border-box;\n",
       "  padding-bottom: 0.4em;\n",
       "  background-color: var(--sklearn-color-background);\n",
       "}\n",
       "\n",
       "#sk-container-id-3 div.sk-container {\n",
       "  /* jupyter's `normalize.less` sets `[hidden] { display: none; }`\n",
       "     but bootstrap.min.css set `[hidden] { display: none !important; }`\n",
       "     so we also need the `!important` here to be able to override the\n",
       "     default hidden behavior on the sphinx rendered scikit-learn.org.\n",
       "     See: https://github.com/scikit-learn/scikit-learn/issues/21755 */\n",
       "  display: inline-block !important;\n",
       "  position: relative;\n",
       "}\n",
       "\n",
       "#sk-container-id-3 div.sk-text-repr-fallback {\n",
       "  display: none;\n",
       "}\n",
       "\n",
       "div.sk-parallel-item,\n",
       "div.sk-serial,\n",
       "div.sk-item {\n",
       "  /* draw centered vertical line to link estimators */\n",
       "  background-image: linear-gradient(var(--sklearn-color-text-on-default-background), var(--sklearn-color-text-on-default-background));\n",
       "  background-size: 2px 100%;\n",
       "  background-repeat: no-repeat;\n",
       "  background-position: center center;\n",
       "}\n",
       "\n",
       "/* Parallel-specific style estimator block */\n",
       "\n",
       "#sk-container-id-3 div.sk-parallel-item::after {\n",
       "  content: \"\";\n",
       "  width: 100%;\n",
       "  border-bottom: 2px solid var(--sklearn-color-text-on-default-background);\n",
       "  flex-grow: 1;\n",
       "}\n",
       "\n",
       "#sk-container-id-3 div.sk-parallel {\n",
       "  display: flex;\n",
       "  align-items: stretch;\n",
       "  justify-content: center;\n",
       "  background-color: var(--sklearn-color-background);\n",
       "  position: relative;\n",
       "}\n",
       "\n",
       "#sk-container-id-3 div.sk-parallel-item {\n",
       "  display: flex;\n",
       "  flex-direction: column;\n",
       "}\n",
       "\n",
       "#sk-container-id-3 div.sk-parallel-item:first-child::after {\n",
       "  align-self: flex-end;\n",
       "  width: 50%;\n",
       "}\n",
       "\n",
       "#sk-container-id-3 div.sk-parallel-item:last-child::after {\n",
       "  align-self: flex-start;\n",
       "  width: 50%;\n",
       "}\n",
       "\n",
       "#sk-container-id-3 div.sk-parallel-item:only-child::after {\n",
       "  width: 0;\n",
       "}\n",
       "\n",
       "/* Serial-specific style estimator block */\n",
       "\n",
       "#sk-container-id-3 div.sk-serial {\n",
       "  display: flex;\n",
       "  flex-direction: column;\n",
       "  align-items: center;\n",
       "  background-color: var(--sklearn-color-background);\n",
       "  padding-right: 1em;\n",
       "  padding-left: 1em;\n",
       "}\n",
       "\n",
       "\n",
       "/* Toggleable style: style used for estimator/Pipeline/ColumnTransformer box that is\n",
       "clickable and can be expanded/collapsed.\n",
       "- Pipeline and ColumnTransformer use this feature and define the default style\n",
       "- Estimators will overwrite some part of the style using the `sk-estimator` class\n",
       "*/\n",
       "\n",
       "/* Pipeline and ColumnTransformer style (default) */\n",
       "\n",
       "#sk-container-id-3 div.sk-toggleable {\n",
       "  /* Default theme specific background. It is overwritten whether we have a\n",
       "  specific estimator or a Pipeline/ColumnTransformer */\n",
       "  background-color: var(--sklearn-color-background);\n",
       "}\n",
       "\n",
       "/* Toggleable label */\n",
       "#sk-container-id-3 label.sk-toggleable__label {\n",
       "  cursor: pointer;\n",
       "  display: block;\n",
       "  width: 100%;\n",
       "  margin-bottom: 0;\n",
       "  padding: 0.5em;\n",
       "  box-sizing: border-box;\n",
       "  text-align: center;\n",
       "}\n",
       "\n",
       "#sk-container-id-3 label.sk-toggleable__label-arrow:before {\n",
       "  /* Arrow on the left of the label */\n",
       "  content: \"▸\";\n",
       "  float: left;\n",
       "  margin-right: 0.25em;\n",
       "  color: var(--sklearn-color-icon);\n",
       "}\n",
       "\n",
       "#sk-container-id-3 label.sk-toggleable__label-arrow:hover:before {\n",
       "  color: var(--sklearn-color-text);\n",
       "}\n",
       "\n",
       "/* Toggleable content - dropdown */\n",
       "\n",
       "#sk-container-id-3 div.sk-toggleable__content {\n",
       "  max-height: 0;\n",
       "  max-width: 0;\n",
       "  overflow: hidden;\n",
       "  text-align: left;\n",
       "  /* unfitted */\n",
       "  background-color: var(--sklearn-color-unfitted-level-0);\n",
       "}\n",
       "\n",
       "#sk-container-id-3 div.sk-toggleable__content.fitted {\n",
       "  /* fitted */\n",
       "  background-color: var(--sklearn-color-fitted-level-0);\n",
       "}\n",
       "\n",
       "#sk-container-id-3 div.sk-toggleable__content pre {\n",
       "  margin: 0.2em;\n",
       "  border-radius: 0.25em;\n",
       "  color: var(--sklearn-color-text);\n",
       "  /* unfitted */\n",
       "  background-color: var(--sklearn-color-unfitted-level-0);\n",
       "}\n",
       "\n",
       "#sk-container-id-3 div.sk-toggleable__content.fitted pre {\n",
       "  /* unfitted */\n",
       "  background-color: var(--sklearn-color-fitted-level-0);\n",
       "}\n",
       "\n",
       "#sk-container-id-3 input.sk-toggleable__control:checked~div.sk-toggleable__content {\n",
       "  /* Expand drop-down */\n",
       "  max-height: 200px;\n",
       "  max-width: 100%;\n",
       "  overflow: auto;\n",
       "}\n",
       "\n",
       "#sk-container-id-3 input.sk-toggleable__control:checked~label.sk-toggleable__label-arrow:before {\n",
       "  content: \"▾\";\n",
       "}\n",
       "\n",
       "/* Pipeline/ColumnTransformer-specific style */\n",
       "\n",
       "#sk-container-id-3 div.sk-label input.sk-toggleable__control:checked~label.sk-toggleable__label {\n",
       "  color: var(--sklearn-color-text);\n",
       "  background-color: var(--sklearn-color-unfitted-level-2);\n",
       "}\n",
       "\n",
       "#sk-container-id-3 div.sk-label.fitted input.sk-toggleable__control:checked~label.sk-toggleable__label {\n",
       "  background-color: var(--sklearn-color-fitted-level-2);\n",
       "}\n",
       "\n",
       "/* Estimator-specific style */\n",
       "\n",
       "/* Colorize estimator box */\n",
       "#sk-container-id-3 div.sk-estimator input.sk-toggleable__control:checked~label.sk-toggleable__label {\n",
       "  /* unfitted */\n",
       "  background-color: var(--sklearn-color-unfitted-level-2);\n",
       "}\n",
       "\n",
       "#sk-container-id-3 div.sk-estimator.fitted input.sk-toggleable__control:checked~label.sk-toggleable__label {\n",
       "  /* fitted */\n",
       "  background-color: var(--sklearn-color-fitted-level-2);\n",
       "}\n",
       "\n",
       "#sk-container-id-3 div.sk-label label.sk-toggleable__label,\n",
       "#sk-container-id-3 div.sk-label label {\n",
       "  /* The background is the default theme color */\n",
       "  color: var(--sklearn-color-text-on-default-background);\n",
       "}\n",
       "\n",
       "/* On hover, darken the color of the background */\n",
       "#sk-container-id-3 div.sk-label:hover label.sk-toggleable__label {\n",
       "  color: var(--sklearn-color-text);\n",
       "  background-color: var(--sklearn-color-unfitted-level-2);\n",
       "}\n",
       "\n",
       "/* Label box, darken color on hover, fitted */\n",
       "#sk-container-id-3 div.sk-label.fitted:hover label.sk-toggleable__label.fitted {\n",
       "  color: var(--sklearn-color-text);\n",
       "  background-color: var(--sklearn-color-fitted-level-2);\n",
       "}\n",
       "\n",
       "/* Estimator label */\n",
       "\n",
       "#sk-container-id-3 div.sk-label label {\n",
       "  font-family: monospace;\n",
       "  font-weight: bold;\n",
       "  display: inline-block;\n",
       "  line-height: 1.2em;\n",
       "}\n",
       "\n",
       "#sk-container-id-3 div.sk-label-container {\n",
       "  text-align: center;\n",
       "}\n",
       "\n",
       "/* Estimator-specific */\n",
       "#sk-container-id-3 div.sk-estimator {\n",
       "  font-family: monospace;\n",
       "  border: 1px dotted var(--sklearn-color-border-box);\n",
       "  border-radius: 0.25em;\n",
       "  box-sizing: border-box;\n",
       "  margin-bottom: 0.5em;\n",
       "  /* unfitted */\n",
       "  background-color: var(--sklearn-color-unfitted-level-0);\n",
       "}\n",
       "\n",
       "#sk-container-id-3 div.sk-estimator.fitted {\n",
       "  /* fitted */\n",
       "  background-color: var(--sklearn-color-fitted-level-0);\n",
       "}\n",
       "\n",
       "/* on hover */\n",
       "#sk-container-id-3 div.sk-estimator:hover {\n",
       "  /* unfitted */\n",
       "  background-color: var(--sklearn-color-unfitted-level-2);\n",
       "}\n",
       "\n",
       "#sk-container-id-3 div.sk-estimator.fitted:hover {\n",
       "  /* fitted */\n",
       "  background-color: var(--sklearn-color-fitted-level-2);\n",
       "}\n",
       "\n",
       "/* Specification for estimator info (e.g. \"i\" and \"?\") */\n",
       "\n",
       "/* Common style for \"i\" and \"?\" */\n",
       "\n",
       ".sk-estimator-doc-link,\n",
       "a:link.sk-estimator-doc-link,\n",
       "a:visited.sk-estimator-doc-link {\n",
       "  float: right;\n",
       "  font-size: smaller;\n",
       "  line-height: 1em;\n",
       "  font-family: monospace;\n",
       "  background-color: var(--sklearn-color-background);\n",
       "  border-radius: 1em;\n",
       "  height: 1em;\n",
       "  width: 1em;\n",
       "  text-decoration: none !important;\n",
       "  margin-left: 1ex;\n",
       "  /* unfitted */\n",
       "  border: var(--sklearn-color-unfitted-level-1) 1pt solid;\n",
       "  color: var(--sklearn-color-unfitted-level-1);\n",
       "}\n",
       "\n",
       ".sk-estimator-doc-link.fitted,\n",
       "a:link.sk-estimator-doc-link.fitted,\n",
       "a:visited.sk-estimator-doc-link.fitted {\n",
       "  /* fitted */\n",
       "  border: var(--sklearn-color-fitted-level-1) 1pt solid;\n",
       "  color: var(--sklearn-color-fitted-level-1);\n",
       "}\n",
       "\n",
       "/* On hover */\n",
       "div.sk-estimator:hover .sk-estimator-doc-link:hover,\n",
       ".sk-estimator-doc-link:hover,\n",
       "div.sk-label-container:hover .sk-estimator-doc-link:hover,\n",
       ".sk-estimator-doc-link:hover {\n",
       "  /* unfitted */\n",
       "  background-color: var(--sklearn-color-unfitted-level-3);\n",
       "  color: var(--sklearn-color-background);\n",
       "  text-decoration: none;\n",
       "}\n",
       "\n",
       "div.sk-estimator.fitted:hover .sk-estimator-doc-link.fitted:hover,\n",
       ".sk-estimator-doc-link.fitted:hover,\n",
       "div.sk-label-container:hover .sk-estimator-doc-link.fitted:hover,\n",
       ".sk-estimator-doc-link.fitted:hover {\n",
       "  /* fitted */\n",
       "  background-color: var(--sklearn-color-fitted-level-3);\n",
       "  color: var(--sklearn-color-background);\n",
       "  text-decoration: none;\n",
       "}\n",
       "\n",
       "/* Span, style for the box shown on hovering the info icon */\n",
       ".sk-estimator-doc-link span {\n",
       "  display: none;\n",
       "  z-index: 9999;\n",
       "  position: relative;\n",
       "  font-weight: normal;\n",
       "  right: .2ex;\n",
       "  padding: .5ex;\n",
       "  margin: .5ex;\n",
       "  width: min-content;\n",
       "  min-width: 20ex;\n",
       "  max-width: 50ex;\n",
       "  color: var(--sklearn-color-text);\n",
       "  box-shadow: 2pt 2pt 4pt #999;\n",
       "  /* unfitted */\n",
       "  background: var(--sklearn-color-unfitted-level-0);\n",
       "  border: .5pt solid var(--sklearn-color-unfitted-level-3);\n",
       "}\n",
       "\n",
       ".sk-estimator-doc-link.fitted span {\n",
       "  /* fitted */\n",
       "  background: var(--sklearn-color-fitted-level-0);\n",
       "  border: var(--sklearn-color-fitted-level-3);\n",
       "}\n",
       "\n",
       ".sk-estimator-doc-link:hover span {\n",
       "  display: block;\n",
       "}\n",
       "\n",
       "/* \"?\"-specific style due to the `<a>` HTML tag */\n",
       "\n",
       "#sk-container-id-3 a.estimator_doc_link {\n",
       "  float: right;\n",
       "  font-size: 1rem;\n",
       "  line-height: 1em;\n",
       "  font-family: monospace;\n",
       "  background-color: var(--sklearn-color-background);\n",
       "  border-radius: 1rem;\n",
       "  height: 1rem;\n",
       "  width: 1rem;\n",
       "  text-decoration: none;\n",
       "  /* unfitted */\n",
       "  color: var(--sklearn-color-unfitted-level-1);\n",
       "  border: var(--sklearn-color-unfitted-level-1) 1pt solid;\n",
       "}\n",
       "\n",
       "#sk-container-id-3 a.estimator_doc_link.fitted {\n",
       "  /* fitted */\n",
       "  border: var(--sklearn-color-fitted-level-1) 1pt solid;\n",
       "  color: var(--sklearn-color-fitted-level-1);\n",
       "}\n",
       "\n",
       "/* On hover */\n",
       "#sk-container-id-3 a.estimator_doc_link:hover {\n",
       "  /* unfitted */\n",
       "  background-color: var(--sklearn-color-unfitted-level-3);\n",
       "  color: var(--sklearn-color-background);\n",
       "  text-decoration: none;\n",
       "}\n",
       "\n",
       "#sk-container-id-3 a.estimator_doc_link.fitted:hover {\n",
       "  /* fitted */\n",
       "  background-color: var(--sklearn-color-fitted-level-3);\n",
       "}\n",
       "</style><div id=\"sk-container-id-3\" class=\"sk-top-container\"><div class=\"sk-text-repr-fallback\"><pre>KMeans(n_clusters=10, random_state=42)</pre><b>In a Jupyter environment, please rerun this cell to show the HTML representation or trust the notebook. <br />On GitHub, the HTML representation is unable to render, please try loading this page with nbviewer.org.</b></div><div class=\"sk-container\" hidden><div class=\"sk-item\"><div class=\"sk-estimator fitted sk-toggleable\"><input class=\"sk-toggleable__control sk-hidden--visually\" id=\"sk-estimator-id-3\" type=\"checkbox\" checked><label for=\"sk-estimator-id-3\" class=\"sk-toggleable__label fitted sk-toggleable__label-arrow fitted\">&nbsp;&nbsp;KMeans<a class=\"sk-estimator-doc-link fitted\" rel=\"noreferrer\" target=\"_blank\" href=\"https://scikit-learn.org/1.4/modules/generated/sklearn.cluster.KMeans.html\">?<span>Documentation for KMeans</span></a><span class=\"sk-estimator-doc-link fitted\">i<span>Fitted</span></span></label><div class=\"sk-toggleable__content fitted\"><pre>KMeans(n_clusters=10, random_state=42)</pre></div> </div></div></div></div>"
      ],
      "text/plain": [
       "KMeans(n_clusters=10, random_state=42)"
      ]
     },
     "execution_count": 36,
     "metadata": {},
     "output_type": "execute_result"
    }
   ],
   "source": [
    "kmeans.fit(X_scaled)"
   ]
  },
  {
   "cell_type": "code",
   "execution_count": 37,
   "id": "12560330",
   "metadata": {
    "execution": {
     "iopub.execute_input": "2023-04-11T08:14:45.894061Z",
     "iopub.status.busy": "2023-04-11T08:14:45.893607Z",
     "iopub.status.idle": "2023-04-11T08:14:45.900045Z",
     "shell.execute_reply": "2023-04-11T08:14:45.899007Z"
    },
    "papermill": {
     "duration": 0.023357,
     "end_time": "2023-04-11T08:14:45.902547",
     "exception": false,
     "start_time": "2023-04-11T08:14:45.879190",
     "status": "completed"
    },
    "tags": []
   },
   "outputs": [],
   "source": [
    "df['Cluster'] = kmeans.labels_"
   ]
  },
  {
   "cell_type": "code",
   "execution_count": 38,
   "id": "62a0ecfc",
   "metadata": {
    "execution": {
     "iopub.execute_input": "2023-04-11T08:14:45.931235Z",
     "iopub.status.busy": "2023-04-11T08:14:45.930503Z",
     "iopub.status.idle": "2023-04-11T08:14:45.948961Z",
     "shell.execute_reply": "2023-04-11T08:14:45.947108Z"
    },
    "papermill": {
     "duration": 0.035656,
     "end_time": "2023-04-11T08:14:45.951648",
     "exception": false,
     "start_time": "2023-04-11T08:14:45.915992",
     "status": "completed"
    },
    "tags": []
   },
   "outputs": [
    {
     "name": "stdout",
     "output_type": "stream",
     "text": [
      "Cluster 0\n",
      "count     6.000000\n",
      "mean     58.683333\n",
      "std       1.650959\n",
      "min      56.700000\n",
      "25%      57.725000\n",
      "50%      58.600000\n",
      "75%      59.100000\n",
      "max      61.500000\n",
      "Name: Subscribers, dtype: float64\n",
      "\n",
      "Cluster 1\n",
      "count      2.00000\n",
      "mean     116.50000\n",
      "std        2.12132\n",
      "min      115.00000\n",
      "25%      115.75000\n",
      "50%      116.50000\n",
      "75%      117.25000\n",
      "max      118.00000\n",
      "Name: Subscribers, dtype: float64\n",
      "\n",
      "Cluster 2\n",
      "count      1.0\n",
      "mean     193.0\n",
      "std        NaN\n",
      "min      193.0\n",
      "25%      193.0\n",
      "50%      193.0\n",
      "75%      193.0\n",
      "max      193.0\n",
      "Name: Subscribers, dtype: float64\n",
      "\n",
      "Cluster 3\n",
      "count    17.000000\n",
      "mean     42.829412\n",
      "std       1.506139\n",
      "min      40.000000\n",
      "25%      41.900000\n",
      "50%      43.000000\n",
      "75%      43.800000\n",
      "max      45.200000\n",
      "Name: Subscribers, dtype: float64\n",
      "\n",
      "Cluster 4\n",
      "count     2.000000\n",
      "mean     82.650000\n",
      "std       1.202082\n",
      "min      81.800000\n",
      "25%      82.225000\n",
      "50%      82.650000\n",
      "75%      83.075000\n",
      "max      83.500000\n",
      "Name: Subscribers, dtype: float64\n",
      "\n",
      "Cluster 5\n",
      "count     4.000000\n",
      "mean     66.725000\n",
      "std       2.255918\n",
      "min      64.800000\n",
      "25%      65.175000\n",
      "50%      66.150000\n",
      "75%      67.700000\n",
      "max      69.800000\n",
      "Name: Subscribers, dtype: float64\n",
      "\n",
      "Cluster 6\n",
      "count     5.000000\n",
      "mean     53.400000\n",
      "std       1.617096\n",
      "min      51.500000\n",
      "25%      52.000000\n",
      "50%      53.900000\n",
      "75%      54.200000\n",
      "max      55.400000\n",
      "Name: Subscribers, dtype: float64\n",
      "\n",
      "Cluster 7\n",
      "count     8.000000\n",
      "mean     47.575000\n",
      "std       1.554487\n",
      "min      45.500000\n",
      "25%      46.325000\n",
      "50%      47.600000\n",
      "75%      48.925000\n",
      "max      49.700000\n",
      "Name: Subscribers, dtype: float64\n",
      "\n",
      "Cluster 8\n",
      "count      1.0\n",
      "mean     110.0\n",
      "std        NaN\n",
      "min      110.0\n",
      "25%      110.0\n",
      "50%      110.0\n",
      "75%      110.0\n",
      "max      110.0\n",
      "Name: Subscribers, dtype: float64\n",
      "\n",
      "Cluster 9\n",
      "count     4.000000\n",
      "mean     74.975000\n",
      "std       2.354251\n",
      "min      72.300000\n",
      "25%      73.350000\n",
      "50%      75.250000\n",
      "75%      76.875000\n",
      "max      77.100000\n",
      "Name: Subscribers, dtype: float64\n",
      "\n"
     ]
    }
   ],
   "source": [
    "for i in range(n_clusters):\n",
    "    print('Cluster', i)\n",
    "    print(df[df['Cluster'] == i]['Subscribers'].describe())\n",
    "    print()"
   ]
  },
  {
   "cell_type": "code",
   "execution_count": null,
   "id": "b74599ae",
   "metadata": {},
   "outputs": [],
   "source": []
  }
 ],
 "metadata": {
  "kernelspec": {
   "display_name": "Python 3 (ipykernel)",
   "language": "python",
   "name": "python3"
  },
  "language_info": {
   "codemirror_mode": {
    "name": "ipython",
    "version": 3
   },
   "file_extension": ".py",
   "mimetype": "text/x-python",
   "name": "python",
   "nbconvert_exporter": "python",
   "pygments_lexer": "ipython3",
   "version": "3.9.13"
  },
  "papermill": {
   "default_parameters": {},
   "duration": 18.19125,
   "end_time": "2023-04-11T08:14:46.890025",
   "environment_variables": {},
   "exception": null,
   "input_path": "__notebook__.ipynb",
   "output_path": "__notebook__.ipynb",
   "parameters": {},
   "start_time": "2023-04-11T08:14:28.698775",
   "version": "2.4.0"
  }
 },
 "nbformat": 4,
 "nbformat_minor": 5
}
